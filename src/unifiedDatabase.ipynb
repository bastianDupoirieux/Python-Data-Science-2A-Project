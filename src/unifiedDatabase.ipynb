{
 "cells": [
  {
   "cell_type": "markdown",
   "id": "bcfcb4e6",
   "metadata": {},
   "source": [
    "# Creating two unified databases, with only the necessary information"
   ]
  },
  {
   "cell_type": "markdown",
   "id": "293095e2",
   "metadata": {},
   "source": [
    "We are going to create a database with the largest train stations in each country of interest. \n",
    "\n",
    "These countries are France, Belgium, Switzerland, Germany and Austria. Furthermore, we can look at the trains in other parts of Europe aswell"
   ]
  },
  {
   "cell_type": "markdown",
   "id": "81fc0707",
   "metadata": {},
   "source": [
    "We'll use a webscraping method to collect the information on a country, and save the list of cities we'll consider in a dictionary"
   ]
  },
  {
   "cell_type": "code",
   "execution_count": null,
   "id": "631a6f5f",
   "metadata": {},
   "outputs": [],
   "source": [
    "!pip install openpyxl\n",
    "!pip install pandas fiona shapely pyproj rtree \n",
    "!pip install geopandas\n",
    "!pip install folium\n",
    "\n",
    "\"Libraries Import\"\n",
    "import geopandas as gpd\n",
    "import contextily as ctx\n",
    "import matplotlib.pyplot as plt\n",
    "import pandas as pd"
   ]
  },
  {
   "cell_type": "code",
   "execution_count": null,
   "id": "49e9d2e6",
   "metadata": {},
   "outputs": [],
   "source": []
  },
  {
   "cell_type": "code",
   "execution_count": 1,
   "id": "28f71bd8",
   "metadata": {},
   "outputs": [],
   "source": [
    "import pandas as pd\n",
    "import geopandas as gpd\n",
    "import countriesAndCities\n",
    "import dataGathering"
   ]
  },
  {
   "cell_type": "markdown",
   "id": "50054ca6",
   "metadata": {},
   "source": [
    "We will create a dictionary for Austria and Germany, containing each countries' largest train stations, based on these two links"
   ]
  },
  {
   "cell_type": "code",
   "execution_count": 5,
   "id": "bb9c8319",
   "metadata": {},
   "outputs": [],
   "source": [
    "largestStations = dict()\n",
    "\n",
    "urlGermany = 'https://bahnauskunft.info/bahnhoefe-deutschland/'\n",
    "urlAustria = 'https://www.omio.at/bahnhoefe'"
   ]
  },
  {
   "cell_type": "markdown",
   "id": "dd168ffc",
   "metadata": {},
   "source": [
    "At the same time, we will have to change certain dictionary keys. As such, we can create a function that does exactly this."
   ]
  },
  {
   "cell_type": "code",
   "execution_count": 3,
   "id": "6072edab",
   "metadata": {},
   "outputs": [],
   "source": [
    "def changeKeys(country, valueToChange, newValue):\n",
    "    '''A method that takes the keys for a country in the largestStations dictionary, and replacey certain values\n",
    "     @param country: the country with a value to change, of type string\n",
    "     @param valueToChange: the value in the key to change\n",
    "     @param newValue: the new value in the key\n",
    "     @return largestStations: a dictionary with the information, of type dict'''\n",
    "    listKeys = list(largestStations[country].keys())\n",
    "    oldKeys = []\n",
    "    for i in range (len(listKeys)):\n",
    "        station = listKeys[i]\n",
    "        if valueToChange in listKeys[i]:\n",
    "            oldKey = station\n",
    "            oldKeys.append(oldKey)\n",
    "            newKey = station.replace(valueToChange, '') + newValue\n",
    "            largestStations[country][newKey] = largestStations[country][oldKey]\n",
    "    \n",
    "    for station in oldKeys:\n",
    "        largestStations[country].pop(station)\n",
    "    \n",
    "    return(largestStations)"
   ]
  },
  {
   "cell_type": "markdown",
   "id": "9f49010e",
   "metadata": {},
   "source": [
    "# 1. Germany"
   ]
  },
  {
   "cell_type": "markdown",
   "id": "9b4bcb18",
   "metadata": {},
   "source": [
    "We'll start by getting the different relevant cities for Germany, and then working on the different geojson files to create a relevant database"
   ]
  },
  {
   "cell_type": "code",
   "execution_count": 6,
   "id": "11e762ed",
   "metadata": {},
   "outputs": [],
   "source": [
    "largestStations['Germany'] = dataGathering.gather(urlGermany)"
   ]
  },
  {
   "cell_type": "code",
   "execution_count": 7,
   "id": "505265ae",
   "metadata": {},
   "outputs": [
    {
     "data": {
      "text/plain": [
       "{'Germany': {'Hamburg Hauptbahnhof': ['537.000', '12'],\n",
       "  'Frankfurt (Main) Hauptbahnhof': ['493.000', '29'],\n",
       "  'München Hauptbahnhof': ['413.000', '34'],\n",
       "  'Berlin Hauptbahnhof': ['329.000', '14'],\n",
       "  'Köln Hauptbahnhof': ['318.000', '11'],\n",
       "  'Hannover Hauptbahnhof': ['261.000', '12'],\n",
       "  'Stuttgart Hauptbahnhof': ['255.000', '19'],\n",
       "  'Düsseldorf Hauptbahnhof': ['246.000', '16'],\n",
       "  'Nürnberg Hauptbahnhof': ['210.000', '22'],\n",
       "  'Essen Hauptbahnhof': ['152.000', '13'],\n",
       "  'Bremen Hauptbahnhof': ['147.000', '9'],\n",
       "  'Duisburg Hauptbahnhof': ['130.000', '12'],\n",
       "  'Leipzig Hauptbahnhof': ['135.000', '23'],\n",
       "  'Dortmund Hauptbahnhof': ['123.000', '16'],\n",
       "  'Mannheim Hauptbahnhof': ['118.000', '11']}}"
      ]
     },
     "execution_count": 7,
     "metadata": {},
     "output_type": "execute_result"
    }
   ],
   "source": [
    "largestStations"
   ]
  },
  {
   "cell_type": "markdown",
   "id": "91691c10",
   "metadata": {},
   "source": [
    "The deutsche Bahn's database uses 'Hbf' instead of 'Hauptbahnhof' so we must change the key"
   ]
  },
  {
   "cell_type": "code",
   "execution_count": 8,
   "id": "6f41fe20",
   "metadata": {},
   "outputs": [],
   "source": [
    "largestStations = changeKeys('Germany', 'Hauptbahnhof', 'Hbf')"
   ]
  },
  {
   "cell_type": "markdown",
   "id": "10d2df83",
   "metadata": {},
   "source": [
    "# 1.1. Stations"
   ]
  },
  {
   "cell_type": "markdown",
   "id": "8e73c91e",
   "metadata": {},
   "source": [
    "We'll start by creating a database of all stations in the selected cities"
   ]
  },
  {
   "cell_type": "code",
   "execution_count": null,
   "id": "eec5d5ff",
   "metadata": {},
   "outputs": [],
   "source": [
    "stations = 'Germany/railwayStationNodes.geojson'\n",
    "\n",
    "deutscheBahnStations = gpd.read_file(stations)"
   ]
  },
  {
   "cell_type": "code",
   "execution_count": null,
   "id": "b1383cbb",
   "metadata": {},
   "outputs": [],
   "source": [
    "deutscheBahnStations.columns"
   ]
  },
  {
   "cell_type": "markdown",
   "id": "895ffe58",
   "metadata": {},
   "source": [
    "We can start by dropping the column containing the nature of the node, and the index of the node"
   ]
  },
  {
   "cell_type": "code",
   "execution_count": null,
   "id": "ea2884e2",
   "metadata": {},
   "outputs": [],
   "source": [
    "deutscheBahnStations = deutscheBahnStations.drop('formOfNode', axis = 1)\n",
    "deutscheBahnStations = deutscheBahnStations.drop('id', axis = 1)"
   ]
  },
  {
   "cell_type": "code",
   "execution_count": null,
   "id": "74375435",
   "metadata": {},
   "outputs": [],
   "source": [
    "deutscheBahnStations"
   ]
  },
  {
   "cell_type": "markdown",
   "id": "16db38e3",
   "metadata": {},
   "source": [
    "We check, for every single row, if the name of the station is located in one of the select few cities. The name of the station is the third value (index 2) of each row\n",
    "Furthermore, we check that there is space after the name of each city, as to avoid other cities with street names (as in Berlin -> Berliner)."
   ]
  },
  {
   "cell_type": "markdown",
   "id": "764a6527",
   "metadata": {},
   "source": [
    "We are going to select every line containing data on a station in one of the cities, and concatenate every one of these separate dataframe"
   ]
  },
  {
   "cell_type": "code",
   "execution_count": null,
   "id": "9cdb2893",
   "metadata": {},
   "outputs": [],
   "source": [
    "dfListStations = []\n",
    "for station in (list(largestStations['Germany'].keys())):\n",
    "    tempFrame = deutscheBahnStations.loc[deutscheBahnStations['geographicalName'] == station]\n",
    "    dfListStations.append(tempFrame)"
   ]
  },
  {
   "cell_type": "markdown",
   "id": "cd39d6bc",
   "metadata": {},
   "source": [
    "We define the geodataframe with the chosen coordinate system, EPSG:4258 (documentation available at https://www.geoportal.de/Metadata/55134453-193d-47ea-9b20-0f7016702c91, in german)"
   ]
  },
  {
   "cell_type": "code",
   "execution_count": null,
   "id": "e392784b",
   "metadata": {},
   "outputs": [],
   "source": [
    "workFrameStations = gpd.GeoDataFrame(pd.concat(dfListStations, ignore_index=True), crs=4258)"
   ]
  },
  {
   "cell_type": "code",
   "execution_count": null,
   "id": "89bd8911",
   "metadata": {},
   "outputs": [],
   "source": [
    "workFrameStations"
   ]
  },
  {
   "cell_type": "markdown",
   "id": "a046f09f",
   "metadata": {},
   "source": [
    "Certain nodes are the same station. We will keep a single occurence of every station, based on the railwayStationCode variable"
   ]
  },
  {
   "cell_type": "code",
   "execution_count": null,
   "id": "5393e946",
   "metadata": {},
   "outputs": [],
   "source": [
    "workFrameStations = workFrameStations.drop_duplicates(subset='railwayStationCode')"
   ]
  },
  {
   "cell_type": "code",
   "execution_count": null,
   "id": "cbac0256",
   "metadata": {},
   "outputs": [],
   "source": [
    "workFrameStations"
   ]
  },
  {
   "cell_type": "markdown",
   "id": "5d63beed",
   "metadata": {},
   "source": [
    "Finally, we can add a column, indicating that every value in this geodataframe is located in Germany"
   ]
  },
  {
   "cell_type": "code",
   "execution_count": null,
   "id": "b1e87190",
   "metadata": {},
   "outputs": [],
   "source": [
    "workFrameStations.insert(0, 'country', ['Germany']*len(workFrameStations))"
   ]
  },
  {
   "cell_type": "code",
   "execution_count": null,
   "id": "a9a95e1c",
   "metadata": {},
   "outputs": [],
   "source": [
    "workFrameStations"
   ]
  },
  {
   "cell_type": "markdown",
   "id": "11bddea6",
   "metadata": {},
   "source": [
    "# 1.2. Lines"
   ]
  },
  {
   "cell_type": "markdown",
   "id": "b8cb2d44",
   "metadata": {},
   "source": [
    "We can do the exact same thing the dataframe of the different train lines"
   ]
  },
  {
   "cell_type": "code",
   "execution_count": null,
   "id": "0705d091",
   "metadata": {},
   "outputs": [],
   "source": [
    "deutscheBahnLines = gpd.read_file('Germany/railwayLines.geojson')"
   ]
  },
  {
   "cell_type": "code",
   "execution_count": null,
   "id": "6b81feae",
   "metadata": {},
   "outputs": [],
   "source": [
    "deutscheBahnLines"
   ]
  },
  {
   "cell_type": "markdown",
   "id": "7434a7a2",
   "metadata": {},
   "source": [
    "We can drop any railway line that doesn't start or end in one of our selected cities, i.e. create a new dataframe, with the lines that start or end in one of these cities"
   ]
  },
  {
   "cell_type": "code",
   "execution_count": null,
   "id": "ac36d072",
   "metadata": {},
   "outputs": [],
   "source": [
    "dfListLines = []\n",
    "for station in (list(largestStations['Germany'].keys())):\n",
    "    tempFrameLines = deutscheBahnLines.loc[deutscheBahnLines['geographicalName'].str.contains(city + ' ')]\n",
    "    dfListLines.append(tempFrameLines)"
   ]
  },
  {
   "cell_type": "code",
   "execution_count": null,
   "id": "cd8accc8",
   "metadata": {},
   "outputs": [],
   "source": [
    "workFrameLines = gpd.GeoDataFrame(pd.concat(dfListLines, ignore_index = True), crs = 4258)"
   ]
  },
  {
   "cell_type": "code",
   "execution_count": null,
   "id": "8d1d3a2e",
   "metadata": {},
   "outputs": [],
   "source": [
    "workFrameLines"
   ]
  },
  {
   "cell_type": "markdown",
   "id": "9af43972",
   "metadata": {},
   "source": [
    "And drop the duplicate lines"
   ]
  },
  {
   "cell_type": "code",
   "execution_count": null,
   "id": "a0f1759c",
   "metadata": {},
   "outputs": [],
   "source": [
    "workFrameLines = workFrameLines.drop_duplicates(subset='railwayLineCode')"
   ]
  },
  {
   "cell_type": "code",
   "execution_count": null,
   "id": "09fb6832",
   "metadata": {},
   "outputs": [],
   "source": [
    "workFrameLines"
   ]
  },
  {
   "cell_type": "markdown",
   "id": "e518bb35",
   "metadata": {},
   "source": [
    "Furthermore, we can drop the line id column"
   ]
  },
  {
   "cell_type": "code",
   "execution_count": null,
   "id": "d7fd9fd6",
   "metadata": {},
   "outputs": [],
   "source": [
    "workFrameLines = workFrameLines.drop('id', axis=1)"
   ]
  },
  {
   "cell_type": "code",
   "execution_count": null,
   "id": "e302688a",
   "metadata": {},
   "outputs": [],
   "source": [
    "workFrameLines"
   ]
  },
  {
   "cell_type": "markdown",
   "id": "c4188fb2",
   "metadata": {},
   "source": [
    "Add a column indicating that these lines are located in Germany"
   ]
  },
  {
   "cell_type": "code",
   "execution_count": null,
   "id": "b7008ea2",
   "metadata": {},
   "outputs": [],
   "source": [
    "workFrameLines.insert(0, 'country', ['Germany']*len(workFrameLines))"
   ]
  },
  {
   "cell_type": "code",
   "execution_count": null,
   "id": "8425bbdf",
   "metadata": {},
   "outputs": [],
   "source": [
    "workFrameLines"
   ]
  },
  {
   "cell_type": "markdown",
   "id": "4ffd55a0",
   "metadata": {},
   "source": [
    "# 2. Austria"
   ]
  },
  {
   "cell_type": "markdown",
   "id": "4e17a511",
   "metadata": {},
   "source": [
    "We now have a database with the different stations and lines in Germany. We will now add the values for Austria to this database."
   ]
  },
  {
   "cell_type": "code",
   "execution_count": 17,
   "id": "e8b8f96f",
   "metadata": {},
   "outputs": [],
   "source": [
    "largestStations['Austria'] = dataGathering.gather(urlAustria, start = 1)"
   ]
  },
  {
   "cell_type": "code",
   "execution_count": 18,
   "id": "6233d43d",
   "metadata": {},
   "outputs": [
    {
     "data": {
      "text/plain": [
       "{'Germany': {'Hamburg Hbf': ['537.000', '12'],\n",
       "  'Frankfurt (Main) Hbf': ['493.000', '29'],\n",
       "  'München Hbf': ['413.000', '34'],\n",
       "  'Berlin Hbf': ['329.000', '14'],\n",
       "  'Köln Hbf': ['318.000', '11'],\n",
       "  'Hannover Hbf': ['261.000', '12'],\n",
       "  'Stuttgart Hbf': ['255.000', '19'],\n",
       "  'Düsseldorf Hbf': ['246.000', '16'],\n",
       "  'Nürnberg Hbf': ['210.000', '22'],\n",
       "  'Essen Hbf': ['152.000', '13'],\n",
       "  'Bremen Hbf': ['147.000', '9'],\n",
       "  'Duisburg Hbf': ['130.000', '12'],\n",
       "  'Leipzig Hbf': ['135.000', '23'],\n",
       "  'Dortmund Hbf': ['123.000', '16'],\n",
       "  'Mannheim Hbf': ['118.000', '11']},\n",
       " 'Austria': {'Wien Hbf': ['268.000', '16'],\n",
       "  'Wien Westbahnhof': ['43.000', '11'],\n",
       "  'Innsbruck Hbf': ['34.000', '11'],\n",
       "  'Linz Hbf': ['30.000', '14'],\n",
       "  'Graz Hbf': ['30.000', '11'],\n",
       "  'Salzburg Hbf': ['25.000', '10']}}"
      ]
     },
     "execution_count": 18,
     "metadata": {},
     "output_type": "execute_result"
    }
   ],
   "source": [
    "largestStations"
   ]
  },
  {
   "cell_type": "markdown",
   "id": "7413a717",
   "metadata": {},
   "source": [
    "This database does the exact opposite of the German database. It uses 'Hauptbahnhof', whereas we had values with 'Hbf'"
   ]
  },
  {
   "cell_type": "code",
   "execution_count": null,
   "id": "935ab9c7",
   "metadata": {},
   "outputs": [],
   "source": [
    "largestStations = changeKeys('Austria', 'Hbf', 'Hauptbahnhof')"
   ]
  },
  {
   "cell_type": "markdown",
   "id": "ef535562",
   "metadata": {},
   "source": [
    "# 2.1. Stations"
   ]
  },
  {
   "cell_type": "code",
   "execution_count": 9,
   "id": "578e9868",
   "metadata": {},
   "outputs": [],
   "source": [
    "stationsAustria = 'Austria/GIP_Betriebsstellen_DelEUV_JSON.json'\n",
    "stationsAustriaFrame = gpd.read_file(stationsAustria)"
   ]
  },
  {
   "cell_type": "code",
   "execution_count": 10,
   "id": "4d3bf89e",
   "metadata": {},
   "outputs": [
    {
     "data": {
      "text/html": [
       "<div>\n",
       "<style scoped>\n",
       "    .dataframe tbody tr th:only-of-type {\n",
       "        vertical-align: middle;\n",
       "    }\n",
       "\n",
       "    .dataframe tbody tr th {\n",
       "        vertical-align: top;\n",
       "    }\n",
       "\n",
       "    .dataframe thead th {\n",
       "        text-align: right;\n",
       "    }\n",
       "</style>\n",
       "<table border=\"1\" class=\"dataframe\">\n",
       "  <thead>\n",
       "    <tr style=\"text-align: right;\">\n",
       "      <th></th>\n",
       "      <th>BSTS_ID</th>\n",
       "      <th>DB640_CODE</th>\n",
       "      <th>OBJECTID</th>\n",
       "      <th>GIP_OBID</th>\n",
       "      <th>EXTERNALID</th>\n",
       "      <th>REGIONALCO</th>\n",
       "      <th>VALIDFROM</th>\n",
       "      <th>VALIDTO</th>\n",
       "      <th>OWNER_NAME</th>\n",
       "      <th>NAME_FPL</th>\n",
       "      <th>...</th>\n",
       "      <th>MUEZ_KURZ</th>\n",
       "      <th>HILFE_MOBI</th>\n",
       "      <th>ANZ_ROLLST</th>\n",
       "      <th>ANZ_E_LADE</th>\n",
       "      <th>RUD_PARKPL</th>\n",
       "      <th>VERIFIZIER</th>\n",
       "      <th>PUBL_WLAN</th>\n",
       "      <th>MUEZ_LANG</th>\n",
       "      <th>BEMERKUNG</th>\n",
       "      <th>geometry</th>\n",
       "    </tr>\n",
       "  </thead>\n",
       "  <tbody>\n",
       "    <tr>\n",
       "      <th>0</th>\n",
       "      <td>2082</td>\n",
       "      <td>Ssl</td>\n",
       "      <td>32</td>\n",
       "      <td>15532449605</td>\n",
       "      <td>bstsid:2082</td>\n",
       "      <td>AT2</td>\n",
       "      <td>20201213000000</td>\n",
       "      <td>20211211000000</td>\n",
       "      <td>ÖBB Infrastruktur</td>\n",
       "      <td>St. Stefan im Lavanttal</td>\n",
       "      <td>...</td>\n",
       "      <td>3</td>\n",
       "      <td>Nein</td>\n",
       "      <td>0</td>\n",
       "      <td>0</td>\n",
       "      <td>Nein</td>\n",
       "      <td>Nein</td>\n",
       "      <td>Nein</td>\n",
       "      <td>None</td>\n",
       "      <td>None</td>\n",
       "      <td>POINT (14.84242 46.80693)</td>\n",
       "    </tr>\n",
       "    <tr>\n",
       "      <th>1</th>\n",
       "      <td>64</td>\n",
       "      <td>An</td>\n",
       "      <td>33</td>\n",
       "      <td>15532449608</td>\n",
       "      <td>bstsid:64</td>\n",
       "      <td>AT2</td>\n",
       "      <td>20201213000000</td>\n",
       "      <td>20211211000000</td>\n",
       "      <td>ÖBB Infrastruktur</td>\n",
       "      <td>St. Andrä im Lavanttal</td>\n",
       "      <td>...</td>\n",
       "      <td>3</td>\n",
       "      <td>Nein</td>\n",
       "      <td>0</td>\n",
       "      <td>0</td>\n",
       "      <td>Nein</td>\n",
       "      <td>Nein</td>\n",
       "      <td>Nein</td>\n",
       "      <td>None</td>\n",
       "      <td>None</td>\n",
       "      <td>POINT (14.83744 46.76271)</td>\n",
       "    </tr>\n",
       "    <tr>\n",
       "      <th>2</th>\n",
       "      <td>403</td>\n",
       "      <td>Fas</td>\n",
       "      <td>34</td>\n",
       "      <td>15532449611</td>\n",
       "      <td>bstsid:403</td>\n",
       "      <td>AT2</td>\n",
       "      <td>20201213000000</td>\n",
       "      <td>20211211000000</td>\n",
       "      <td>ÖBB Infrastruktur</td>\n",
       "      <td>Faak am See</td>\n",
       "      <td>...</td>\n",
       "      <td>3</td>\n",
       "      <td>Nein</td>\n",
       "      <td>0</td>\n",
       "      <td>0</td>\n",
       "      <td>Nein</td>\n",
       "      <td>Nein</td>\n",
       "      <td>Nein</td>\n",
       "      <td>None</td>\n",
       "      <td>None</td>\n",
       "      <td>POINT (13.90901 46.56449)</td>\n",
       "    </tr>\n",
       "    <tr>\n",
       "      <th>3</th>\n",
       "      <td>2337</td>\n",
       "      <td>Vu  H1</td>\n",
       "      <td>37</td>\n",
       "      <td>15532449620</td>\n",
       "      <td>bstsid:2337</td>\n",
       "      <td>AT2</td>\n",
       "      <td>20201213000000</td>\n",
       "      <td>20211211000000</td>\n",
       "      <td>ÖBB Infrastruktur</td>\n",
       "      <td>Gödersdorf</td>\n",
       "      <td>...</td>\n",
       "      <td>3</td>\n",
       "      <td>Nein</td>\n",
       "      <td>0</td>\n",
       "      <td>0</td>\n",
       "      <td>Nein</td>\n",
       "      <td>Nein</td>\n",
       "      <td>Nein</td>\n",
       "      <td>None</td>\n",
       "      <td>None</td>\n",
       "      <td>POINT (13.84352 46.56849)</td>\n",
       "    </tr>\n",
       "    <tr>\n",
       "      <th>4</th>\n",
       "      <td>2338</td>\n",
       "      <td>Vu  H2</td>\n",
       "      <td>38</td>\n",
       "      <td>15532449623</td>\n",
       "      <td>bstsid:2338</td>\n",
       "      <td>AT2</td>\n",
       "      <td>20201213000000</td>\n",
       "      <td>20211211000000</td>\n",
       "      <td>ÖBB Infrastruktur</td>\n",
       "      <td>Finkenstein</td>\n",
       "      <td>...</td>\n",
       "      <td>3</td>\n",
       "      <td>Nein</td>\n",
       "      <td>0</td>\n",
       "      <td>0</td>\n",
       "      <td>Nein</td>\n",
       "      <td>Nein</td>\n",
       "      <td>Nein</td>\n",
       "      <td>None</td>\n",
       "      <td>None</td>\n",
       "      <td>POINT (13.86439 46.56875)</td>\n",
       "    </tr>\n",
       "    <tr>\n",
       "      <th>...</th>\n",
       "      <td>...</td>\n",
       "      <td>...</td>\n",
       "      <td>...</td>\n",
       "      <td>...</td>\n",
       "      <td>...</td>\n",
       "      <td>...</td>\n",
       "      <td>...</td>\n",
       "      <td>...</td>\n",
       "      <td>...</td>\n",
       "      <td>...</td>\n",
       "      <td>...</td>\n",
       "      <td>...</td>\n",
       "      <td>...</td>\n",
       "      <td>...</td>\n",
       "      <td>...</td>\n",
       "      <td>...</td>\n",
       "      <td>...</td>\n",
       "      <td>...</td>\n",
       "      <td>...</td>\n",
       "      <td>...</td>\n",
       "      <td>...</td>\n",
       "    </tr>\n",
       "    <tr>\n",
       "      <th>1025</th>\n",
       "      <td>1074</td>\n",
       "      <td>Ko  H2</td>\n",
       "      <td>1088</td>\n",
       "      <td>15532741643</td>\n",
       "      <td>bstsid:1074</td>\n",
       "      <td>AT3</td>\n",
       "      <td>20201213000000</td>\n",
       "      <td>20211211000000</td>\n",
       "      <td>ÖBB Infrastruktur</td>\n",
       "      <td>Spillern</td>\n",
       "      <td>...</td>\n",
       "      <td>3</td>\n",
       "      <td>Nein</td>\n",
       "      <td>0</td>\n",
       "      <td>0</td>\n",
       "      <td>Nein</td>\n",
       "      <td>Nein</td>\n",
       "      <td>Nein</td>\n",
       "      <td>None</td>\n",
       "      <td>None</td>\n",
       "      <td>POINT (16.25258 48.37603)</td>\n",
       "    </tr>\n",
       "    <tr>\n",
       "      <th>1026</th>\n",
       "      <td>5267955</td>\n",
       "      <td>Mun H1</td>\n",
       "      <td>1089</td>\n",
       "      <td>15532741646</td>\n",
       "      <td>bstsid:5267955</td>\n",
       "      <td>AT4</td>\n",
       "      <td>20201213000000</td>\n",
       "      <td>20211211000000</td>\n",
       "      <td>ÖBB Infrastruktur</td>\n",
       "      <td>Schalchen-Mattighofen</td>\n",
       "      <td>...</td>\n",
       "      <td>3</td>\n",
       "      <td>Nein</td>\n",
       "      <td>0</td>\n",
       "      <td>0</td>\n",
       "      <td>Nein</td>\n",
       "      <td>Nein</td>\n",
       "      <td>Nein</td>\n",
       "      <td>None</td>\n",
       "      <td>None</td>\n",
       "      <td>POINT (13.15906 48.09566)</td>\n",
       "    </tr>\n",
       "    <tr>\n",
       "      <th>1027</th>\n",
       "      <td>5275915</td>\n",
       "      <td>Ob  H1H</td>\n",
       "      <td>1090</td>\n",
       "      <td>15532741649</td>\n",
       "      <td>bstsid:5275915</td>\n",
       "      <td>AT4</td>\n",
       "      <td>20201213000000</td>\n",
       "      <td>20211211000000</td>\n",
       "      <td>ÖBB Infrastruktur</td>\n",
       "      <td>Oberland</td>\n",
       "      <td>...</td>\n",
       "      <td>3</td>\n",
       "      <td>Nein</td>\n",
       "      <td>0</td>\n",
       "      <td>0</td>\n",
       "      <td>Nein</td>\n",
       "      <td>Nein</td>\n",
       "      <td>Nein</td>\n",
       "      <td>None</td>\n",
       "      <td>None</td>\n",
       "      <td>POINT (14.74011 47.90194)</td>\n",
       "    </tr>\n",
       "    <tr>\n",
       "      <th>1028</th>\n",
       "      <td>5091980</td>\n",
       "      <td>Kts</td>\n",
       "      <td>1091</td>\n",
       "      <td>15532741652</td>\n",
       "      <td>bstsid:5091980</td>\n",
       "      <td>AT2</td>\n",
       "      <td>20201213000000</td>\n",
       "      <td>20211211000000</td>\n",
       "      <td>ÖBB Infrastruktur</td>\n",
       "      <td>Klagenfurt Süd</td>\n",
       "      <td>...</td>\n",
       "      <td>3</td>\n",
       "      <td>Nein</td>\n",
       "      <td>0</td>\n",
       "      <td>0</td>\n",
       "      <td>Nein</td>\n",
       "      <td>Nein</td>\n",
       "      <td>Nein</td>\n",
       "      <td>None</td>\n",
       "      <td>None</td>\n",
       "      <td>POINT (14.29839 46.61078)</td>\n",
       "    </tr>\n",
       "    <tr>\n",
       "      <th>1029</th>\n",
       "      <td>1586</td>\n",
       "      <td>Nw H2</td>\n",
       "      <td>1017</td>\n",
       "      <td>15532454846</td>\n",
       "      <td>bstsid:1586</td>\n",
       "      <td>AT9</td>\n",
       "      <td>20201213000000</td>\n",
       "      <td>20211211000000</td>\n",
       "      <td>ÖBB Infrastruktur</td>\n",
       "      <td>Wien Handelskai</td>\n",
       "      <td>...</td>\n",
       "      <td>3</td>\n",
       "      <td>Nein</td>\n",
       "      <td>0</td>\n",
       "      <td>0</td>\n",
       "      <td>Nein</td>\n",
       "      <td>Nein</td>\n",
       "      <td>Nein</td>\n",
       "      <td>None</td>\n",
       "      <td>None</td>\n",
       "      <td>POINT (16.38185 48.24221)</td>\n",
       "    </tr>\n",
       "  </tbody>\n",
       "</table>\n",
       "<p>1030 rows × 29 columns</p>\n",
       "</div>"
      ],
      "text/plain": [
       "      BSTS_ID DB640_CODE OBJECTID     GIP_OBID      EXTERNALID REGIONALCO  \\\n",
       "0        2082        Ssl       32  15532449605     bstsid:2082        AT2   \n",
       "1          64         An       33  15532449608       bstsid:64        AT2   \n",
       "2         403        Fas       34  15532449611      bstsid:403        AT2   \n",
       "3        2337     Vu  H1       37  15532449620     bstsid:2337        AT2   \n",
       "4        2338     Vu  H2       38  15532449623     bstsid:2338        AT2   \n",
       "...       ...        ...      ...          ...             ...        ...   \n",
       "1025     1074     Ko  H2     1088  15532741643     bstsid:1074        AT3   \n",
       "1026  5267955     Mun H1     1089  15532741646  bstsid:5267955        AT4   \n",
       "1027  5275915    Ob  H1H     1090  15532741649  bstsid:5275915        AT4   \n",
       "1028  5091980        Kts     1091  15532741652  bstsid:5091980        AT2   \n",
       "1029     1586      Nw H2     1017  15532454846     bstsid:1586        AT9   \n",
       "\n",
       "           VALIDFROM         VALIDTO         OWNER_NAME  \\\n",
       "0     20201213000000  20211211000000  ÖBB Infrastruktur   \n",
       "1     20201213000000  20211211000000  ÖBB Infrastruktur   \n",
       "2     20201213000000  20211211000000  ÖBB Infrastruktur   \n",
       "3     20201213000000  20211211000000  ÖBB Infrastruktur   \n",
       "4     20201213000000  20211211000000  ÖBB Infrastruktur   \n",
       "...              ...             ...                ...   \n",
       "1025  20201213000000  20211211000000  ÖBB Infrastruktur   \n",
       "1026  20201213000000  20211211000000  ÖBB Infrastruktur   \n",
       "1027  20201213000000  20211211000000  ÖBB Infrastruktur   \n",
       "1028  20201213000000  20211211000000  ÖBB Infrastruktur   \n",
       "1029  20201213000000  20211211000000  ÖBB Infrastruktur   \n",
       "\n",
       "                     NAME_FPL  ... MUEZ_KURZ HILFE_MOBI  ANZ_ROLLST  \\\n",
       "0     St. Stefan im Lavanttal  ...         3       Nein           0   \n",
       "1      St. Andrä im Lavanttal  ...         3       Nein           0   \n",
       "2                 Faak am See  ...         3       Nein           0   \n",
       "3                  Gödersdorf  ...         3       Nein           0   \n",
       "4                 Finkenstein  ...         3       Nein           0   \n",
       "...                       ...  ...       ...        ...         ...   \n",
       "1025                 Spillern  ...         3       Nein           0   \n",
       "1026    Schalchen-Mattighofen  ...         3       Nein           0   \n",
       "1027                 Oberland  ...         3       Nein           0   \n",
       "1028           Klagenfurt Süd  ...         3       Nein           0   \n",
       "1029          Wien Handelskai  ...         3       Nein           0   \n",
       "\n",
       "      ANZ_E_LADE  RUD_PARKPL  VERIFIZIER  PUBL_WLAN MUEZ_LANG BEMERKUNG  \\\n",
       "0              0        Nein        Nein       Nein      None      None   \n",
       "1              0        Nein        Nein       Nein      None      None   \n",
       "2              0        Nein        Nein       Nein      None      None   \n",
       "3              0        Nein        Nein       Nein      None      None   \n",
       "4              0        Nein        Nein       Nein      None      None   \n",
       "...          ...         ...         ...        ...       ...       ...   \n",
       "1025           0        Nein        Nein       Nein      None      None   \n",
       "1026           0        Nein        Nein       Nein      None      None   \n",
       "1027           0        Nein        Nein       Nein      None      None   \n",
       "1028           0        Nein        Nein       Nein      None      None   \n",
       "1029           0        Nein        Nein       Nein      None      None   \n",
       "\n",
       "                       geometry  \n",
       "0     POINT (14.84242 46.80693)  \n",
       "1     POINT (14.83744 46.76271)  \n",
       "2     POINT (13.90901 46.56449)  \n",
       "3     POINT (13.84352 46.56849)  \n",
       "4     POINT (13.86439 46.56875)  \n",
       "...                         ...  \n",
       "1025  POINT (16.25258 48.37603)  \n",
       "1026  POINT (13.15906 48.09566)  \n",
       "1027  POINT (14.74011 47.90194)  \n",
       "1028  POINT (14.29839 46.61078)  \n",
       "1029  POINT (16.38185 48.24221)  \n",
       "\n",
       "[1030 rows x 29 columns]"
      ]
     },
     "execution_count": 10,
     "metadata": {},
     "output_type": "execute_result"
    }
   ],
   "source": [
    "stationsAustriaFrame"
   ]
  },
  {
   "cell_type": "code",
   "execution_count": 11,
   "id": "fbd23873",
   "metadata": {},
   "outputs": [
    {
     "data": {
      "text/plain": [
       "Index(['BSTS_ID', 'DB640_CODE', 'OBJECTID', 'GIP_OBID', 'EXTERNALID',\n",
       "       'REGIONALCO', 'VALIDFROM', 'VALIDTO', 'OWNER_NAME', 'NAME_FPL',\n",
       "       'IFOPT_NR', 'PV_EVA_NR', 'ANZ_AUFZUG', 'ANZ_FAHRTR', 'ANZ_UHREN',\n",
       "       'ANZ_AKUSTI', 'ANZ_OPTISC', 'INFOPOINT', 'MUEZ', 'MUEZ_KURZ',\n",
       "       'HILFE_MOBI', 'ANZ_ROLLST', 'ANZ_E_LADE', 'RUD_PARKPL', 'VERIFIZIER',\n",
       "       'PUBL_WLAN', 'MUEZ_LANG', 'BEMERKUNG', 'geometry'],\n",
       "      dtype='object')"
      ]
     },
     "execution_count": 11,
     "metadata": {},
     "output_type": "execute_result"
    }
   ],
   "source": [
    "stationsAustriaFrame.columns"
   ]
  },
  {
   "cell_type": "markdown",
   "id": "5282bcac",
   "metadata": {},
   "source": [
    "Quite a few columns here are useless. We can remove these columns"
   ]
  },
  {
   "cell_type": "code",
   "execution_count": 12,
   "id": "e990f4d7",
   "metadata": {},
   "outputs": [],
   "source": [
    "columnsToRemove = ['BSTS_ID', 'DB640_CODE', 'OBJECTID', 'GIP_OBID', 'EXTERNALID', 'REGIONALCO', 'VALIDFROM', 'VALIDTO', 'OWNER_NAME', 'PV_EVA_NR', 'ANZ_AUFZUG', 'ANZ_FAHRTR', 'ANZ_UHREN',\n",
    "                  'ANZ_AKUSTI','ANZ_OPTISC', 'INFOPOINT', 'MUEZ', 'MUEZ_KURZ', 'HILFE_MOBI', 'ANZ_ROLLST', 'ANZ_E_LADE', 'RUD_PARKPL', 'VERIFIZIER',\n",
    "                  'PUBL_WLAN', 'MUEZ_LANG', 'BEMERKUNG']"
   ]
  },
  {
   "cell_type": "code",
   "execution_count": 13,
   "id": "20a75e0a",
   "metadata": {},
   "outputs": [],
   "source": [
    "for column in columnsToRemove:\n",
    "    stationsAustriaFrame = stationsAustriaFrame.drop(column, axis=1)"
   ]
  },
  {
   "cell_type": "code",
   "execution_count": 14,
   "id": "397e11a9",
   "metadata": {},
   "outputs": [
    {
     "data": {
      "text/html": [
       "<div>\n",
       "<style scoped>\n",
       "    .dataframe tbody tr th:only-of-type {\n",
       "        vertical-align: middle;\n",
       "    }\n",
       "\n",
       "    .dataframe tbody tr th {\n",
       "        vertical-align: top;\n",
       "    }\n",
       "\n",
       "    .dataframe thead th {\n",
       "        text-align: right;\n",
       "    }\n",
       "</style>\n",
       "<table border=\"1\" class=\"dataframe\">\n",
       "  <thead>\n",
       "    <tr style=\"text-align: right;\">\n",
       "      <th></th>\n",
       "      <th>NAME_FPL</th>\n",
       "      <th>IFOPT_NR</th>\n",
       "      <th>geometry</th>\n",
       "    </tr>\n",
       "  </thead>\n",
       "  <tbody>\n",
       "    <tr>\n",
       "      <th>0</th>\n",
       "      <td>St. Stefan im Lavanttal</td>\n",
       "      <td>at:42:3717</td>\n",
       "      <td>POINT (14.84242 46.80693)</td>\n",
       "    </tr>\n",
       "    <tr>\n",
       "      <th>1</th>\n",
       "      <td>St. Andrä im Lavanttal</td>\n",
       "      <td>at:42:3718</td>\n",
       "      <td>POINT (14.83744 46.76271)</td>\n",
       "    </tr>\n",
       "    <tr>\n",
       "      <th>2</th>\n",
       "      <td>Faak am See</td>\n",
       "      <td>at:42:2139</td>\n",
       "      <td>POINT (13.90901 46.56449)</td>\n",
       "    </tr>\n",
       "    <tr>\n",
       "      <th>3</th>\n",
       "      <td>Gödersdorf</td>\n",
       "      <td>at:42:2137</td>\n",
       "      <td>POINT (13.84352 46.56849)</td>\n",
       "    </tr>\n",
       "    <tr>\n",
       "      <th>4</th>\n",
       "      <td>Finkenstein</td>\n",
       "      <td>at:42:2138</td>\n",
       "      <td>POINT (13.86439 46.56875)</td>\n",
       "    </tr>\n",
       "    <tr>\n",
       "      <th>...</th>\n",
       "      <td>...</td>\n",
       "      <td>...</td>\n",
       "      <td>...</td>\n",
       "    </tr>\n",
       "    <tr>\n",
       "      <th>1025</th>\n",
       "      <td>Spillern</td>\n",
       "      <td>at:43:4814</td>\n",
       "      <td>POINT (16.25258 48.37603)</td>\n",
       "    </tr>\n",
       "    <tr>\n",
       "      <th>1026</th>\n",
       "      <td>Schalchen-Mattighofen</td>\n",
       "      <td>at:44:48315</td>\n",
       "      <td>POINT (13.15906 48.09566)</td>\n",
       "    </tr>\n",
       "    <tr>\n",
       "      <th>1027</th>\n",
       "      <td>Oberland</td>\n",
       "      <td>at:44:46900</td>\n",
       "      <td>POINT (14.74011 47.90194)</td>\n",
       "    </tr>\n",
       "    <tr>\n",
       "      <th>1028</th>\n",
       "      <td>Klagenfurt Süd</td>\n",
       "      <td>at:42:3842</td>\n",
       "      <td>POINT (14.29839 46.61078)</td>\n",
       "    </tr>\n",
       "    <tr>\n",
       "      <th>1029</th>\n",
       "      <td>Wien Handelskai</td>\n",
       "      <td>at:49:1705</td>\n",
       "      <td>POINT (16.38185 48.24221)</td>\n",
       "    </tr>\n",
       "  </tbody>\n",
       "</table>\n",
       "<p>1030 rows × 3 columns</p>\n",
       "</div>"
      ],
      "text/plain": [
       "                     NAME_FPL     IFOPT_NR                   geometry\n",
       "0     St. Stefan im Lavanttal   at:42:3717  POINT (14.84242 46.80693)\n",
       "1      St. Andrä im Lavanttal   at:42:3718  POINT (14.83744 46.76271)\n",
       "2                 Faak am See   at:42:2139  POINT (13.90901 46.56449)\n",
       "3                  Gödersdorf   at:42:2137  POINT (13.84352 46.56849)\n",
       "4                 Finkenstein   at:42:2138  POINT (13.86439 46.56875)\n",
       "...                       ...          ...                        ...\n",
       "1025                 Spillern   at:43:4814  POINT (16.25258 48.37603)\n",
       "1026    Schalchen-Mattighofen  at:44:48315  POINT (13.15906 48.09566)\n",
       "1027                 Oberland  at:44:46900  POINT (14.74011 47.90194)\n",
       "1028           Klagenfurt Süd   at:42:3842  POINT (14.29839 46.61078)\n",
       "1029          Wien Handelskai   at:49:1705  POINT (16.38185 48.24221)\n",
       "\n",
       "[1030 rows x 3 columns]"
      ]
     },
     "execution_count": 14,
     "metadata": {},
     "output_type": "execute_result"
    }
   ],
   "source": [
    "stationsAustriaFrame"
   ]
  },
  {
   "cell_type": "markdown",
   "id": "f6651c0c",
   "metadata": {},
   "source": [
    "We can now focus on retrieving the rows with information on the two cities of interest"
   ]
  },
  {
   "cell_type": "code",
   "execution_count": 15,
   "id": "8140a207",
   "metadata": {},
   "outputs": [
    {
     "ename": "KeyError",
     "evalue": "'Austria'",
     "output_type": "error",
     "traceback": [
      "\u001b[1;31m---------------------------------------------------------------------------\u001b[0m",
      "\u001b[1;31mKeyError\u001b[0m                                  Traceback (most recent call last)",
      "\u001b[1;32m~\\AppData\\Local\\Temp/ipykernel_6964/1715139389.py\u001b[0m in \u001b[0;36m<module>\u001b[1;34m\u001b[0m\n\u001b[0;32m      1\u001b[0m \u001b[0mdfStationsAustria\u001b[0m \u001b[1;33m=\u001b[0m \u001b[1;33m[\u001b[0m\u001b[1;33m]\u001b[0m\u001b[1;33m\u001b[0m\u001b[1;33m\u001b[0m\u001b[0m\n\u001b[1;32m----> 2\u001b[1;33m \u001b[1;32mfor\u001b[0m \u001b[0mstation\u001b[0m \u001b[1;32min\u001b[0m \u001b[0mlargestStations\u001b[0m\u001b[1;33m[\u001b[0m\u001b[1;34m'Austria'\u001b[0m\u001b[1;33m]\u001b[0m\u001b[1;33m:\u001b[0m\u001b[1;33m\u001b[0m\u001b[1;33m\u001b[0m\u001b[0m\n\u001b[0m\u001b[0;32m      3\u001b[0m     \u001b[0mtempFrame\u001b[0m \u001b[1;33m=\u001b[0m \u001b[0mstationsAustriaFrame\u001b[0m\u001b[1;33m.\u001b[0m\u001b[0mloc\u001b[0m\u001b[1;33m[\u001b[0m\u001b[0mstationsAustriaFrame\u001b[0m\u001b[1;33m[\u001b[0m\u001b[1;34m'NAME_FPL'\u001b[0m\u001b[1;33m]\u001b[0m \u001b[1;33m==\u001b[0m \u001b[0mstation\u001b[0m\u001b[1;33m]\u001b[0m\u001b[1;33m\u001b[0m\u001b[1;33m\u001b[0m\u001b[0m\n\u001b[0;32m      4\u001b[0m     \u001b[0mdfStationsAustria\u001b[0m\u001b[1;33m.\u001b[0m\u001b[0mappend\u001b[0m\u001b[1;33m(\u001b[0m\u001b[0mtempFrame\u001b[0m\u001b[1;33m)\u001b[0m\u001b[1;33m\u001b[0m\u001b[1;33m\u001b[0m\u001b[0m\n",
      "\u001b[1;31mKeyError\u001b[0m: 'Austria'"
     ]
    }
   ],
   "source": [
    "dfStationsAustria = []\n",
    "for station in largestStations['Austria']:\n",
    "    tempFrame = stationsAustriaFrame.loc[stationsAustriaFrame['NAME_FPL'] == station]\n",
    "    dfStationsAustria.append(tempFrame)"
   ]
  },
  {
   "cell_type": "code",
   "execution_count": null,
   "id": "19e4d6b1",
   "metadata": {},
   "outputs": [],
   "source": [
    "dfStationsAustria"
   ]
  },
  {
   "cell_type": "code",
   "execution_count": null,
   "id": "26d2eff5",
   "metadata": {},
   "outputs": [],
   "source": [
    "workFrameAustria = gpd.GeoDataFrame(pd.concat(dfStationsAustria), crs = 31287)"
   ]
  },
  {
   "cell_type": "code",
   "execution_count": null,
   "id": "d82f59c6",
   "metadata": {},
   "outputs": [],
   "source": [
    "workFrameAustria"
   ]
  },
  {
   "cell_type": "markdown",
   "id": "f9c8ca7f",
   "metadata": {},
   "source": [
    "Add the country to the work dataframe"
   ]
  },
  {
   "cell_type": "code",
   "execution_count": null,
   "id": "fc979ae6",
   "metadata": {},
   "outputs": [],
   "source": [
    "workFrameAustria.insert(0, 'country', ['Austria']*len(workFrameAustria))"
   ]
  },
  {
   "cell_type": "code",
   "execution_count": null,
   "id": "0ad51d5f",
   "metadata": {},
   "outputs": [],
   "source": [
    "workFrameAustria"
   ]
  },
  {
   "cell_type": "markdown",
   "id": "32149637",
   "metadata": {},
   "source": [
    "# 2.2. Lines"
   ]
  },
  {
   "cell_type": "markdown",
   "id": "3ed38865",
   "metadata": {},
   "source": [
    "We can do the exact same with the train lines database"
   ]
  },
  {
   "cell_type": "code",
   "execution_count": null,
   "id": "8592c28f",
   "metadata": {},
   "outputs": [],
   "source": [
    "linesAustria = 'Austria/GIP_Strecken_MLA.json'\n",
    "linesAustriaFrame = gpd.read_file(linesAustria)"
   ]
  },
  {
   "cell_type": "code",
   "execution_count": null,
   "id": "81d7082e",
   "metadata": {},
   "outputs": [],
   "source": [
    "linesAustriaFrame"
   ]
  },
  {
   "cell_type": "code",
   "execution_count": null,
   "id": "827709e8",
   "metadata": {},
   "outputs": [],
   "source": [
    "linesAustriaFrame.columns"
   ]
  },
  {
   "cell_type": "markdown",
   "id": "48c577f8",
   "metadata": {},
   "source": [
    "Once again, quite a few columns are useless, and we can get rid of them"
   ]
  },
  {
   "cell_type": "code",
   "execution_count": null,
   "id": "56c160a3",
   "metadata": {},
   "outputs": [],
   "source": [
    "uselessColumns = ['GIP_OBID', 'BST_ID', 'FOW_NAME', 'FRC_NAME', 'REGION', 'VALIDFROM', 'VALIDTO', 'CROSSSECT', 'CROSS_NAME', \n",
    "                  'ELEKTRI', 'EXPDATE']\n",
    "\n",
    "for column in uselessColumns:\n",
    "    linesAustriaFrame = linesAustriaFrame.drop(column, axis=1)"
   ]
  },
  {
   "cell_type": "code",
   "execution_count": null,
   "id": "02d81c34",
   "metadata": {},
   "outputs": [],
   "source": [
    "linesAustriaFrame"
   ]
  },
  {
   "cell_type": "markdown",
   "id": "f9d9030c",
   "metadata": {},
   "source": [
    "# 3. Swtitzerland"
   ]
  },
  {
   "cell_type": "markdown",
   "id": "0abc748e",
   "metadata": {},
   "source": [
    "# 3.1. Stations"
   ]
  },
  {
   "cell_type": "markdown",
   "id": "0e5607b8",
   "metadata": {},
   "source": [
    "I use the BAV_List_future_timetable.xlsx from https://opentransportdata.swiss/fr/dataset/bav_liste that I named suissedata1.xlsx\n"
   ]
  },
  {
   "cell_type": "code",
   "execution_count": null,
   "id": "f1b7213d",
   "metadata": {},
   "outputs": [],
   "source": [
    "\n",
    "df=pd.read_excel('suissedata1.xlsx')\n",
    "df=df.drop(columns=['Remarque','Statut','Localité','N° commune','Ct.','Carte','Carte.1','N° sv.85','py','N° sv.','Cc','PE','PT','N° ET','Sigle ET','N° GO','Sigle GO','Nom long','Sigle sv.','PC','PP','ST'])\n",
    "df.head()\n",
    "\n",
    "\n",
    "#We only use the dataframe where the transport is equal to 'Zug' (Train)\n",
    "\n",
    "df1=df.copy()\n",
    "\n",
    "df1=df1[df1['Moyen de transport']=='Zug']\n",
    "df1.head()\n",
    "\n",
    "\n",
    "df2=df1[df1['Longueur']>20]\n",
    "df3=df2.drop(columns=['Longueur', 'Moyen de transport','Altitude','Commune'])\n",
    "df3.head()\n",
    "\n",
    "\n",
    "final_df=df3.assign(Pays=\"Suisse\")\n",
    "final_df.head()\n",
    "final_df.to_csv(r'stations.csv', index = False)"
   ]
  },
  {
   "cell_type": "markdown",
   "id": "970e1da3",
   "metadata": {},
   "source": [
    "# 3.2. Lines"
   ]
  },
  {
   "cell_type": "markdown",
   "id": "ced598ec",
   "metadata": {},
   "source": [
    "I use a geojson you can find on https://data.sbb.ch/explore/dataset/linie-mit-polygon/export/?fbclid=IwAR3vTCN6GkY4UXZRrm4RNjTRIn726lOGLZmni_K_bi5s-XjerqQ9eCemsrk"
   ]
  },
  {
   "cell_type": "code",
   "execution_count": null,
   "id": "9f1e00d4",
   "metadata": {},
   "outputs": [],
   "source": [
    "import folium\n",
    "print(folium.__version__)\n",
    "\n",
    "lines_suisse=gpd.read_file('linie-mit-polygon.geojson')\n",
    "\n",
    "\n"
   ]
  },
  {
   "cell_type": "markdown",
   "id": "b311be7c",
   "metadata": {},
   "source": [
    "We are left with an id for the line, the name of the line, the geographical region in which the line lies (between 'NODEFROM' and 'NODETO'), and the geometry of the lines.\n",
    "\n",
    "We can't get rid of any further rows, as each row contains unique geometric information"
   ]
  },
  {
   "cell_type": "code",
   "execution_count": null,
   "id": "7f93a184",
   "metadata": {},
   "outputs": [],
   "source": []
  }
 ],
 "metadata": {
  "kernelspec": {
   "display_name": "Python 3 (ipykernel)",
   "language": "python",
   "name": "python3"
  },
  "language_info": {
   "codemirror_mode": {
    "name": "ipython",
    "version": 3
   },
   "file_extension": ".py",
   "mimetype": "text/x-python",
   "name": "python",
   "nbconvert_exporter": "python",
   "pygments_lexer": "ipython3",
   "version": "3.8.3"
  }
 },
 "nbformat": 4,
 "nbformat_minor": 5
}
