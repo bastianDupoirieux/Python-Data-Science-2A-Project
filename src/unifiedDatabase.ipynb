{
 "cells": [
  {
   "cell_type": "markdown",
   "id": "bcfcb4e6",
   "metadata": {
    "id": "bcfcb4e6"
   },
   "source": [
    "# Creating two unified databases, with only the necessary information"
   ]
  },
  {
   "cell_type": "markdown",
   "id": "293095e2",
   "metadata": {
    "id": "293095e2"
   },
   "source": [
    "We are going to create a database with the largest train stations in each country of interest. \n",
    "\n",
    "These countries are France, Belgium, Switzerland, Germany and Austria. Furthermore, we can look at the trains in other parts of Europe aswell"
   ]
  },
  {
   "cell_type": "markdown",
   "id": "81fc0707",
   "metadata": {
    "id": "81fc0707"
   },
   "source": [
    "We'll use a webscraping method to collect the information on a country, and save the list of cities we'll consider in a dictionary"
   ]
  },
  {
   "cell_type": "code",
   "execution_count": null,
   "id": "631a6f5f",
   "metadata": {
    "id": "631a6f5f"
   },
   "outputs": [],
   "source": [
    "!pip install openpyxl\n",
    "!pip install pandas fiona shapely pyproj rtree \n",
    "!pip install geopandas\n",
    "!pip install folium\n",
    "\n",
    "\"Libraries Import\"\n",
    "import geopandas as gpd\n",
    "import matplotlib.pyplot as plt\n",
    "import pandas as pd"
   ]
  },
  {
   "cell_type": "code",
   "execution_count": null,
   "id": "28f71bd8",
   "metadata": {
    "id": "28f71bd8"
   },
   "outputs": [],
   "source": [
    "import pandas as pd\n",
    "import geopandas as gpd\n",
    "import countriesAndCities\n",
    "import dataGathering"
   ]
  },
  {
   "cell_type": "markdown",
   "id": "50054ca6",
   "metadata": {
    "id": "50054ca6"
   },
   "source": [
    "We will create a dictionary for Austria and Germany, containing each countries' largest train stations, based on these two links"
   ]
  },
  {
   "cell_type": "code",
   "execution_count": null,
   "id": "bb9c8319",
   "metadata": {
    "id": "bb9c8319"
   },
   "outputs": [],
   "source": [
    "largestStations = dict()\n",
    "\n",
    "urlGermany = 'https://bahnauskunft.info/bahnhoefe-deutschland/'\n",
    "urlAustria = 'https://www.omio.at/bahnhoefe'"
   ]
  },
  {
   "cell_type": "markdown",
   "id": "dd168ffc",
   "metadata": {
    "id": "dd168ffc"
   },
   "source": [
    "At the same time, we will have to change certain dictionary keys. As such, we can create a function that does exactly this."
   ]
  },
  {
   "cell_type": "code",
   "execution_count": null,
   "id": "6072edab",
   "metadata": {
    "id": "6072edab"
   },
   "outputs": [],
   "source": [
    "def changeKeys(country, valueToChange, newValue):\n",
    "    '''A method that takes the keys for a country in the largestStations dictionary, and replacey certain values\n",
    "     @param country: the country with a value to change, of type string\n",
    "     @param valueToChange: the value in the key to change\n",
    "     @param newValue: the new value in the key\n",
    "     @return largestStations: a dictionary with the information, of type dict'''\n",
    "    listKeys = list(largestStations[country].keys())\n",
    "    oldKeys = []\n",
    "    for i in range (len(listKeys)):\n",
    "        station = listKeys[i]\n",
    "        if valueToChange in listKeys[i]:\n",
    "            oldKey = station\n",
    "            oldKeys.append(oldKey)\n",
    "            newKey = station.replace(valueToChange, '') + newValue\n",
    "            largestStations[country][newKey] = largestStations[country][oldKey]\n",
    "    \n",
    "    for station in oldKeys:\n",
    "        largestStations[country].pop(station)\n",
    "    \n",
    "    return(largestStations)"
   ]
  },
  {
   "cell_type": "markdown",
   "id": "9f49010e",
   "metadata": {
    "id": "9f49010e"
   },
   "source": [
    "# 1. Germany"
   ]
  },
  {
   "cell_type": "markdown",
   "id": "9b4bcb18",
   "metadata": {
    "id": "9b4bcb18"
   },
   "source": [
    "We'll start by getting the different relevant cities for Germany, and then working on the different geojson files to create a relevant database"
   ]
  },
  {
   "cell_type": "code",
   "execution_count": null,
   "id": "11e762ed",
   "metadata": {
    "id": "11e762ed"
   },
   "outputs": [],
   "source": [
    "largestStations['Germany'] = dataGathering.gather(urlGermany)"
   ]
  },
  {
   "cell_type": "code",
   "execution_count": null,
   "id": "505265ae",
   "metadata": {
    "id": "505265ae"
   },
   "outputs": [],
   "source": [
    "largestStations"
   ]
  },
  {
   "cell_type": "markdown",
   "id": "91691c10",
   "metadata": {
    "id": "91691c10"
   },
   "source": [
    "The deutsche Bahn's database uses 'Hbf' instead of 'Hauptbahnhof' so we must change the key"
   ]
  },
  {
   "cell_type": "code",
   "execution_count": null,
   "id": "6f41fe20",
   "metadata": {
    "id": "6f41fe20"
   },
   "outputs": [],
   "source": [
    "largestStations = changeKeys('Germany', 'Hauptbahnhof', 'Hbf')"
   ]
  },
  {
   "cell_type": "markdown",
   "id": "10d2df83",
   "metadata": {
    "id": "10d2df83"
   },
   "source": [
    "# 1.1. Stations"
   ]
  },
  {
   "cell_type": "markdown",
   "id": "8e73c91e",
   "metadata": {
    "id": "8e73c91e"
   },
   "source": [
    "We'll start by creating a database of all stations in the selected cities"
   ]
  },
  {
   "cell_type": "code",
   "execution_count": null,
   "id": "eec5d5ff",
   "metadata": {
    "id": "eec5d5ff"
   },
   "outputs": [],
   "source": [
    "stations = 'Germany/railwayStationNodes.geojson'\n",
    "\n",
    "deutscheBahnStations = gpd.read_file(stations)"
   ]
  },
  {
   "cell_type": "code",
   "execution_count": null,
   "id": "b1383cbb",
   "metadata": {
    "id": "b1383cbb"
   },
   "outputs": [],
   "source": [
    "deutscheBahnStations.columns"
   ]
  },
  {
   "cell_type": "markdown",
   "id": "895ffe58",
   "metadata": {
    "id": "895ffe58"
   },
   "source": [
    "We can start by dropping the column containing the nature of the node, and the index of the node"
   ]
  },
  {
   "cell_type": "code",
   "execution_count": null,
   "id": "ea2884e2",
   "metadata": {
    "id": "ea2884e2"
   },
   "outputs": [],
   "source": [
    "deutscheBahnStations = deutscheBahnStations.drop('formOfNode', axis = 1)\n",
    "deutscheBahnStations = deutscheBahnStations.drop('id', axis = 1)"
   ]
  },
  {
   "cell_type": "code",
   "execution_count": null,
   "id": "74375435",
   "metadata": {
    "id": "74375435"
   },
   "outputs": [],
   "source": [
    "deutscheBahnStations"
   ]
  },
  {
   "cell_type": "markdown",
   "id": "16db38e3",
   "metadata": {
    "id": "16db38e3"
   },
   "source": [
    "We check, for every single row, if the name of the station is located in one of the select few cities. The name of the station is the third value (index 2) of each row\n",
    "Furthermore, we check that there is space after the name of each city, as to avoid other cities with street names (as in Berlin -> Berliner)."
   ]
  },
  {
   "cell_type": "markdown",
   "id": "764a6527",
   "metadata": {
    "id": "764a6527"
   },
   "source": [
    "We are going to select every line containing data on a station in one of the cities, and concatenate every one of these separate dataframe"
   ]
  },
  {
   "cell_type": "code",
   "execution_count": null,
   "id": "9cdb2893",
   "metadata": {
    "id": "9cdb2893"
   },
   "outputs": [],
   "source": [
    "dfListStations = []\n",
    "for station in (list(largestStations['Germany'].keys())):\n",
    "    tempFrame = deutscheBahnStations.loc[deutscheBahnStations['geographicalName'] == station]\n",
    "    dfListStations.append(tempFrame)"
   ]
  },
  {
   "cell_type": "markdown",
   "id": "cd39d6bc",
   "metadata": {
    "id": "cd39d6bc"
   },
   "source": [
    "We define the geodataframe with the chosen coordinate system, EPSG:4258 (documentation available at https://www.geoportal.de/Metadata/55134453-193d-47ea-9b20-0f7016702c91, in german)"
   ]
  },
  {
   "cell_type": "code",
   "execution_count": null,
   "id": "e392784b",
   "metadata": {
    "id": "e392784b"
   },
   "outputs": [],
   "source": [
    "workFrameStations = gpd.GeoDataFrame(pd.concat(dfListStations, ignore_index=True), crs=4258)"
   ]
  },
  {
   "cell_type": "code",
   "execution_count": null,
   "id": "89bd8911",
   "metadata": {
    "id": "89bd8911"
   },
   "outputs": [],
   "source": [
    "workFrameStations"
   ]
  },
  {
   "cell_type": "markdown",
   "id": "a046f09f",
   "metadata": {
    "id": "a046f09f"
   },
   "source": [
    "Certain nodes are the same station. We will keep a single occurence of every station, based on the railwayStationCode variable"
   ]
  },
  {
   "cell_type": "code",
   "execution_count": null,
   "id": "5393e946",
   "metadata": {
    "id": "5393e946"
   },
   "outputs": [],
   "source": [
    "workFrameStations = workFrameStations.drop_duplicates(subset='railwayStationCode')"
   ]
  },
  {
   "cell_type": "code",
   "execution_count": null,
   "id": "cbac0256",
   "metadata": {
    "id": "cbac0256"
   },
   "outputs": [],
   "source": [
    "workFrameStations"
   ]
  },
  {
   "cell_type": "markdown",
   "id": "5d63beed",
   "metadata": {
    "id": "5d63beed"
   },
   "source": [
    "Finally, we can add a column, indicating that every value in this geodataframe is located in Germany"
   ]
  },
  {
   "cell_type": "code",
   "execution_count": null,
   "id": "b1e87190",
   "metadata": {
    "id": "b1e87190"
   },
   "outputs": [],
   "source": [
    "workFrameStations.insert(0, 'country', ['Germany']*len(workFrameStations))"
   ]
  },
  {
   "cell_type": "code",
   "execution_count": null,
   "id": "a9a95e1c",
   "metadata": {
    "id": "a9a95e1c"
   },
   "outputs": [],
   "source": [
    "workFrameStations"
   ]
  },
  {
   "cell_type": "markdown",
   "id": "11bddea6",
   "metadata": {
    "id": "11bddea6"
   },
   "source": [
    "# 1.2. Lines"
   ]
  },
  {
   "cell_type": "markdown",
   "id": "b8cb2d44",
   "metadata": {
    "id": "b8cb2d44"
   },
   "source": [
    "We can do the exact same thing the dataframe of the different train lines. However, the information is segmented, and as such we cannot remove any row in the dataframe"
   ]
  },
  {
   "cell_type": "code",
   "execution_count": null,
   "id": "0705d091",
   "metadata": {
    "id": "0705d091"
   },
   "outputs": [],
   "source": [
    "deutscheBahnLines = gpd.read_file('Germany/railwayLines.geojson')"
   ]
  },
  {
   "cell_type": "code",
   "execution_count": null,
   "id": "6b81feae",
   "metadata": {
    "id": "6b81feae"
   },
   "outputs": [],
   "source": [
    "deutscheBahnLines.head()"
   ]
  },
  {
   "cell_type": "markdown",
   "id": "4ffd55a0",
   "metadata": {
    "id": "4ffd55a0"
   },
   "source": [
    "# 2. Austria"
   ]
  },
  {
   "cell_type": "markdown",
   "id": "4e17a511",
   "metadata": {
    "id": "4e17a511"
   },
   "source": [
    "We now have a database with the different stations and lines in Germany. We will now add the values for Austria to this database."
   ]
  },
  {
   "cell_type": "code",
   "execution_count": null,
   "id": "e8b8f96f",
   "metadata": {
    "id": "e8b8f96f"
   },
   "outputs": [],
   "source": [
    "largestStations['Austria'] = dataGathering.gather(urlAustria, start = 1)"
   ]
  },
  {
   "cell_type": "code",
   "execution_count": null,
   "id": "6233d43d",
   "metadata": {
    "id": "6233d43d"
   },
   "outputs": [],
   "source": [
    "largestStations"
   ]
  },
  {
   "cell_type": "markdown",
   "id": "7413a717",
   "metadata": {
    "id": "7413a717"
   },
   "source": [
    "This database does the exact opposite of the German database. It uses 'Hauptbahnhof', whereas we had values with 'Hbf'"
   ]
  },
  {
   "cell_type": "code",
   "execution_count": null,
   "id": "935ab9c7",
   "metadata": {
    "id": "935ab9c7"
   },
   "outputs": [],
   "source": [
    "largestStations = changeKeys('Austria', 'Hbf', 'Hauptbahnhof')"
   ]
  },
  {
   "cell_type": "markdown",
   "id": "ef535562",
   "metadata": {
    "id": "ef535562"
   },
   "source": [
    "# 2.1. Stations"
   ]
  },
  {
   "cell_type": "code",
   "execution_count": null,
   "id": "578e9868",
   "metadata": {
    "id": "578e9868"
   },
   "outputs": [],
   "source": [
    "stationsAustria = 'Austria/GIP_Betriebsstellen_DelEUV_JSON.json'\n",
    "stationsAustriaFrame = gpd.read_file(stationsAustria)"
   ]
  },
  {
   "cell_type": "code",
   "execution_count": null,
   "id": "4d3bf89e",
   "metadata": {
    "id": "4d3bf89e"
   },
   "outputs": [],
   "source": [
    "stationsAustriaFrame"
   ]
  },
  {
   "cell_type": "code",
   "execution_count": null,
   "id": "fbd23873",
   "metadata": {
    "id": "fbd23873"
   },
   "outputs": [],
   "source": [
    "stationsAustriaFrame.columns"
   ]
  },
  {
   "cell_type": "markdown",
   "id": "5282bcac",
   "metadata": {
    "id": "5282bcac"
   },
   "source": [
    "Quite a few columns here are useless. We can remove these columns"
   ]
  },
  {
   "cell_type": "code",
   "execution_count": null,
   "id": "e990f4d7",
   "metadata": {
    "id": "e990f4d7"
   },
   "outputs": [],
   "source": [
    "columnsToRemove = ['BSTS_ID', 'DB640_CODE', 'OBJECTID', 'GIP_OBID', 'EXTERNALID', 'REGIONALCO', 'VALIDFROM', 'VALIDTO', 'OWNER_NAME', 'PV_EVA_NR', 'ANZ_AUFZUG', 'ANZ_FAHRTR', 'ANZ_UHREN',\n",
    "                  'ANZ_AKUSTI','ANZ_OPTISC', 'INFOPOINT', 'MUEZ', 'MUEZ_KURZ', 'HILFE_MOBI', 'ANZ_ROLLST', 'ANZ_E_LADE', 'RUD_PARKPL', 'VERIFIZIER',\n",
    "                  'PUBL_WLAN', 'MUEZ_LANG', 'BEMERKUNG']"
   ]
  },
  {
   "cell_type": "code",
   "execution_count": null,
   "id": "20a75e0a",
   "metadata": {
    "id": "20a75e0a"
   },
   "outputs": [],
   "source": [
    "for column in columnsToRemove:\n",
    "    stationsAustriaFrame = stationsAustriaFrame.drop(column, axis=1)"
   ]
  },
  {
   "cell_type": "code",
   "execution_count": null,
   "id": "397e11a9",
   "metadata": {
    "id": "397e11a9"
   },
   "outputs": [],
   "source": [
    "stationsAustriaFrame"
   ]
  },
  {
   "cell_type": "markdown",
   "id": "f6651c0c",
   "metadata": {
    "id": "f6651c0c"
   },
   "source": [
    "We can now focus on retrieving the rows with information on the two cities of interest"
   ]
  },
  {
   "cell_type": "code",
   "execution_count": null,
   "id": "8140a207",
   "metadata": {
    "id": "8140a207"
   },
   "outputs": [],
   "source": [
    "dfStationsAustria = []\n",
    "for station in largestStations['Austria']:\n",
    "    tempFrame = stationsAustriaFrame.loc[stationsAustriaFrame['NAME_FPL'] == station]\n",
    "    dfStationsAustria.append(tempFrame)"
   ]
  },
  {
   "cell_type": "code",
   "execution_count": null,
   "id": "19e4d6b1",
   "metadata": {
    "id": "19e4d6b1"
   },
   "outputs": [],
   "source": [
    "dfStationsAustria"
   ]
  },
  {
   "cell_type": "code",
   "execution_count": null,
   "id": "26d2eff5",
   "metadata": {
    "id": "26d2eff5"
   },
   "outputs": [],
   "source": [
    "workFrameAustria = gpd.GeoDataFrame(pd.concat(dfStationsAustria), crs = 31287)"
   ]
  },
  {
   "cell_type": "code",
   "execution_count": null,
   "id": "d82f59c6",
   "metadata": {
    "id": "d82f59c6"
   },
   "outputs": [],
   "source": [
    "workFrameAustria"
   ]
  },
  {
   "cell_type": "markdown",
   "id": "f9c8ca7f",
   "metadata": {
    "id": "f9c8ca7f"
   },
   "source": [
    "Add the country to the work dataframe"
   ]
  },
  {
   "cell_type": "code",
   "execution_count": null,
   "id": "fc979ae6",
   "metadata": {
    "id": "fc979ae6"
   },
   "outputs": [],
   "source": [
    "workFrameAustria.insert(0, 'country', ['Austria']*len(workFrameAustria))"
   ]
  },
  {
   "cell_type": "code",
   "execution_count": null,
   "id": "0ad51d5f",
   "metadata": {
    "id": "0ad51d5f"
   },
   "outputs": [],
   "source": [
    "workFrameAustria"
   ]
  },
  {
   "cell_type": "markdown",
   "id": "32149637",
   "metadata": {
    "id": "32149637"
   },
   "source": [
    "# 2.2. Lines"
   ]
  },
  {
   "cell_type": "markdown",
   "id": "3ed38865",
   "metadata": {
    "id": "3ed38865"
   },
   "source": [
    "We can do the exact same with the train lines database"
   ]
  },
  {
   "cell_type": "code",
   "execution_count": null,
   "id": "8592c28f",
   "metadata": {
    "id": "8592c28f"
   },
   "outputs": [],
   "source": [
    "linesAustria = 'Austria/GIP_Strecken_MLA.json'\n",
    "linesAustriaFrame = gpd.read_file(linesAustria)"
   ]
  },
  {
   "cell_type": "code",
   "execution_count": null,
   "id": "81d7082e",
   "metadata": {
    "id": "81d7082e"
   },
   "outputs": [],
   "source": [
    "linesAustriaFrame"
   ]
  },
  {
   "cell_type": "code",
   "execution_count": null,
   "id": "827709e8",
   "metadata": {
    "id": "827709e8"
   },
   "outputs": [],
   "source": [
    "linesAustriaFrame.columns"
   ]
  },
  {
   "cell_type": "markdown",
   "id": "48c577f8",
   "metadata": {
    "id": "48c577f8"
   },
   "source": [
    "Once again, quite a few columns are useless, and we can get rid of them"
   ]
  },
  {
   "cell_type": "code",
   "execution_count": null,
   "id": "56c160a3",
   "metadata": {
    "id": "56c160a3"
   },
   "outputs": [],
   "source": [
    "uselessColumns = ['GIP_OBID', 'BST_ID', 'FOW_NAME', 'FRC_NAME', 'REGION', 'VALIDFROM', 'VALIDTO', 'CROSSSECT', 'CROSS_NAME', \n",
    "                  'ELEKTRI', 'EXPDATE']\n",
    "\n",
    "for column in uselessColumns:\n",
    "    linesAustriaFrame = linesAustriaFrame.drop(column, axis=1)"
   ]
  },
  {
   "cell_type": "code",
   "execution_count": null,
   "id": "02d81c34",
   "metadata": {
    "id": "02d81c34"
   },
   "outputs": [],
   "source": [
    "linesAustriaFrame"
   ]
  },
  {
   "cell_type": "markdown",
   "id": "wpLWNOSvWO4p",
   "metadata": {
    "id": "wpLWNOSvWO4p"
   },
   "source": [
    "# 3. France\n",
    "\n",
    "We are using databases coming from French government open-data portal and French national railway company (SNCF) : https://www.data.gouv.fr/fr/ and https://ressources.data.sncf.com/pages/accueil/ \\\n",
    "We focus on two databases providing information either on the railway stations or on tne rail connections. \\\n",
    "The databases are : referentiel-gares-voyageurs.geojson and formes-des-lignes-du-rfn.geojson"
   ]
  },
  {
   "cell_type": "markdown",
   "id": "RpEup8PzWZuP",
   "metadata": {
    "id": "RpEup8PzWZuP"
   },
   "source": [
    "# 3.1. Stations"
   ]
  },
  {
   "cell_type": "markdown",
   "id": "Wu0NlM42WScs",
   "metadata": {
    "id": "Wu0NlM42WScs"
   },
   "source": [
    "We first select the relevant cities. We focus on a dozen of them, the biggest ones. We chose : Paris, Lyon, Bordeaux, Toulouse, Brest, Marseille, Nice, Strasbourg, Rennes, Motpellier and Grenoble. \\\n",
    "Some of these cities have several stations. For more simplicity, there is a focus on the relevant stations connecting those cities."
   ]
  },
  {
   "cell_type": "code",
   "execution_count": null,
   "id": "dEr92IwwWcBB",
   "metadata": {
    "id": "dEr92IwwWcBB"
   },
   "outputs": [],
   "source": [
    "f_station = gpd.read_file('France/referentiel-gares-voyageurs.geojson')"
   ]
  },
  {
   "cell_type": "code",
   "execution_count": null,
   "id": "OuS8n1EbWXPr",
   "metadata": {
    "id": "OuS8n1EbWXPr"
   },
   "outputs": [],
   "source": [
    "values = ['Paris', 'Lyon', 'Strasbourg', 'Lille', 'Bordeaux', 'Massy', 'Marseille', 'Chessy', 'Brest', 'Rennes', 'Toulouse', 'Nice', 'Montpellier', 'Grenoble']\n",
    "f_station = f_station[f_station.commune_libellemin.isin(values)] \n",
    "\n",
    "f_station = f_station[f_station['segmentdrg_libelle']=='a']\t"
   ]
  },
  {
   "cell_type": "markdown",
   "id": "HSyMopetNbni",
   "metadata": {
    "id": "HSyMopetNbni"
   },
   "source": [
    "There is a selection on two criteria : the name of the city and the importance of the line between cities (segmentdrg_libelle). \\\n",
    "There is a focus on national and international railways. \\\n"
   ]
  },
  {
   "cell_type": "markdown",
   "id": "CB1gzxZqWe_t",
   "metadata": {
    "id": "CB1gzxZqWe_t"
   },
   "source": [
    "Note : To achieve our aim we use the two columns called commune_libellemin and segmentdrg_libelle. \\\n",
    "commune_libellemin = name of the city \\\n",
    "segmentdrg_libelle = a,b or c indicates the size of the railroad"
   ]
  },
  {
   "cell_type": "code",
   "execution_count": null,
   "id": "FotATHa7X3Yo",
   "metadata": {
    "id": "FotATHa7X3Yo"
   },
   "outputs": [],
   "source": [
    "f_station.loc[:,'Country'] = 'France'"
   ]
  },
  {
   "cell_type": "markdown",
   "id": "6qSPCNg2P_4O",
   "metadata": {
    "id": "6qSPCNg2P_4O"
   },
   "source": [
    "We also have an additional column giving the name of the country and we drop out the contingent columns."
   ]
  },
  {
   "cell_type": "code",
   "execution_count": null,
   "id": "PY0QVgbTY073",
   "metadata": {
    "id": "PY0QVgbTY073"
   },
   "outputs": [],
   "source": [
    "f_station.drop(['tvs', 'tvss',\n",
    "       'gare_alias_libelle_fronton', 'commune_code', 'uic_code', 'rg_libelle',\n",
    "       'gare', 'adresse_cp', 'code_gare', 'latitude_entreeprincipale_wgs84',\n",
    "       'gare_agencegc_libelle', 'departement_libellemin', 'code',\n",
    "       'gare_drg_on', 'gare_etrangere_on', 'segmentdrg_libelle',\n",
    "       'gare_regionsncf_libelle', 'longitude_entreeprincipale_wgs84',\n",
    "       'gare_ut_libelle', 'gare_nbpltf', 'alias_libelle_noncontraint',\n",
    "       'departement_numero', 'niveauservice_libelle', 'gare_ug_libelle'],1,inplace=True)\n",
    "f_station"
   ]
  },
  {
   "cell_type": "markdown",
   "id": "RmpfOeWzWc5X",
   "metadata": {
    "id": "RmpfOeWzWc5X"
   },
   "source": [
    "# 3.2. Lines"
   ]
  },
  {
   "cell_type": "markdown",
   "id": "TRQvzF85th98",
   "metadata": {
    "id": "TRQvzF85th98"
   },
   "source": [
    "Now, we select the relevant lines between those cities"
   ]
  },
  {
   "cell_type": "code",
   "execution_count": null,
   "id": "052ykZRjtmcO",
   "metadata": {
    "id": "052ykZRjtmcO"
   },
   "outputs": [],
   "source": [
    "lines_france = gpd.read_file('France/formes-des-lignes-du-rfn.geojson')"
   ]
  },
  {
   "cell_type": "markdown",
   "id": "bOdfygk-iO7b",
   "metadata": {
    "id": "bOdfygk-iO7b"
   },
   "source": [
    "We only focus on the exploited lines. We drop the lines that are unexploited or private."
   ]
  },
  {
   "cell_type": "code",
   "execution_count": null,
   "id": "k1y2E6mP2Ck2",
   "metadata": {
    "id": "k1y2E6mP2Ck2"
   },
   "outputs": [],
   "source": [
    "lines_france.drop(lines_france.loc[lines_france['libelle'] != 'Exploitée'].index, inplace = True)"
   ]
  },
  {
   "cell_type": "markdown",
   "id": "IYyDC4m7icVB",
   "metadata": {
    "id": "IYyDC4m7icVB"
   },
   "source": [
    "## Selection the id of the lines of interest\n",
    "\n",
    "The interesting lines have special ids. We collected them in order to plot only the most interesting lines. We chose to focus on the fastest lines and dropped all the duplicates. For example, between Lyon and Paris, we only add the high-speed line connecting both cities. We do not add the normal-speed line which serves minor cities such as Auxerre or Dijon. \\\n",
    "The ids allow us to select the relevant lines :"
   ]
  },
  {
   "cell_type": "code",
   "execution_count": null,
   "id": "dxd4j7R0KJd6",
   "metadata": {
    "id": "dxd4j7R0KJd6"
   },
   "outputs": [],
   "source": [
    "values = [ '930000', '752000', '810000', '640000', '566000','956000', '957000', '991300', '752330', '893000', '431000', '420000','834000', '226000', '005000', '905000', '752340', '226310', '005390', '752100' ]"
   ]
  },
  {
   "cell_type": "code",
   "execution_count": null,
   "id": "SMNW9Q-wUUOH",
   "metadata": {
    "id": "SMNW9Q-wUUOH"
   },
   "outputs": [],
   "source": [
    "lines_france = lines_france[lines_france.code_ligne.isin(values)] "
   ]
  },
  {
   "cell_type": "markdown",
   "id": "_8TAjmzkWUW9",
   "metadata": {
    "id": "_8TAjmzkWUW9"
   },
   "source": [
    "# 4. Belgium"
   ]
  },
  {
   "cell_type": "markdown",
   "id": "4uidMxAdWbTv",
   "metadata": {
    "id": "4uidMxAdWbTv"
   },
   "source": [
    "# 4.1. Stations"
   ]
  },
  {
   "cell_type": "markdown",
   "id": "gCByones5fds",
   "metadata": {
    "id": "gCByones5fds"
   },
   "source": [
    "Because of the small size of the country, there is a focus on the cities of Brussels, Antwerp, and Gent. We also add the connection with France : line between Brussels and Lille in France, and between Antwerp, Rotterdam and Amsterdam in the Netherlands. \\\n",
    "Because of the poor data , we chose to create our own dataset. The very small amount of datas studied is a key element of such a choice. \n",
    "So, there is the creation of a dataframe with relevant coordinates."
   ]
  },
  {
   "cell_type": "code",
   "execution_count": null,
   "id": "B9cNK2eW9IuX",
   "metadata": {
    "id": "B9cNK2eW9IuX"
   },
   "outputs": [],
   "source": [
    "df = pd.DataFrame(\n",
    "    {'City' : ['Brussel', 'Brussel','Gent', 'Atwerpen', 'Rotterdam',\"Amsterdam\"],\n",
    "     'Name': ['Brussel-Zuid','Brussel-Noord','Gent-Sint-Pieters','Antwerpen-Centraal','Rotterdam-Centraal', 'Amsterdam-Centraal'],\n",
    "     'Country': ['Belgium', 'Belgium', 'Belgium', 'Belgium', 'Netherland', 'Netherland'],\n",
    "     'Longitude': [4.33545, 4.36015, 3.71083, 4.42115, 4.46883, 4.90032],\n",
    "     'Latitude': [50.83605, 50.86045, 51.03609, 51.21722, 51.92528, 52.37913]})"
   ]
  },
  {
   "cell_type": "markdown",
   "id": "-v-17FPQB3ZC",
   "metadata": {
    "id": "-v-17FPQB3ZC"
   },
   "source": [
    "Then, transformation of the dataframe to a geopandas one : the coordinates are transformed into a geometry recognized when plotted on a map."
   ]
  },
  {
   "cell_type": "code",
   "execution_count": null,
   "id": "Q7Cgp4MU8Ng8",
   "metadata": {
    "id": "Q7Cgp4MU8Ng8"
   },
   "outputs": [],
   "source": [
    "b_station = gpd.GeoDataFrame(\n",
    "    df, geometry=gpd.points_from_xy(df.Longitude, df.Latitude))"
   ]
  },
  {
   "cell_type": "code",
   "execution_count": null,
   "id": "wLrsIob_9kYY",
   "metadata": {
    "colab": {
     "base_uri": "https://localhost:8080/",
     "height": 206
    },
    "id": "wLrsIob_9kYY",
    "outputId": "479c9ff7-83c3-472a-8dfd-a7503d1f205d"
   },
   "outputs": [],
   "source": [
    "b_station.drop(['Longitude', 'Latitude'],1, inplace = True)"
   ]
  },
  {
   "cell_type": "markdown",
   "id": "Vav5xyQuWfYS",
   "metadata": {
    "id": "Vav5xyQuWfYS"
   },
   "source": [
    "# 4.2. Lines"
   ]
  },
  {
   "cell_type": "markdown",
   "id": "sZQQvxmPeI8r",
   "metadata": {
    "id": "sZQQvxmPeI8r"
   },
   "source": [
    "As for the French lines, I focused on the lines'id to select the most accurate ones. The database is not very well organised because some of the lines are not continuous. "
   ]
  },
  {
   "cell_type": "code",
   "execution_count": null,
   "id": "a_bqC7IceN36",
   "metadata": {
    "id": "a_bqC7IceN36"
   },
   "outputs": [],
   "source": [
    "lines_belgium = gpd.read_file('Belgium/tc-trajet-train-statique-sncb.geojson')"
   ]
  },
  {
   "cell_type": "code",
   "execution_count": null,
   "id": "Qv3nPqlqe3Hx",
   "metadata": {
    "id": "Qv3nPqlqe3Hx"
   },
   "outputs": [],
   "source": [
    "values = [603,140,166,126,259,257,54,274,172,602]\n",
    "lines_belgium = lines_belgium[lines_belgium.id.isin(values)] \n",
    "lines_belgium.index = range(10)"
   ]
  },
  {
   "cell_type": "markdown",
   "id": "3Hn-qDxSadgn",
   "metadata": {
    "id": "3Hn-qDxSadgn"
   },
   "source": [
    "Here, I add a columns of the departure city and country and the arrival one. These are the last changes of the database."
   ]
  },
  {
   "cell_type": "code",
   "execution_count": null,
   "id": "vcP3-vbOkyEP",
   "metadata": {
    "id": "vcP3-vbOkyEP"
   },
   "outputs": [],
   "source": [
    "departure = []\n",
    "arrival = []\n",
    "for k in range(10) :\n",
    "  index_ = lines_belgium.long_name[k].index('--')\n",
    "  departure.append(lines_belgium[\"long_name\"][k][:index_])\n",
    "  arrival.append(lines_belgium[\"long_name\"][k][index_+3:])\n",
    "\n",
    "lines_belgium.loc[:,\"Departure\"] = departure\n",
    "lines_belgium.loc[:,\"Arrival\"] = arrival\n",
    "lines_belgium.loc[:,\"Country_dep\"] = ['France', 'Belgium', 'Belgium', 'Belgium', 'Belgium', 'France', 'Netherland','Belgium', 'Belgium', 'Netherland']\n",
    "lines_belgium.loc[:,\"Country_arr\"] = 'Belgium'\n",
    "lines_belgium.drop(['short_name', 'long_name', 'id', 'route_type', 'color'],1,inplace=True)"
   ]
  },
  {
   "cell_type": "markdown",
   "id": "f9d9030c",
   "metadata": {
    "id": "f9d9030c"
   },
   "source": [
    "# 5. Swtitzerland"
   ]
  },
  {
   "cell_type": "markdown",
   "id": "0abc748e",
   "metadata": {
    "id": "0abc748e"
   },
   "source": [
    "# 5.1. Stations"
   ]
  },
  {
   "cell_type": "markdown",
   "id": "0e5607b8",
   "metadata": {
    "id": "0e5607b8"
   },
   "source": [
    "I use the BAV_List_future_timetable.xlsx from https://opentransportdata.swiss/fr/dataset/bav_liste that I named suissedata1.xlsx\n"
   ]
  },
  {
   "cell_type": "code",
   "execution_count": null,
   "id": "f1b7213d",
   "metadata": {
    "id": "f1b7213d"
   },
   "outputs": [],
   "source": [
    "\n",
    "df=pd.read_excel('Switzerland/suissedata1.xlsx')\n",
    "df=df.drop(columns=['Remarque','Statut','Localité','N° commune','Ct.','Carte','Carte.1','N° sv.85','py','N° sv.','Cc','PE','PT','N° ET','Sigle ET','N° GO','Sigle GO','Nom long','Sigle sv.','PC','PP','ST'])\n",
    "df.head()\n",
    "\n",
    "\n",
    "#We only use the dataframe where the transport is equal to 'Zug' (Train)\n",
    "\n",
    "df1=df.copy()\n",
    "\n",
    "df1=df1[df1['Moyen de transport']=='Zug']\n",
    "df1.head()\n",
    "\n",
    "\n",
    "df2=df1[df1['Longueur']>20]\n",
    "df3=df2.drop(columns=['Longueur', 'Moyen de transport','Altitude','Commune'])\n",
    "df3.head()\n",
    "\n",
    "\n",
    "final_df=df3.assign(Pays=\"Suisse\")\n",
    "final_df.head()\n",
    "final_df.to_csv(r'stations.csv', index = False)"
   ]
  },
  {
   "cell_type": "markdown",
   "id": "970e1da3",
   "metadata": {
    "id": "970e1da3"
   },
   "source": [
    "# 5.2. Lines"
   ]
  },
  {
   "cell_type": "markdown",
   "id": "ced598ec",
   "metadata": {
    "id": "ced598ec"
   },
   "source": [
    "I use a geojson you can find on https://data.sbb.ch/explore/dataset/linie-mit-polygon/export/?fbclid=IwAR3vTCN6GkY4UXZRrm4RNjTRIn726lOGLZmni_K_bi5s-XjerqQ9eCemsrk"
   ]
  },
  {
   "cell_type": "code",
   "execution_count": null,
   "id": "9f1e00d4",
   "metadata": {
    "id": "9f1e00d4"
   },
   "outputs": [],
   "source": [
    "import folium\n",
    "print(folium.__version__)\n",
    "\n",
    "lines_suisse=gpd.read_file('Switzerland/linie-mit-polygon.geojson')\n",
    "\n",
    "\n"
   ]
  },
  {
   "cell_type": "markdown",
   "id": "b311be7c",
   "metadata": {
    "id": "b311be7c"
   },
   "source": [
    "We are left with an id for the line, the name of the line, the geographical region in which the line lies (between 'NODEFROM' and 'NODETO'), and the geometry of the lines.\n",
    "\n",
    "We can't get rid of any further rows, as each row contains unique geometric information"
   ]
  },
  {
   "cell_type": "code",
   "execution_count": null,
   "id": "7f93a184",
   "metadata": {
    "id": "7f93a184"
   },
   "outputs": [],
   "source": [
    "from subprocess import call\n",
    "call(['python', '-m', 'nbconvert', 'unifiedDatabase.ipynb'])"
   ]
  },
  {
   "cell_type": "code",
   "execution_count": null,
   "id": "f3d84cff",
   "metadata": {},
   "outputs": [],
   "source": []
  }
 ],
 "metadata": {
  "colab": {
   "name": "unifiedDatabase.ipynb",
   "provenance": []
  },
  "kernelspec": {
   "display_name": "Python 3 (ipykernel)",
   "language": "python",
   "name": "python3"
  },
  "language_info": {
   "codemirror_mode": {
    "name": "ipython",
    "version": 3
   },
   "file_extension": ".py",
   "mimetype": "text/x-python",
   "name": "python",
   "nbconvert_exporter": "python",
   "pygments_lexer": "ipython3",
   "version": "3.8.3"
  }
 },
 "nbformat": 4,
 "nbformat_minor": 5
}
