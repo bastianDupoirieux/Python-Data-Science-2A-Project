{
 "cells": [
  {
   "cell_type": "markdown",
   "id": "7a7e80ac",
   "metadata": {
    "id": "7a7e80ac"
   },
   "source": [
    "# A look into creating interactive maps with folium"
   ]
  },
  {
   "cell_type": "markdown",
   "id": "c96f7209",
   "metadata": {
    "id": "c96f7209"
   },
   "source": [
    "We'll be using the individual datasets at first, to get individual countries' maps. Once we have the work on individual countries, we'll start trying to build a european map"
   ]
  },
  {
   "cell_type": "markdown",
   "id": "6e14d8bd",
   "metadata": {
    "id": "6e14d8bd"
   },
   "source": [
    "We start by importing the required packages"
   ]
  },
  {
   "cell_type": "code",
   "execution_count": null,
   "id": "dbb8bfa6",
   "metadata": {},
   "outputs": [],
   "source": [
    "import dataGathering\n",
    "import countriesAndCities\n",
    "import folium\n",
    "import geopandas as gpd\n",
    "import pandas as pd\n",
    "from shapely import wkt"
   ]
  },
  {
   "cell_type": "markdown",
   "id": "c622faa8",
   "metadata": {
    "id": "c622faa8"
   },
   "source": [
    "# 1. Austria"
   ]
  },
  {
   "cell_type": "code",
   "execution_count": null,
   "id": "9a5b68e7",
   "metadata": {
    "id": "9a5b68e7"
   },
   "outputs": [],
   "source": [
    "def changeKeys(country, valueToChange, newValue):\n",
    "    '''A method that takes the keys for a country in the largestStations dictionary, and replacey certain values\n",
    "     @param country: the country with a value to change, of type string\n",
    "     @param valueToChange: the value in the key to change\n",
    "     @param newValue: the new value in the key\n",
    "     @return largestStations: a dictionary with the information, of type dict'''\n",
    "    listKeys = list(largestStations[country].keys())\n",
    "    oldKeys = []\n",
    "    for i in range (len(listKeys)):\n",
    "        station = listKeys[i]\n",
    "        if valueToChange in listKeys[i]:\n",
    "            oldKey = station\n",
    "            oldKeys.append(oldKey)\n",
    "            newKey = station.replace(valueToChange, '') + newValue\n",
    "            largestStations[country][newKey] = largestStations[country][oldKey]\n",
    "    \n",
    "    for station in oldKeys:\n",
    "        largestStations[country].pop(station)\n",
    "    \n",
    "    return(largestStations)"
   ]
  },
  {
   "cell_type": "markdown",
   "id": "eaccc781",
   "metadata": {
    "id": "eaccc781"
   },
   "source": [
    "We build the dataset the same way we built it for the unified database"
   ]
  },
  {
   "cell_type": "code",
   "execution_count": null,
   "id": "1b3a4069",
   "metadata": {
    "id": "1b3a4069"
   },
   "outputs": [],
   "source": [
    "largestStations = dict()\n",
    "\n",
    "urlGermany = 'https://bahnauskunft.info/bahnhoefe-deutschland/'\n",
    "urlAustria = 'https://www.omio.at/bahnhoefe'"
   ]
  },
  {
   "cell_type": "code",
   "execution_count": null,
   "id": "d4239173",
   "metadata": {
    "id": "d4239173"
   },
   "outputs": [],
   "source": [
    "largestStations['Austria']= dataGathering.gather(urlAustria, start=1)"
   ]
  },
  {
   "cell_type": "code",
   "execution_count": null,
   "id": "50121d49",
   "metadata": {
    "id": "50121d49"
   },
   "outputs": [],
   "source": [
    "largestStations = changeKeys('Austria', 'Hbf', 'Hauptbahnhof')"
   ]
  },
  {
   "cell_type": "markdown",
   "id": "e4d3ed1c",
   "metadata": {
    "id": "e4d3ed1c"
   },
   "source": [
    "# 1.1 Stations"
   ]
  },
  {
   "cell_type": "code",
   "execution_count": null,
   "id": "0b29c669",
   "metadata": {
    "id": "0b29c669"
   },
   "outputs": [],
   "source": [
    "stationsAustria = 'Austria/GIP_Betriebsstellen_DelEUV_JSON.json'\n",
    "stationsAustriaFrame = gpd.read_file(stationsAustria)"
   ]
  },
  {
   "cell_type": "code",
   "execution_count": null,
   "id": "f7d2ce7e",
   "metadata": {
    "id": "f7d2ce7e"
   },
   "outputs": [],
   "source": [
    "columnsToRemove = ['BSTS_ID', 'DB640_CODE', 'OBJECTID', 'GIP_OBID', 'EXTERNALID', 'REGIONALCO', 'VALIDFROM', 'VALIDTO', 'OWNER_NAME', 'PV_EVA_NR', 'ANZ_AUFZUG', 'ANZ_FAHRTR', 'ANZ_UHREN',\n",
    "                  'ANZ_AKUSTI','ANZ_OPTISC', 'INFOPOINT', 'MUEZ', 'MUEZ_KURZ', 'HILFE_MOBI', 'ANZ_ROLLST', 'ANZ_E_LADE', 'RUD_PARKPL', 'VERIFIZIER',\n",
    "                  'PUBL_WLAN', 'MUEZ_LANG', 'BEMERKUNG']"
   ]
  },
  {
   "cell_type": "code",
   "execution_count": null,
   "id": "8d9b0380",
   "metadata": {
    "id": "8d9b0380"
   },
   "outputs": [],
   "source": [
    "for column in columnsToRemove:\n",
    "    stationsAustriaFrame = stationsAustriaFrame.drop(column, axis=1)"
   ]
  },
  {
   "cell_type": "code",
   "execution_count": null,
   "id": "77065039",
   "metadata": {
    "id": "77065039"
   },
   "outputs": [],
   "source": [
    "dfStationsAustria = []\n",
    "for station in largestStations['Austria']:\n",
    "    tempFrame = stationsAustriaFrame.loc[stationsAustriaFrame['NAME_FPL'] == station]\n",
    "    dfStationsAustria.append(tempFrame)"
   ]
  },
  {
   "cell_type": "code",
   "execution_count": null,
   "id": "af084a1a",
   "metadata": {
    "id": "af084a1a"
   },
   "outputs": [],
   "source": [
    "workFrameAustria = gpd.GeoDataFrame(pd.concat(dfStationsAustria), crs = 31287)"
   ]
  },
  {
   "cell_type": "code",
   "execution_count": null,
   "id": "935def7a",
   "metadata": {
    "id": "935def7a"
   },
   "outputs": [],
   "source": [
    "workFrameAustria = gpd.GeoDataFrame(pd.concat(dfStationsAustria), crs = 31287)"
   ]
  },
  {
   "cell_type": "code",
   "execution_count": null,
   "id": "037e3da1",
   "metadata": {
    "id": "037e3da1"
   },
   "outputs": [],
   "source": [
    "workFrameAustria.head()"
   ]
  },
  {
   "cell_type": "markdown",
   "id": "3ae7d398",
   "metadata": {
    "id": "3ae7d398"
   },
   "source": [
    "# 1.2 Lines"
   ]
  },
  {
   "cell_type": "code",
   "execution_count": null,
   "id": "aed081d2",
   "metadata": {
    "id": "aed081d2"
   },
   "outputs": [],
   "source": [
    "linesAustria = 'Austria/GIP_Strecken_MLA.json'\n",
    "linesAustriaFrame = gpd.read_file(linesAustria)"
   ]
  },
  {
   "cell_type": "code",
   "execution_count": null,
   "id": "f1d97ef7",
   "metadata": {
    "id": "f1d97ef7"
   },
   "outputs": [],
   "source": [
    "uselessColumns = ['GIP_OBID', 'BST_ID', 'FOW_NAME', 'FRC_NAME', 'REGION', 'VALIDFROM', 'VALIDTO', 'CROSSSECT', 'CROSS_NAME', \n",
    "                  'ELEKTRI', 'EXPDATE']\n",
    "\n",
    "for column in uselessColumns:\n",
    "    linesAustriaFrame = linesAustriaFrame.drop(column, axis=1)"
   ]
  },
  {
   "cell_type": "markdown",
   "id": "976b50a6",
   "metadata": {
    "id": "976b50a6"
   },
   "source": [
    "In the case of the lines, we can't remove any rows of the dataframe. Every line has a bit of information, that cannot be replicated based on other rows"
   ]
  },
  {
   "cell_type": "markdown",
   "id": "7184b251",
   "metadata": {
    "id": "7184b251"
   },
   "source": [
    "# 2. Visualisation"
   ]
  },
  {
   "cell_type": "markdown",
   "id": "f4c5b2dc",
   "metadata": {
    "id": "f4c5b2dc"
   },
   "source": [
    "We now have two sets of working data. We can visualise this data on interactive maps using folium"
   ]
  },
  {
   "cell_type": "code",
   "execution_count": null,
   "id": "23e9ae3f",
   "metadata": {
    "id": "23e9ae3f"
   },
   "outputs": [],
   "source": [
    "trainMap = folium.Map(location = [47.5, 14.6], tiles = 'OpenStreetMap', zoom_start=12)\n",
    "\n"
   ]
  },
  {
   "cell_type": "markdown",
   "id": "7eea9385",
   "metadata": {
    "id": "7eea9385"
   },
   "source": [
    "We can now add markers, based on the different train stations, onto the map"
   ]
  },
  {
   "cell_type": "code",
   "execution_count": null,
   "id": "8db13236",
   "metadata": {
    "id": "8db13236"
   },
   "outputs": [],
   "source": [
    "austriaStations = [[point.xy[1][0], point.xy[0][0]] for point in workFrameAustria.geometry ]"
   ]
  },
  {
   "cell_type": "code",
   "execution_count": null,
   "id": "d5bcc73b",
   "metadata": {
    "id": "d5bcc73b"
   },
   "outputs": [],
   "source": [
    "for i in range (len(austriaStations)):\n",
    "    coordinates = austriaStations[i]\n",
    "    station = workFrameAustria['NAME_FPL'].values[i]\n",
    "    dailyVisitors = largestStations['Austria'][station][0]\n",
    "    trainMap.add_child(folium.Marker(location = coordinates, popup = station + \"<br>\" + dailyVisitors + ' daily visitors'))"
   ]
  },
  {
   "cell_type": "code",
   "execution_count": null,
   "id": "07c02878",
   "metadata": {
    "id": "07c02878"
   },
   "outputs": [],
   "source": [
    "trainMap"
   ]
  },
  {
   "cell_type": "code",
   "execution_count": null,
   "id": "eb39425c",
   "metadata": {
    "id": "eb39425c"
   },
   "outputs": [],
   "source": [
    "for line in linesAustriaFrame.geometry:\n",
    "    lineTuple = []\n",
    "    lineTupleInvert = list(line[0].coords)\n",
    "    for i in range (len(lineTupleInvert)):\n",
    "        lineTuple.append([lineTupleInvert[i][1], lineTupleInvert[i][0]])\n",
    "    folium.PolyLine(lineTuple).add_to(trainMap)"
   ]
  },
  {
   "cell_type": "code",
   "execution_count": null,
   "id": "8385f1c7",
   "metadata": {
    "id": "8385f1c7"
   },
   "outputs": [],
   "source": [
    "trainMap"
   ]
  },
  {
   "cell_type": "markdown",
   "id": "834734f9",
   "metadata": {
    "id": "834734f9"
   },
   "source": [
    "# 2. Germany"
   ]
  },
  {
   "cell_type": "markdown",
   "id": "ff876f59",
   "metadata": {
    "id": "ff876f59"
   },
   "source": [
    "We can do the exact same for the German train lines"
   ]
  },
  {
   "cell_type": "code",
   "execution_count": null,
   "id": "704bff64",
   "metadata": {
    "id": "704bff64"
   },
   "outputs": [],
   "source": [
    "largestStations['Germany'] = dataGathering.gather(urlGermany)"
   ]
  },
  {
   "cell_type": "code",
   "execution_count": null,
   "id": "9e61f6f4",
   "metadata": {
    "id": "9e61f6f4"
   },
   "outputs": [],
   "source": [
    "largestStations = changeKeys('Germany', 'Hauptbahnhof', 'Hbf')"
   ]
  },
  {
   "cell_type": "markdown",
   "id": "0d7db379",
   "metadata": {
    "id": "0d7db379"
   },
   "source": [
    "# 2.1 German Stations"
   ]
  },
  {
   "cell_type": "code",
   "execution_count": null,
   "id": "a3edbedc",
   "metadata": {
    "id": "a3edbedc"
   },
   "outputs": [],
   "source": [
    "stations = 'Germany/railwayStationNodes.geojson'\n",
    "\n",
    "deutscheBahnStations = gpd.read_file(stations)"
   ]
  },
  {
   "cell_type": "code",
   "execution_count": null,
   "id": "121a2f1a",
   "metadata": {
    "id": "121a2f1a"
   },
   "outputs": [],
   "source": [
    "deutscheBahnStations = deutscheBahnStations.drop('formOfNode', axis = 1)\n",
    "deutscheBahnStations = deutscheBahnStations.drop('id', axis = 1)"
   ]
  },
  {
   "cell_type": "code",
   "execution_count": null,
   "id": "325c41c4",
   "metadata": {
    "id": "325c41c4"
   },
   "outputs": [],
   "source": [
    "dfListStations = []\n",
    "for station in (list(largestStations['Germany'].keys())):\n",
    "    tempFrame = deutscheBahnStations.loc[deutscheBahnStations['geographicalName'] == station]\n",
    "    dfListStations.append(tempFrame)"
   ]
  },
  {
   "cell_type": "code",
   "execution_count": null,
   "id": "0c1bf8ba",
   "metadata": {
    "id": "0c1bf8ba"
   },
   "outputs": [],
   "source": [
    "workFrameStationsGermany = gpd.GeoDataFrame(pd.concat(dfListStations, ignore_index=True), crs=4258)"
   ]
  },
  {
   "cell_type": "code",
   "execution_count": null,
   "id": "8f478760",
   "metadata": {
    "id": "8f478760"
   },
   "outputs": [],
   "source": [
    "workFrameStationsGermany"
   ]
  },
  {
   "cell_type": "code",
   "execution_count": null,
   "id": "2f3b02b0",
   "metadata": {
    "id": "2f3b02b0"
   },
   "outputs": [],
   "source": [
    "workFrameStationsGermany = workFrameStationsGermany.drop_duplicates(subset='railwayStationCode')"
   ]
  },
  {
   "cell_type": "markdown",
   "id": "f779eba8",
   "metadata": {
    "id": "f779eba8"
   },
   "source": [
    "# 2.2 German train lines"
   ]
  },
  {
   "cell_type": "code",
   "execution_count": null,
   "id": "26961d95",
   "metadata": {
    "id": "26961d95"
   },
   "outputs": [],
   "source": [
    "deutscheBahnLines = gpd.read_file('Germany/railwayLines.geojson')"
   ]
  },
  {
   "cell_type": "markdown",
   "id": "af7c9d00",
   "metadata": {
    "id": "af7c9d00"
   },
   "source": [
    "# 2.3 Visualising German data"
   ]
  },
  {
   "cell_type": "code",
   "execution_count": null,
   "id": "af68147e",
   "metadata": {
    "id": "af68147e"
   },
   "outputs": [],
   "source": [
    "germanStationsList = [[point.xy[1][0], point.xy[0][0]] for point in workFrameStationsGermany.geometry ]"
   ]
  },
  {
   "cell_type": "code",
   "execution_count": null,
   "id": "2282e52a",
   "metadata": {
    "id": "2282e52a"
   },
   "outputs": [],
   "source": [
    "for i in range(len(germanStationsList)):\n",
    "    coordinates = germanStationsList[i]\n",
    "    station = workFrameStationsGermany['geographicalName'].values[i]\n",
    "    dailyVisitors = largestStations['Germany'][station][0]\n",
    "    trainMap.add_child(folium.Marker(location = coordinates, popup=station + \"<br>\" + dailyVisitors + ' daily visitors'))"
   ]
  },
  {
   "cell_type": "code",
   "execution_count": null,
   "id": "ee0c3ac3",
   "metadata": {
    "id": "ee0c3ac3"
   },
   "outputs": [],
   "source": [
    "trainMap"
   ]
  },
  {
   "cell_type": "code",
   "execution_count": null,
   "id": "28f387d8",
   "metadata": {
    "id": "28f387d8"
   },
   "outputs": [],
   "source": [
    "for line in deutscheBahnLines.geometry:\n",
    "    lineTuple = []\n",
    "    lineTupleInvert = list(line[0].coords)\n",
    "    for i in range (len(lineTupleInvert)):\n",
    "        lineTuple.append([lineTupleInvert[i][1], lineTupleInvert[i][0]])\n",
    "    folium.PolyLine(lineTuple).add_to(trainMap)"
   ]
  },
  {
   "cell_type": "code",
   "execution_count": null,
   "id": "337260f0",
   "metadata": {
    "id": "337260f0"
   },
   "outputs": [],
   "source": [
    "trainMap"
   ]
  },
  {
   "cell_type": "markdown",
   "id": "506eb5cd",
   "metadata": {
    "id": "506eb5cd"
   },
   "source": [
    "The German data is awfully incomplete. We can add further information on the German rail network by using a global database"
   ]
  },
  {
   "cell_type": "code",
   "execution_count": null,
   "id": "31d257a4",
   "metadata": {
    "id": "31d257a4"
   },
   "outputs": [],
   "source": [
    "globalData = 'World/wld_trs_railways_wfp.csv'\n",
    "worldData = pd.read_csv(globalData)"
   ]
  },
  {
   "cell_type": "code",
   "execution_count": null,
   "id": "596d26ca",
   "metadata": {
    "id": "596d26ca"
   },
   "outputs": [],
   "source": [
    "Germany = worldData[worldData['country'] == 'Germany']"
   ]
  },
  {
   "cell_type": "code",
   "execution_count": null,
   "id": "fbf8c18f",
   "metadata": {
    "id": "fbf8c18f",
    "scrolled": true
   },
   "outputs": [],
   "source": [
    "Germany['shape'] = Germany['shape'].apply(wkt.loads)"
   ]
  },
  {
   "cell_type": "code",
   "execution_count": null,
   "id": "865f76f0",
   "metadata": {
    "id": "865f76f0"
   },
   "outputs": [],
   "source": [
    "geodata = gpd.GeoSeries(Germany['shape'])"
   ]
  },
  {
   "cell_type": "code",
   "execution_count": null,
   "id": "4d9920eb",
   "metadata": {},
   "outputs": [],
   "source": [
    "geodata.head()"
   ]
  },
  {
   "cell_type": "code",
   "execution_count": null,
   "id": "df5ff31e",
   "metadata": {
    "id": "df5ff31e"
   },
   "outputs": [],
   "source": [
    "Germany.set_geometry('shape')"
   ]
  },
  {
   "cell_type": "code",
   "execution_count": null,
   "id": "49736d04",
   "metadata": {
    "id": "49736d04"
   },
   "outputs": [],
   "source": [
    "for line in geodata.geometry:\n",
    "    lineTuple = []\n",
    "    lineTupleInvert = list(line[0].coords)\n",
    "    for i in range (len(lineTupleInvert)):\n",
    "        lineTuple.append([lineTupleInvert[i][1], lineTupleInvert[i][0]])\n",
    "    folium.PolyLine(lineTuple).add_to(trainMap)"
   ]
  },
  {
   "cell_type": "code",
   "execution_count": null,
   "id": "104055b2",
   "metadata": {
    "id": "104055b2"
   },
   "outputs": [],
   "source": [
    "trainMap"
   ]
  },
  {
   "cell_type": "markdown",
   "id": "aTY5jhJag3sb",
   "metadata": {
    "id": "aTY5jhJag3sb"
   },
   "source": [
    "# 3 A look into the French railway network\n",
    "\n"
   ]
  },
  {
   "cell_type": "markdown",
   "id": "OGEO1HO1kGzz",
   "metadata": {
    "id": "OGEO1HO1kGzz"
   },
   "source": [
    "---\n",
    "A look into the French railway network \n",
    "\n",
    "We are using databases coming from French government open-data portal and French national railway company (SNCF) : https://www.data.gouv.fr/fr/ and https://ressources.data.sncf.com/pages/accueil/ \\\n",
    "We focus on two databases providing information either on the railway stations or on tne rail connections. \\\n",
    "The databases are : referentiel-gares-voyageurs.geojson and formes-des-lignes-du-rfn.geojson"
   ]
  },
  {
   "cell_type": "markdown",
   "id": "Wu0NlM42WScs",
   "metadata": {
    "id": "Wu0NlM42WScs"
   },
   "source": [
    "# 3.1 French Stations\n",
    "\n",
    "We first select the relevant cities. We focus on a dozen of them, the biggest ones. We chose : Paris, Lyon, Bordeaux, Toulouse, Brest, Marseille, Nice, Strasbourg, Rennes, Motpellier and Grenoble. \\\n",
    "Some of these cities have several stations. For more simplicity, there is a focus on the relevant stations connecting those cities."
   ]
  },
  {
   "cell_type": "code",
   "execution_count": null,
   "id": "dEr92IwwWcBB",
   "metadata": {
    "id": "dEr92IwwWcBB"
   },
   "outputs": [],
   "source": [
    "f_station = gpd.read_file('France/referentiel-gares-voyageurs.geojson')"
   ]
  },
  {
   "cell_type": "code",
   "execution_count": null,
   "id": "OuS8n1EbWXPr",
   "metadata": {
    "id": "OuS8n1EbWXPr"
   },
   "outputs": [],
   "source": [
    "values = ['Paris', 'Lyon', 'Strasbourg', 'Lille', 'Bordeaux', 'Massy', 'Marseille', 'Chessy', 'Brest', 'Rennes', 'Toulouse', 'Nice', 'Montpellier', 'Grenoble']\n",
    "f_station = f_station[f_station.commune_libellemin.isin(values)] \n",
    "\n",
    "f_station = f_station[f_station['segmentdrg_libelle']=='a']\t"
   ]
  },
  {
   "cell_type": "markdown",
   "id": "HSyMopetNbni",
   "metadata": {
    "id": "HSyMopetNbni"
   },
   "source": [
    "There is a selection on two criteria : the name of the city and the importance of the line between cities (segmentdrg_libelle). \\\n",
    "There is a focus on national and international railways. \\\n"
   ]
  },
  {
   "cell_type": "markdown",
   "id": "CB1gzxZqWe_t",
   "metadata": {
    "id": "CB1gzxZqWe_t"
   },
   "source": [
    "Note :  \\\n",
    "commune_libellemin = name of the city \\\n",
    "segmentdrg_libelle = a,b or c indicates the size of the railroad"
   ]
  },
  {
   "cell_type": "code",
   "execution_count": null,
   "id": "FotATHa7X3Yo",
   "metadata": {
    "id": "FotATHa7X3Yo"
   },
   "outputs": [],
   "source": [
    "f_station.loc[:,'Country'] = 'France'"
   ]
  },
  {
   "cell_type": "markdown",
   "id": "6qSPCNg2P_4O",
   "metadata": {
    "id": "6qSPCNg2P_4O"
   },
   "source": [
    "Additional column : name of the country and drop of the contingent."
   ]
  },
  {
   "cell_type": "code",
   "execution_count": null,
   "id": "PY0QVgbTY073",
   "metadata": {
    "id": "PY0QVgbTY073"
   },
   "outputs": [],
   "source": [
    "f_station.drop(['tvs', 'tvss',\n",
    "       'gare_alias_libelle_fronton', 'commune_code', 'uic_code', 'rg_libelle',\n",
    "       'gare', 'adresse_cp', 'code_gare', 'latitude_entreeprincipale_wgs84',\n",
    "       'gare_agencegc_libelle', 'departement_libellemin', 'code',\n",
    "       'gare_drg_on', 'gare_etrangere_on', 'segmentdrg_libelle',\n",
    "       'gare_regionsncf_libelle', 'longitude_entreeprincipale_wgs84',\n",
    "       'gare_ut_libelle', 'gare_nbpltf', 'alias_libelle_noncontraint',\n",
    "       'departement_numero', 'niveauservice_libelle', 'gare_ug_libelle'],1,inplace=True)"
   ]
  },
  {
   "cell_type": "code",
   "execution_count": null,
   "id": "_6xTVWNrZR2d",
   "metadata": {
    "colab": {
     "base_uri": "https://localhost:8080/",
     "height": 833
    },
    "id": "_6xTVWNrZR2d",
    "outputId": "845786d4-0e04-4572-fb5e-d803905ed60c"
   },
   "outputs": [],
   "source": [
    "f_station"
   ]
  },
  {
   "cell_type": "markdown",
   "id": "TRQvzF85th98",
   "metadata": {
    "id": "TRQvzF85th98"
   },
   "source": [
    "# 3.2 French railway lines\n",
    "\n",
    "Now, we select the relevant lines between those cities"
   ]
  },
  {
   "cell_type": "code",
   "execution_count": null,
   "id": "052ykZRjtmcO",
   "metadata": {
    "id": "052ykZRjtmcO"
   },
   "outputs": [],
   "source": [
    "lines_france = gpd.read_file('France/formes-des-lignes-du-rfn.geojson')"
   ]
  },
  {
   "cell_type": "markdown",
   "id": "bOdfygk-iO7b",
   "metadata": {
    "id": "bOdfygk-iO7b"
   },
   "source": [
    "We only focus on the exploited lines. We drop the lines that are unexploited or private."
   ]
  },
  {
   "cell_type": "code",
   "execution_count": null,
   "id": "k1y2E6mP2Ck2",
   "metadata": {
    "id": "k1y2E6mP2Ck2"
   },
   "outputs": [],
   "source": [
    "lines_france.drop(lines_france.loc[lines_france['libelle'] != 'Exploitée'].index, inplace = True)"
   ]
  },
  {
   "cell_type": "markdown",
   "id": "IYyDC4m7icVB",
   "metadata": {
    "id": "IYyDC4m7icVB"
   },
   "source": [
    "Selection the id of the lines of interest :"
   ]
  },
  {
   "cell_type": "code",
   "execution_count": null,
   "id": "dxd4j7R0KJd6",
   "metadata": {
    "id": "dxd4j7R0KJd6"
   },
   "outputs": [],
   "source": [
    "values = [ '930000', '752000', '810000', '640000', '566000','956000', '957000', '991300', '752330', '893000', '431000', '420000','834000', '226000', '005000', '905000', '752340', '226310', '005390', '752100' ]"
   ]
  },
  {
   "cell_type": "code",
   "execution_count": null,
   "id": "SMNW9Q-wUUOH",
   "metadata": {
    "id": "SMNW9Q-wUUOH"
   },
   "outputs": [],
   "source": [
    "lines_france = lines_france[lines_france.code_ligne.isin(values)] "
   ]
  },
  {
   "cell_type": "code",
   "execution_count": null,
   "id": "25e28bc7",
   "metadata": {},
   "outputs": [],
   "source": [
    "lines_france.head()"
   ]
  },
  {
   "cell_type": "markdown",
   "id": "YXNlpGqsi5o5",
   "metadata": {
    "id": "YXNlpGqsi5o5"
   },
   "source": [
    "# 3.3 Visualisation\n",
    "And a plot of the beautiful map :"
   ]
  },
  {
   "cell_type": "code",
   "execution_count": null,
   "id": "34546c68",
   "metadata": {},
   "outputs": [],
   "source": [
    "franceStations = [[point.xy[1][0], point.xy[0][0]] for point in f_station.geometry ]"
   ]
  },
  {
   "cell_type": "code",
   "execution_count": null,
   "id": "df0b4349",
   "metadata": {},
   "outputs": [],
   "source": [
    "for i in range(len(franceStations)):\n",
    "    coordinates = franceStations[i]\n",
    "    station = f_station['gare_alias_libelle_noncontraint'].values[i]\n",
    "    #dailyVisitors = largestStations['Germany'][station][0]\n",
    "    trainMap.add_child(folium.Marker(location = coordinates, popup=station))"
   ]
  },
  {
   "cell_type": "code",
   "execution_count": null,
   "id": "sn8ortsLSqMI",
   "metadata": {
    "id": "sn8ortsLSqMI"
   },
   "outputs": [],
   "source": [
    "for line in lines_france.geometry:\n",
    "    lineTuple = []\n",
    "    lineTupleInvert = list(line.coords)\n",
    "    for i in range (len(lineTupleInvert)):\n",
    "        lineTuple.append([lineTupleInvert[i][1], lineTupleInvert[i][0]])\n",
    "    folium.PolyLine(lineTuple).add_to(trainMap)"
   ]
  },
  {
   "cell_type": "code",
   "execution_count": null,
   "id": "d12ed5eb",
   "metadata": {},
   "outputs": [],
   "source": [
    "trainMap"
   ]
  },
  {
   "cell_type": "markdown",
   "id": "dDzbGh3VD95Q",
   "metadata": {
    "id": "dDzbGh3VD95Q"
   },
   "source": [
    "\n",
    "# 4 A look into the Belgian railway network\n",
    "\n",
    "We are using databases coming from Belgian government open-data portal : https://data.gov.be/fr \\\n",
    "We focus on one database providing information on the railway stations and rail connections. \\\n",
    "The base is : tc-trajet-train-statique-sncb.geojson"
   ]
  },
  {
   "cell_type": "markdown",
   "id": "gCByones5fds",
   "metadata": {
    "id": "gCByones5fds"
   },
   "source": [
    "# 4.1 Belgian railway stations\n",
    "\n",
    "Because of the small size of the country, there is a focus on the cities of Brussels, Antwerp, and Gent. We also add the connection with France : line between Brussels and Lille in France, and between Antwerp and Rotterdam in the Netherland. \\\n",
    "Because of the poor data , we chose to create our own dataset. The very small amount of datas studied is a key element of such a choice. \n",
    "So, there is the creation of a dataframe with relevant coordinates."
   ]
  },
  {
   "cell_type": "code",
   "execution_count": null,
   "id": "B9cNK2eW9IuX",
   "metadata": {
    "id": "B9cNK2eW9IuX"
   },
   "outputs": [],
   "source": [
    "df = pd.DataFrame(\n",
    "    {'City' : ['Brussel', 'Brussel','Gent', 'Atwerpen', 'Rotterdam',\"Amsterdam\"],\n",
    "     'Name': ['Brussel-Zuid','Brussel-Noord','Gent-Sint-Pieters','Antwerpen-Centraal','Rotterdam-Centraal', 'Amsterdam-Centraal'],\n",
    "     'Country': ['Belgium', 'Belgium', 'Belgium', 'Belgium', 'Netherland', 'Netherland'],\n",
    "     'Longitude': [4.33545, 4.36015, 3.71083, 4.42115, 4.46883, 4.90032],\n",
    "     'Latitude': [50.83605, 50.86045, 51.03609, 51.21722, 51.92528, 52.37913]})"
   ]
  },
  {
   "cell_type": "markdown",
   "id": "-v-17FPQB3ZC",
   "metadata": {
    "id": "-v-17FPQB3ZC"
   },
   "source": [
    "Then, transformation of the dataframe to a geopandas one : the coordinates are transformed into a geometry recognized when plotted on a map."
   ]
  },
  {
   "cell_type": "code",
   "execution_count": null,
   "id": "Q7Cgp4MU8Ng8",
   "metadata": {
    "id": "Q7Cgp4MU8Ng8"
   },
   "outputs": [],
   "source": [
    "b_station = gpd.GeoDataFrame(\n",
    "    df, geometry=gpd.points_from_xy(df.Longitude, df.Latitude))"
   ]
  },
  {
   "cell_type": "code",
   "execution_count": null,
   "id": "wLrsIob_9kYY",
   "metadata": {
    "colab": {
     "base_uri": "https://localhost:8080/",
     "height": 206
    },
    "id": "wLrsIob_9kYY",
    "outputId": "479c9ff7-83c3-472a-8dfd-a7503d1f205d"
   },
   "outputs": [],
   "source": [
    "b_station.drop(['Longitude', 'Latitude'],1, inplace = True)\n",
    "b_station"
   ]
  },
  {
   "cell_type": "markdown",
   "id": "sZQQvxmPeI8r",
   "metadata": {
    "id": "sZQQvxmPeI8r"
   },
   "source": [
    "# 4.2 Belgian lines\n",
    "\n",
    "After selection of the stations, we matched them with their id. Then we have to clean the geodataframe and add the last missing information."
   ]
  },
  {
   "cell_type": "code",
   "execution_count": null,
   "id": "a_bqC7IceN36",
   "metadata": {
    "id": "a_bqC7IceN36"
   },
   "outputs": [],
   "source": [
    "lines_belgium = gpd.read_file('Belgium/tc-trajet-train-statique-sncb.geojson')"
   ]
  },
  {
   "cell_type": "code",
   "execution_count": null,
   "id": "Qv3nPqlqe3Hx",
   "metadata": {
    "id": "Qv3nPqlqe3Hx"
   },
   "outputs": [],
   "source": [
    "values = [603,140,166,126,259,257,54,274,172,602]\n",
    "lines_belgium = lines_belgium[lines_belgium.id.isin(values)] \n",
    "lines_belgium.index = range(10)"
   ]
  },
  {
   "cell_type": "code",
   "execution_count": null,
   "id": "vcP3-vbOkyEP",
   "metadata": {
    "id": "vcP3-vbOkyEP"
   },
   "outputs": [],
   "source": [
    "departure = []\n",
    "arrival = []\n",
    "for k in range(10) :\n",
    "  index_ = lines_belgium.long_name[k].index('--')\n",
    "  departure.append(lines_belgium[\"long_name\"][k][:index_])\n",
    "  arrival.append(lines_belgium[\"long_name\"][k][index_+3:])\n",
    "\n",
    "lines_belgium.loc[:,\"Departure\"] = departure\n",
    "lines_belgium.loc[:,\"Arrival\"] = arrival\n",
    "lines_belgium.loc[:,\"Country_dep\"] = ['France', 'Belgium', 'Belgium', 'Belgium', 'Belgium', 'France', 'Netherland','Belgium', 'Belgium', 'Netherland']\n",
    "lines_belgium.loc[:,\"Country_arr\"] = 'Belgium'\n",
    "lines_belgium.drop(['short_name', 'long_name', 'id', 'route_type', 'color'],1,inplace=True)"
   ]
  },
  {
   "cell_type": "code",
   "execution_count": null,
   "id": "9160f667",
   "metadata": {},
   "outputs": [],
   "source": [
    "lines_belgium.head()"
   ]
  },
  {
   "cell_type": "markdown",
   "id": "oFojTb9Hr9Pp",
   "metadata": {
    "id": "oFojTb9Hr9Pp"
   },
   "source": [
    "#4.3 Visualisation\n",
    "And a visualisation of the achieved map :"
   ]
  },
  {
   "cell_type": "code",
   "execution_count": null,
   "id": "8ebceab2",
   "metadata": {},
   "outputs": [],
   "source": [
    "belgiumStation = [[point.xy[1][0], point.xy[0][0]] for point in b_station.geometry ]"
   ]
  },
  {
   "cell_type": "code",
   "execution_count": null,
   "id": "4aeeb586",
   "metadata": {},
   "outputs": [],
   "source": [
    "for i in range(len(belgiumStation)):\n",
    "    coordinates = belgiumStation[i]\n",
    "    station = b_station['Name'].values[i]\n",
    "    #dailyVisitors = largestStations['Germany'][station][0]\n",
    "    trainMap.add_child(folium.Marker(location = coordinates, popup=station))"
   ]
  },
  {
   "cell_type": "code",
   "execution_count": null,
   "id": "e38453d7",
   "metadata": {},
   "outputs": [],
   "source": [
    "for line in lines_belgium.geometry:\n",
    "    lineTuple = []\n",
    "    lineTupleInvert = list(line[0].coords)\n",
    "    for i in range (len(lineTupleInvert)):\n",
    "        lineTuple.append([lineTupleInvert[i][1], lineTupleInvert[i][0]])\n",
    "    folium.PolyLine(lineTuple).add_to(trainMap)"
   ]
  },
  {
   "cell_type": "code",
   "execution_count": null,
   "id": "ce7a01a0",
   "metadata": {},
   "outputs": [],
   "source": [
    "trainMap"
   ]
  },
  {
   "cell_type": "markdown",
   "id": "3521a280",
   "metadata": {},
   "source": [
    "# 5. Switzerland railways"
   ]
  },
  {
   "cell_type": "markdown",
   "id": "1c72c7da",
   "metadata": {},
   "source": [
    "# 5.1 The lines"
   ]
  },
  {
   "cell_type": "code",
   "execution_count": null,
   "id": "29998433",
   "metadata": {},
   "outputs": [],
   "source": [
    "import geopandas as gpd\n",
    "import pandas as pd\n",
    "#The lines\n",
    "lines_suisse=gpd.read_file('Switzerland/linie-mit-polygon.geojson')"
   ]
  },
  {
   "cell_type": "code",
   "execution_count": null,
   "id": "942b0755",
   "metadata": {},
   "outputs": [],
   "source": [
    "lines_suisse.head()"
   ]
  },
  {
   "cell_type": "markdown",
   "id": "f78eecea",
   "metadata": {},
   "source": [
    "# 5.2 the stations"
   ]
  },
  {
   "cell_type": "code",
   "execution_count": null,
   "id": "dcf7150d",
   "metadata": {},
   "outputs": [],
   "source": [
    "final_df=pd.read_csv('Switzerland/Suisse_stations.csv')"
   ]
  },
  {
   "cell_type": "code",
   "execution_count": null,
   "id": "d3c3e302",
   "metadata": {},
   "outputs": [],
   "source": [
    "final_df.head()"
   ]
  },
  {
   "cell_type": "markdown",
   "id": "cc61a328",
   "metadata": {},
   "source": [
    "# 5.3 Visualisation "
   ]
  },
  {
   "cell_type": "code",
   "execution_count": null,
   "id": "3f937095",
   "metadata": {},
   "outputs": [],
   "source": [
    "#We need a function to convert swiss coordinates into standard coordinates\n",
    "from pyproj import Proj, transform\n",
    "\n",
    "def convert(x,y):\n",
    "    inProj = Proj(init='epsg:2056')\n",
    "    outProj = Proj(init='epsg:4326')\n",
    "    x1,y1 = x,y\n",
    "    x2,y2 = transform(inProj,outProj,x1,y1)\n",
    "    return [y2,x2]"
   ]
  },
  {
   "cell_type": "code",
   "execution_count": null,
   "id": "c56ef2ca",
   "metadata": {},
   "outputs": [],
   "source": [
    "for i in range(len(final_df)):\n",
    "    coordinates = [final_df['Coord. E'][i], final_df['Coord. N'][i]]\n",
    "    station = final_df['Nom (ordre alphab.)'][i]\n",
    "    #dailyVisitors = largestStations['Germany'][station][0]\n",
    "    trainMap.add_child(folium.Marker(location = coordinates, popup=station))"
   ]
  },
  {
   "cell_type": "code",
   "execution_count": null,
   "id": "4e457664",
   "metadata": {},
   "outputs": [],
   "source": [
    "for line in lines_suisse.geometry:\n",
    "    lineTuple = []\n",
    "    lineTupleInvert = list(line.coords)\n",
    "    for i in range (len(lineTupleInvert)):\n",
    "        lineTuple.append([lineTupleInvert[i][1], lineTupleInvert[i][0]])\n",
    "    folium.PolyLine(lineTuple).add_to(trainMap)"
   ]
  },
  {
   "cell_type": "code",
   "execution_count": null,
   "id": "1b8c4b8d",
   "metadata": {},
   "outputs": [],
   "source": [
    "trainMap"
   ]
  },
  {
   "cell_type": "markdown",
   "id": "2e9ff0cd",
   "metadata": {},
   "source": [
    "# 6. An European visualisation"
   ]
  },
  {
   "cell_type": "markdown",
   "id": "ea496f76",
   "metadata": {},
   "source": [
    "# 6.1 The database\n"
   ]
  },
  {
   "cell_type": "markdown",
   "id": "56e2859a",
   "metadata": {},
   "source": [
    "I use the database given by Geonode on https://geonode.wfp.org/layers/geonode:wld_trs_railways_wfp/metadata_detail"
   ]
  },
  {
   "cell_type": "code",
   "execution_count": null,
   "id": "4318fe42",
   "metadata": {},
   "outputs": [],
   "source": [
    "data=pd.read_csv('World/wld_trs_railways_wfp.csv')"
   ]
  },
  {
   "cell_type": "markdown",
   "id": "88278779",
   "metadata": {},
   "source": [
    "I only use data about the countries studied before."
   ]
  },
  {
   "cell_type": "code",
   "execution_count": null,
   "id": "7103091f",
   "metadata": {},
   "outputs": [],
   "source": [
    "\n",
    "\n",
    "France=data[data['country']=='France']\n",
    "Belgium=data[data['country']=='Belgium']\n",
    "Austria=data[data['country']=='Austria']\n",
    "Germany=data[data['country']=='Germany']\n",
    "Suisse=data[data['country']=='Switzerland']\n",
    "\n",
    "Europe=pd.concat([France,Belgium,Austria,Germany,Suisse])\n",
    "\n",
    "from shapely import wkt\n",
    "Europe['shape'] = Europe['shape'].apply(wkt.loads)\n",
    "\n",
    "\n",
    "geodata=gpd.GeoSeries(Europe['shape'],crs={'init':'epsg:4326'})\n"
   ]
  },
  {
   "cell_type": "markdown",
   "id": "e46bef3f",
   "metadata": {},
   "source": [
    "# 6.2 Visualisation\n",
    "\n",
    "I choose the main cities of our countries in a dataframe you can find on https://www.clearlyandsimply.com/clearly_and_simply/2010/10/geocoding-databases-for-europe.html"
   ]
  },
  {
   "cell_type": "code",
   "execution_count": null,
   "id": "1b955057",
   "metadata": {},
   "outputs": [],
   "source": [
    "Europetown=pd.read_csv('World/european_cities_us_standard.csv')\n",
    "\n",
    "Cities=['Paris','Marseille 01','Bern','Lyon 01','Linz','Mnchen','Zrich','Charleroi','Basel','Bruxelles','Berlin','Wien','Antwerpen']\n",
    "        \n",
    "Europetown1=Europetown[Europetown['European City']=='Lille']        \n",
    "\n",
    "for city in Cities:\n",
    "    Europetown1=Europetown1.append(Europetown[Europetown['European City']==city])\n",
    "\n",
    "Europetown1"
   ]
  },
  {
   "cell_type": "code",
   "execution_count": null,
   "id": "8a2d7de5",
   "metadata": {},
   "outputs": [],
   "source": [
    "import folium\n",
    "print(folium.__version__)\n",
    "\n",
    "\n",
    "europe= folium.Map(location=[45, 5],\n",
    "                   tiles='OpenStreetMap', zoom_start=5)\n",
    "\n",
    "for i in range(0,len(Europetown1)):\n",
    "      europe.add_child(folium.Marker(location=(Europetown1['Latitude'].iloc[i],Europetown1['Longitude'].iloc[i]), popup=Europetown1['European City'].iloc[i]))\n",
    "#map_suisse\n",
    "europe.choropleth(geo_data=geodata)\n",
    "europe"
   ]
  },
  {
   "cell_type": "code",
   "execution_count": null,
   "id": "77fa17f1",
   "metadata": {},
   "outputs": [],
   "source": []
  }
 ],
 "metadata": {
  "colab": {
   "name": "Visualisation.ipynb",
   "provenance": []
  },
  "kernelspec": {
   "display_name": "Python 3 (ipykernel)",
   "language": "python",
   "name": "python3"
  },
  "language_info": {
   "codemirror_mode": {
    "name": "ipython",
    "version": 3
   },
   "file_extension": ".py",
   "mimetype": "text/x-python",
   "name": "python",
   "nbconvert_exporter": "python",
   "pygments_lexer": "ipython3",
   "version": "3.8.3"
  }
 },
 "nbformat": 4,
 "nbformat_minor": 5
}
