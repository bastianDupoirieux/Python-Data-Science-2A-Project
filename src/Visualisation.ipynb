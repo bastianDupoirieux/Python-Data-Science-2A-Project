{
  "cells": [
    {
      "cell_type": "markdown",
      "id": "7a7e80ac",
      "metadata": {
        "id": "7a7e80ac"
      },
      "source": [
        "# A look into creating interactive maps with folium"
      ]
    },
    {
      "cell_type": "markdown",
      "id": "c96f7209",
      "metadata": {
        "id": "c96f7209"
      },
      "source": [
        "We'll be using the individual datasets at first, to get individual countries' maps. Once we have the work on individual countries, we'll start trying to build a european map"
      ]
    },
    {
      "cell_type": "markdown",
      "id": "6e14d8bd",
      "metadata": {
        "id": "6e14d8bd"
      },
      "source": [
        "We start by importing the required packages"
      ]
    },
    {
      "cell_type": "code",
      "execution_count": null,
      "id": "816dbece",
      "metadata": {
        "id": "816dbece"
      },
      "outputs": [],
      "source": [
        "import countriesAndCities\n",
        "import dataGathering\n",
        "import folium\n",
        "import geopandas as gpd\n",
        "import pandas as pd\n",
        "import contextily as ctx\n",
        "from shapely import wkt"
      ]
    },
    {
      "cell_type": "markdown",
      "id": "c622faa8",
      "metadata": {
        "id": "c622faa8"
      },
      "source": [
        "# 1. Austria"
      ]
    },
    {
      "cell_type": "code",
      "execution_count": null,
      "id": "9a5b68e7",
      "metadata": {
        "id": "9a5b68e7"
      },
      "outputs": [],
      "source": [
        "def changeKeys(country, valueToChange, newValue):\n",
        "    '''A method that takes the keys for a country in the largestStations dictionary, and replacey certain values\n",
        "     @param country: the country with a value to change, of type string\n",
        "     @param valueToChange: the value in the key to change\n",
        "     @param newValue: the new value in the key\n",
        "     @return largestStations: a dictionary with the information, of type dict'''\n",
        "    listKeys = list(largestStations[country].keys())\n",
        "    oldKeys = []\n",
        "    for i in range (len(listKeys)):\n",
        "        station = listKeys[i]\n",
        "        if valueToChange in listKeys[i]:\n",
        "            oldKey = station\n",
        "            oldKeys.append(oldKey)\n",
        "            newKey = station.replace(valueToChange, '') + newValue\n",
        "            largestStations[country][newKey] = largestStations[country][oldKey]\n",
        "    \n",
        "    for station in oldKeys:\n",
        "        largestStations[country].pop(station)\n",
        "    \n",
        "    return(largestStations)"
      ]
    },
    {
      "cell_type": "markdown",
      "id": "eaccc781",
      "metadata": {
        "id": "eaccc781"
      },
      "source": [
        "We build the dataset the same way we built it for the unified database"
      ]
    },
    {
      "cell_type": "code",
      "execution_count": null,
      "id": "1b3a4069",
      "metadata": {
        "id": "1b3a4069"
      },
      "outputs": [],
      "source": [
        "largestStations = dict()\n",
        "\n",
        "urlGermany = 'https://bahnauskunft.info/bahnhoefe-deutschland/'\n",
        "urlAustria = 'https://www.omio.at/bahnhoefe'"
      ]
    },
    {
      "cell_type": "code",
      "execution_count": null,
      "id": "d4239173",
      "metadata": {
        "id": "d4239173"
      },
      "outputs": [],
      "source": [
        "largestStations['Austria']= dataGathering.gather(urlAustria, start=1)"
      ]
    },
    {
      "cell_type": "code",
      "execution_count": null,
      "id": "50121d49",
      "metadata": {
        "id": "50121d49"
      },
      "outputs": [],
      "source": [
        "largestStations = changeKeys('Austria', 'Hbf', 'Hauptbahnhof')"
      ]
    },
    {
      "cell_type": "code",
      "execution_count": null,
      "id": "9573d0c3",
      "metadata": {
        "id": "9573d0c3"
      },
      "outputs": [],
      "source": [
        "largestStations['Austria']"
      ]
    },
    {
      "cell_type": "code",
      "execution_count": null,
      "id": "ed60acef",
      "metadata": {
        "id": "ed60acef"
      },
      "outputs": [],
      "source": [
        "largestStations['Austria']['Wien Westbahnhof'][0]"
      ]
    },
    {
      "cell_type": "markdown",
      "id": "e4d3ed1c",
      "metadata": {
        "id": "e4d3ed1c"
      },
      "source": [
        "# 1.1 Stations"
      ]
    },
    {
      "cell_type": "code",
      "execution_count": null,
      "id": "0b29c669",
      "metadata": {
        "id": "0b29c669"
      },
      "outputs": [],
      "source": [
        "stationsAustria = 'Austria/GIP_Betriebsstellen_DelEUV_JSON.json'\n",
        "stationsAustriaFrame = gpd.read_file(stationsAustria)"
      ]
    },
    {
      "cell_type": "code",
      "execution_count": null,
      "id": "f7d2ce7e",
      "metadata": {
        "id": "f7d2ce7e"
      },
      "outputs": [],
      "source": [
        "columnsToRemove = ['BSTS_ID', 'DB640_CODE', 'OBJECTID', 'GIP_OBID', 'EXTERNALID', 'REGIONALCO', 'VALIDFROM', 'VALIDTO', 'OWNER_NAME', 'PV_EVA_NR', 'ANZ_AUFZUG', 'ANZ_FAHRTR', 'ANZ_UHREN',\n",
        "                  'ANZ_AKUSTI','ANZ_OPTISC', 'INFOPOINT', 'MUEZ', 'MUEZ_KURZ', 'HILFE_MOBI', 'ANZ_ROLLST', 'ANZ_E_LADE', 'RUD_PARKPL', 'VERIFIZIER',\n",
        "                  'PUBL_WLAN', 'MUEZ_LANG', 'BEMERKUNG']"
      ]
    },
    {
      "cell_type": "code",
      "execution_count": null,
      "id": "8d9b0380",
      "metadata": {
        "id": "8d9b0380"
      },
      "outputs": [],
      "source": [
        "for column in columnsToRemove:\n",
        "    stationsAustriaFrame = stationsAustriaFrame.drop(column, axis=1)"
      ]
    },
    {
      "cell_type": "code",
      "execution_count": null,
      "id": "77065039",
      "metadata": {
        "id": "77065039"
      },
      "outputs": [],
      "source": [
        "dfStationsAustria = []\n",
        "for station in largestStations['Austria']:\n",
        "    tempFrame = stationsAustriaFrame.loc[stationsAustriaFrame['NAME_FPL'] == station]\n",
        "    dfStationsAustria.append(tempFrame)"
      ]
    },
    {
      "cell_type": "code",
      "execution_count": null,
      "id": "af084a1a",
      "metadata": {
        "id": "af084a1a"
      },
      "outputs": [],
      "source": [
        "workFrameAustria = gpd.GeoDataFrame(pd.concat(dfStationsAustria), crs = 31287)"
      ]
    },
    {
      "cell_type": "code",
      "execution_count": null,
      "id": "935def7a",
      "metadata": {
        "id": "935def7a"
      },
      "outputs": [],
      "source": [
        "workFrameAustria = gpd.GeoDataFrame(pd.concat(dfStationsAustria), crs = 31287)"
      ]
    },
    {
      "cell_type": "code",
      "execution_count": null,
      "id": "037e3da1",
      "metadata": {
        "id": "037e3da1"
      },
      "outputs": [],
      "source": [
        "workFrameAustria"
      ]
    },
    {
      "cell_type": "code",
      "execution_count": null,
      "id": "63b2ff45",
      "metadata": {
        "id": "63b2ff45"
      },
      "outputs": [],
      "source": [
        "workFrameAustria['NAME_FPL'].values[0]"
      ]
    },
    {
      "cell_type": "markdown",
      "id": "3ae7d398",
      "metadata": {
        "id": "3ae7d398"
      },
      "source": [
        "# 1.2 Lines"
      ]
    },
    {
      "cell_type": "code",
      "execution_count": null,
      "id": "aed081d2",
      "metadata": {
        "id": "aed081d2"
      },
      "outputs": [],
      "source": [
        "linesAustria = 'Austria/GIP_Strecken_MLA.json'\n",
        "linesAustriaFrame = gpd.read_file(linesAustria)"
      ]
    },
    {
      "cell_type": "code",
      "execution_count": null,
      "id": "f1d97ef7",
      "metadata": {
        "id": "f1d97ef7"
      },
      "outputs": [],
      "source": [
        "uselessColumns = ['GIP_OBID', 'BST_ID', 'FOW_NAME', 'FRC_NAME', 'REGION', 'VALIDFROM', 'VALIDTO', 'CROSSSECT', 'CROSS_NAME', \n",
        "                  'ELEKTRI', 'EXPDATE']\n",
        "\n",
        "for column in uselessColumns:\n",
        "    linesAustriaFrame = linesAustriaFrame.drop(column, axis=1)"
      ]
    },
    {
      "cell_type": "markdown",
      "id": "976b50a6",
      "metadata": {
        "id": "976b50a6"
      },
      "source": [
        "In the case of the lines, we can't remove any rows of the dataframe. Every line has a bit of information, that cannot be replicated based on other rows"
      ]
    },
    {
      "cell_type": "markdown",
      "id": "7184b251",
      "metadata": {
        "id": "7184b251"
      },
      "source": [
        "# 2. Visualisation"
      ]
    },
    {
      "cell_type": "markdown",
      "id": "f4c5b2dc",
      "metadata": {
        "id": "f4c5b2dc"
      },
      "source": [
        "We now have two sets of working data. We can visualise this data on interactive maps using folium"
      ]
    },
    {
      "cell_type": "code",
      "execution_count": null,
      "id": "23e9ae3f",
      "metadata": {
        "id": "23e9ae3f"
      },
      "outputs": [],
      "source": [
        "trainMap = folium.Map(location = [47.5, 14.6], tiles = 'OpenStreetMap', zoom_start=12)\n",
        "\n"
      ]
    },
    {
      "cell_type": "markdown",
      "id": "7eea9385",
      "metadata": {
        "id": "7eea9385"
      },
      "source": [
        "We can now add markers, based on the different train stations, onto the map"
      ]
    },
    {
      "cell_type": "code",
      "execution_count": null,
      "id": "8db13236",
      "metadata": {
        "id": "8db13236"
      },
      "outputs": [],
      "source": [
        "austriaStations = [[point.xy[1][0], point.xy[0][0]] for point in workFrameAustria.geometry ]"
      ]
    },
    {
      "cell_type": "code",
      "execution_count": null,
      "id": "d5bcc73b",
      "metadata": {
        "id": "d5bcc73b"
      },
      "outputs": [],
      "source": [
        "for i in range (len(austriaStations)):\n",
        "    coordinates = austriaStations[i]\n",
        "    station = workFrameAustria['NAME_FPL'].values[i]\n",
        "    dailyVisitors = largestStations['Austria'][station][0]\n",
        "    trainMap.add_child(folium.Marker(location = coordinates, popup = station + \"<br>\" + dailyVisitors + ' daily visitors'))"
      ]
    },
    {
      "cell_type": "code",
      "execution_count": null,
      "id": "07c02878",
      "metadata": {
        "id": "07c02878"
      },
      "outputs": [],
      "source": [
        "trainMap"
      ]
    },
    {
      "cell_type": "code",
      "execution_count": null,
      "id": "eb39425c",
      "metadata": {
        "id": "eb39425c"
      },
      "outputs": [],
      "source": [
        "for line in linesAustriaFrame.geometry:\n",
        "    lineTuple = []\n",
        "    lineTupleInvert = list(line[0].coords)\n",
        "    for i in range (len(lineTupleInvert)):\n",
        "        lineTuple.append([lineTupleInvert[i][1], lineTupleInvert[i][0]])\n",
        "    folium.PolyLine(lineTuple).add_to(trainMap)"
      ]
    },
    {
      "cell_type": "code",
      "execution_count": null,
      "id": "8385f1c7",
      "metadata": {
        "id": "8385f1c7"
      },
      "outputs": [],
      "source": [
        "trainMap"
      ]
    },
    {
      "cell_type": "markdown",
      "id": "834734f9",
      "metadata": {
        "id": "834734f9"
      },
      "source": [
        "# 2. Germany"
      ]
    },
    {
      "cell_type": "markdown",
      "id": "ff876f59",
      "metadata": {
        "id": "ff876f59"
      },
      "source": [
        "We can do the exact same for the German train lines"
      ]
    },
    {
      "cell_type": "code",
      "execution_count": null,
      "id": "704bff64",
      "metadata": {
        "id": "704bff64"
      },
      "outputs": [],
      "source": [
        "largestStations['Germany'] = dataGathering.gather(urlGermany)"
      ]
    },
    {
      "cell_type": "code",
      "execution_count": null,
      "id": "9e61f6f4",
      "metadata": {
        "id": "9e61f6f4"
      },
      "outputs": [],
      "source": [
        "largestStations = changeKeys('Germany', 'Hauptbahnhof', 'Hbf')"
      ]
    },
    {
      "cell_type": "markdown",
      "id": "0d7db379",
      "metadata": {
        "id": "0d7db379"
      },
      "source": [
        "# 2.1 German Stations"
      ]
    },
    {
      "cell_type": "code",
      "execution_count": null,
      "id": "a3edbedc",
      "metadata": {
        "id": "a3edbedc"
      },
      "outputs": [],
      "source": [
        "stations = 'Germany/railwayStationNodes.geojson'\n",
        "\n",
        "deutscheBahnStations = gpd.read_file(stations)"
      ]
    },
    {
      "cell_type": "code",
      "execution_count": null,
      "id": "121a2f1a",
      "metadata": {
        "id": "121a2f1a"
      },
      "outputs": [],
      "source": [
        "deutscheBahnStations = deutscheBahnStations.drop('formOfNode', axis = 1)\n",
        "deutscheBahnStations = deutscheBahnStations.drop('id', axis = 1)"
      ]
    },
    {
      "cell_type": "code",
      "execution_count": null,
      "id": "325c41c4",
      "metadata": {
        "id": "325c41c4"
      },
      "outputs": [],
      "source": [
        "dfListStations = []\n",
        "for station in (list(largestStations['Germany'].keys())):\n",
        "    tempFrame = deutscheBahnStations.loc[deutscheBahnStations['geographicalName'] == station]\n",
        "    dfListStations.append(tempFrame)"
      ]
    },
    {
      "cell_type": "code",
      "execution_count": null,
      "id": "0c1bf8ba",
      "metadata": {
        "id": "0c1bf8ba"
      },
      "outputs": [],
      "source": [
        "workFrameStationsGermany = gpd.GeoDataFrame(pd.concat(dfListStations, ignore_index=True), crs=4258)"
      ]
    },
    {
      "cell_type": "code",
      "execution_count": null,
      "id": "8f478760",
      "metadata": {
        "id": "8f478760"
      },
      "outputs": [],
      "source": [
        "workFrameStationsGermany"
      ]
    },
    {
      "cell_type": "code",
      "execution_count": null,
      "id": "2f3b02b0",
      "metadata": {
        "id": "2f3b02b0"
      },
      "outputs": [],
      "source": [
        "workFrameStationsGermany = workFrameStationsGermany.drop_duplicates(subset='railwayStationCode')"
      ]
    },
    {
      "cell_type": "markdown",
      "id": "f779eba8",
      "metadata": {
        "id": "f779eba8"
      },
      "source": [
        "# 2.2 German train lines"
      ]
    },
    {
      "cell_type": "code",
      "execution_count": null,
      "id": "26961d95",
      "metadata": {
        "id": "26961d95"
      },
      "outputs": [],
      "source": [
        "deutscheBahnLines = gpd.read_file('Germany/railwayLines.geojson')"
      ]
    },
    {
      "cell_type": "code",
      "execution_count": null,
      "id": "ea4c9059",
      "metadata": {
        "id": "ea4c9059"
      },
      "outputs": [],
      "source": [
        "workFrameLines = gpd.GeoDataFrame(pd.concat(dfListLines, ignore_index = True), crs = 4258)"
      ]
    },
    {
      "cell_type": "code",
      "execution_count": null,
      "id": "4bc9ab28",
      "metadata": {
        "id": "4bc9ab28"
      },
      "outputs": [],
      "source": [
        "workFrameLines = workFrameLines.drop_duplicates(subset='railwayLineCode')"
      ]
    },
    {
      "cell_type": "markdown",
      "id": "af7c9d00",
      "metadata": {
        "id": "af7c9d00"
      },
      "source": [
        "# 2.3 Visualising German data"
      ]
    },
    {
      "cell_type": "code",
      "execution_count": null,
      "id": "af68147e",
      "metadata": {
        "id": "af68147e"
      },
      "outputs": [],
      "source": [
        "germanStationsList = [[point.xy[1][0], point.xy[0][0]] for point in workFrameStationsGermany.geometry ]"
      ]
    },
    {
      "cell_type": "code",
      "execution_count": null,
      "id": "2282e52a",
      "metadata": {
        "id": "2282e52a"
      },
      "outputs": [],
      "source": [
        "for i in range(len(germanStationsList)):\n",
        "    coordinates = germanStationsList[i]\n",
        "    station = workFrameAustria['geographicalName'].values[i]\n",
        "    dailyVisitors = largestStations['Germany'][station][0]\n",
        "    trainMap.add_child(folium.Marker(location = coordinates, popup=station + \"<br>\" + dailyVisitors + ' daily visitors'))"
      ]
    },
    {
      "cell_type": "code",
      "execution_count": null,
      "id": "ee0c3ac3",
      "metadata": {
        "id": "ee0c3ac3"
      },
      "outputs": [],
      "source": [
        "trainMap"
      ]
    },
    {
      "cell_type": "code",
      "execution_count": null,
      "id": "28f387d8",
      "metadata": {
        "id": "28f387d8"
      },
      "outputs": [],
      "source": [
        "for line in deutscheBahnLines.geometry:\n",
        "    lineTuple = []\n",
        "    lineTupleInvert = list(line[0].coords)\n",
        "    for i in range (len(lineTupleInvert)):\n",
        "        lineTuple.append([lineTupleInvert[i][1], lineTupleInvert[i][0]])\n",
        "    folium.PolyLine(lineTuple).add_to(trainMap)"
      ]
    },
    {
      "cell_type": "code",
      "execution_count": null,
      "id": "337260f0",
      "metadata": {
        "id": "337260f0"
      },
      "outputs": [],
      "source": [
        "trainMap"
      ]
    },
    {
      "cell_type": "markdown",
      "id": "506eb5cd",
      "metadata": {
        "id": "506eb5cd"
      },
      "source": [
        "The German data is awfully incomplete. We can add further information on the German rail network by using a global database"
      ]
    },
    {
      "cell_type": "code",
      "execution_count": null,
      "id": "31d257a4",
      "metadata": {
        "id": "31d257a4"
      },
      "outputs": [],
      "source": [
        "globalData = 'wld_trs_railways_wfp.csv'\n",
        "worldData = pd.read_csv(globalData)"
      ]
    },
    {
      "cell_type": "code",
      "execution_count": null,
      "id": "596d26ca",
      "metadata": {
        "id": "596d26ca"
      },
      "outputs": [],
      "source": [
        "Germany = worldData[worldData['country'] == 'Germany']"
      ]
    },
    {
      "cell_type": "code",
      "execution_count": null,
      "id": "fbf8c18f",
      "metadata": {
        "id": "fbf8c18f",
        "scrolled": true
      },
      "outputs": [],
      "source": [
        "Germany['shape'] = Germany['shape'].apply(wkt.loads)"
      ]
    },
    {
      "cell_type": "code",
      "execution_count": null,
      "id": "865f76f0",
      "metadata": {
        "id": "865f76f0"
      },
      "outputs": [],
      "source": [
        "geodata = gpd.GeoSeries(Germany['shape'])"
      ]
    },
    {
      "cell_type": "code",
      "execution_count": null,
      "id": "df5ff31e",
      "metadata": {
        "id": "df5ff31e"
      },
      "outputs": [],
      "source": [
        "Germany.set_geometry('shape')"
      ]
    },
    {
      "cell_type": "code",
      "execution_count": null,
      "id": "49736d04",
      "metadata": {
        "id": "49736d04"
      },
      "outputs": [],
      "source": [
        "for line in geodata.geometry:\n",
        "    lineTuple = []\n",
        "    lineTupleInvert = list(line[0].coords)\n",
        "    for i in range (len(lineTupleInvert)):\n",
        "        lineTuple.append([lineTupleInvert[i][1], lineTupleInvert[i][0]])\n",
        "    folium.PolyLine(lineTuple).add_to(trainMap)"
      ]
    },
    {
      "cell_type": "code",
      "execution_count": null,
      "id": "104055b2",
      "metadata": {
        "id": "104055b2"
      },
      "outputs": [],
      "source": [
        "trainMap"
      ]
    },
    {
      "cell_type": "markdown",
      "id": "aTY5jhJag3sb",
      "metadata": {
        "id": "aTY5jhJag3sb"
      },
      "source": [
        "# 3 A look into the French railway network\n",
        "\n"
      ]
    },
    {
      "cell_type": "markdown",
      "id": "OGEO1HO1kGzz",
      "metadata": {
        "id": "OGEO1HO1kGzz"
      },
      "source": [
        "---\n",
        "A look into the French railway network \n",
        "\n",
        "We are using databases coming from French government open-data portal and French national railway company (SNCF) : https://www.data.gouv.fr/fr/ and https://ressources.data.sncf.com/pages/accueil/ \\\n",
        "We focus on two databases providing information either on the railway stations or on tne rail connections. \\\n",
        "The databases are : referentiel-gares-voyageurs.geojson and formes-des-lignes-du-rfn.geojson"
      ]
    },
    {
      "cell_type": "markdown",
      "id": "Wu0NlM42WScs",
      "metadata": {
        "id": "Wu0NlM42WScs"
      },
      "source": [
        "# 3.1 French Stations\n",
        "\n",
        "We first select the relevant cities. We focus on a dozen of them, the biggest ones. We chose : Paris, Lyon, Bordeaux, Toulouse, Brest, Marseille, Nice, Strasbourg, Rennes, Motpellier and Grenoble. \\\n",
        "Some of these cities have several stations. For more simplicity, there is a focus on the relevant stations connecting those cities."
      ]
    },
    {
      "cell_type": "code",
      "execution_count": null,
      "id": "dEr92IwwWcBB",
      "metadata": {
        "id": "dEr92IwwWcBB"
      },
      "outputs": [],
      "source": [
        "f_station = gpd.read_file('referentiel-gares-voyageurs.geojson')"
      ]
    },
    {
      "cell_type": "code",
      "execution_count": null,
      "id": "OuS8n1EbWXPr",
      "metadata": {
        "id": "OuS8n1EbWXPr"
      },
      "outputs": [],
      "source": [
        "values = ['Paris', 'Lyon', 'Strasbourg', 'Lille', 'Bordeaux', 'Massy', 'Marseille', 'Chessy', 'Brest', 'Rennes', 'Toulouse', 'Nice', 'Montpellier', 'Grenoble']\n",
        "f_station = f_station[f_station.commune_libellemin.isin(values)] \n",
        "\n",
        "f_station = f_station[f_station['segmentdrg_libelle']=='a']\t"
      ]
    },
    {
      "cell_type": "markdown",
      "id": "HSyMopetNbni",
      "metadata": {
        "id": "HSyMopetNbni"
      },
      "source": [
        "There is a selection on two criteria : the name of the city and the importance of the line between cities (segmentdrg_libelle). \\\n",
        "There is a focus on national and international railways. \\\n"
      ]
    },
    {
      "cell_type": "markdown",
      "id": "CB1gzxZqWe_t",
      "metadata": {
        "id": "CB1gzxZqWe_t"
      },
      "source": [
        "Note :  \\\n",
        "commune_libellemin = name of the city \\\n",
        "segmentdrg_libelle = a,b or c indicates the size of the railroad"
      ]
    },
    {
      "cell_type": "code",
      "execution_count": null,
      "id": "FotATHa7X3Yo",
      "metadata": {
        "id": "FotATHa7X3Yo"
      },
      "outputs": [],
      "source": [
        "f_station.loc[:,'Country'] = 'France'"
      ]
    },
    {
      "cell_type": "markdown",
      "id": "6qSPCNg2P_4O",
      "metadata": {
        "id": "6qSPCNg2P_4O"
      },
      "source": [
        "Additional column : name of the country and drop of the contingent."
      ]
    },
    {
      "cell_type": "code",
      "execution_count": null,
      "id": "PY0QVgbTY073",
      "metadata": {
        "id": "PY0QVgbTY073"
      },
      "outputs": [],
      "source": [
        "f_station.drop(['tvs', 'tvss',\n",
        "       'gare_alias_libelle_fronton', 'commune_code', 'uic_code', 'rg_libelle',\n",
        "       'gare', 'adresse_cp', 'code_gare', 'latitude_entreeprincipale_wgs84',\n",
        "       'gare_agencegc_libelle', 'departement_libellemin', 'code',\n",
        "       'gare_drg_on', 'gare_etrangere_on', 'segmentdrg_libelle',\n",
        "       'gare_regionsncf_libelle', 'longitude_entreeprincipale_wgs84',\n",
        "       'gare_ut_libelle', 'gare_nbpltf', 'alias_libelle_noncontraint',\n",
        "       'departement_numero', 'niveauservice_libelle', 'gare_ug_libelle'],1,inplace=True)"
      ]
    },
    {
      "cell_type": "code",
      "execution_count": null,
      "id": "_6xTVWNrZR2d",
      "metadata": {
        "colab": {
          "base_uri": "https://localhost:8080/",
          "height": 833
        },
        "id": "_6xTVWNrZR2d",
        "outputId": "845786d4-0e04-4572-fb5e-d803905ed60c"
      },
      "outputs": [
        {
          "data": {
            "text/html": [
              "\n",
              "  <div id=\"df-d57d5d84-4f4c-48a8-b9c7-e2335f0183f0\">\n",
              "    <div class=\"colab-df-container\">\n",
              "      <div>\n",
              "<style scoped>\n",
              "    .dataframe tbody tr th:only-of-type {\n",
              "        vertical-align: middle;\n",
              "    }\n",
              "\n",
              "    .dataframe tbody tr th {\n",
              "        vertical-align: top;\n",
              "    }\n",
              "\n",
              "    .dataframe thead th {\n",
              "        text-align: right;\n",
              "    }\n",
              "</style>\n",
              "<table border=\"1\" class=\"dataframe\">\n",
              "  <thead>\n",
              "    <tr style=\"text-align: right;\">\n",
              "      <th></th>\n",
              "      <th>gare_alias_libelle_noncontraint</th>\n",
              "      <th>commune_libellemin</th>\n",
              "      <th>geometry</th>\n",
              "      <th>Country</th>\n",
              "    </tr>\n",
              "  </thead>\n",
              "  <tbody>\n",
              "    <tr>\n",
              "      <th>107</th>\n",
              "      <td>Lyon Part Dieu</td>\n",
              "      <td>Lyon</td>\n",
              "      <td>POINT (4.85935 45.76056)</td>\n",
              "      <td>France</td>\n",
              "    </tr>\n",
              "    <tr>\n",
              "      <th>378</th>\n",
              "      <td>Paris Montparnasse</td>\n",
              "      <td>Paris</td>\n",
              "      <td>POINT (2.32051 48.84117)</td>\n",
              "      <td>France</td>\n",
              "    </tr>\n",
              "    <tr>\n",
              "      <th>386</th>\n",
              "      <td>Paris Saint-Lazare</td>\n",
              "      <td>Paris</td>\n",
              "      <td>POINT (2.32533 48.87624)</td>\n",
              "      <td>France</td>\n",
              "    </tr>\n",
              "    <tr>\n",
              "      <th>496</th>\n",
              "      <td>Paris Gare du Nord</td>\n",
              "      <td>Paris</td>\n",
              "      <td>POINT (2.35515 48.88018)</td>\n",
              "      <td>France</td>\n",
              "    </tr>\n",
              "    <tr>\n",
              "      <th>497</th>\n",
              "      <td>Lille Europe</td>\n",
              "      <td>Lille</td>\n",
              "      <td>POINT (3.07580 50.63922)</td>\n",
              "      <td>France</td>\n",
              "    </tr>\n",
              "    <tr>\n",
              "      <th>617</th>\n",
              "      <td>Nice</td>\n",
              "      <td>Nice</td>\n",
              "      <td>POINT (7.26190 43.70456)</td>\n",
              "      <td>France</td>\n",
              "    </tr>\n",
              "    <tr>\n",
              "      <th>632</th>\n",
              "      <td>Marseille Saint-Charles</td>\n",
              "      <td>Marseille</td>\n",
              "      <td>POINT (5.38041 43.30267)</td>\n",
              "      <td>France</td>\n",
              "    </tr>\n",
              "    <tr>\n",
              "      <th>776</th>\n",
              "      <td>Toulouse Matabiau</td>\n",
              "      <td>Toulouse</td>\n",
              "      <td>POINT (1.45362 43.61121)</td>\n",
              "      <td>France</td>\n",
              "    </tr>\n",
              "    <tr>\n",
              "      <th>917</th>\n",
              "      <td>Rennes</td>\n",
              "      <td>Rennes</td>\n",
              "      <td>POINT (-1.67274 48.10352)</td>\n",
              "      <td>France</td>\n",
              "    </tr>\n",
              "    <tr>\n",
              "      <th>1200</th>\n",
              "      <td>Grenoble</td>\n",
              "      <td>Grenoble</td>\n",
              "      <td>POINT (5.71458 45.19149)</td>\n",
              "      <td>France</td>\n",
              "    </tr>\n",
              "    <tr>\n",
              "      <th>1376</th>\n",
              "      <td>Bordeaux Saint-Jean</td>\n",
              "      <td>Bordeaux</td>\n",
              "      <td>POINT (-0.55670 44.82587)</td>\n",
              "      <td>France</td>\n",
              "    </tr>\n",
              "    <tr>\n",
              "      <th>1458</th>\n",
              "      <td>Brest</td>\n",
              "      <td>Brest</td>\n",
              "      <td>POINT (-4.47890 48.38811)</td>\n",
              "      <td>France</td>\n",
              "    </tr>\n",
              "    <tr>\n",
              "      <th>1522</th>\n",
              "      <td>Paris Montparnasse</td>\n",
              "      <td>Paris</td>\n",
              "      <td>POINT (2.32051 48.84117)</td>\n",
              "      <td>France</td>\n",
              "    </tr>\n",
              "    <tr>\n",
              "      <th>1595</th>\n",
              "      <td>Lille Flandres</td>\n",
              "      <td>Lille</td>\n",
              "      <td>POINT (3.06987 50.63658)</td>\n",
              "      <td>France</td>\n",
              "    </tr>\n",
              "    <tr>\n",
              "      <th>1633</th>\n",
              "      <td>Paris Gare du Nord</td>\n",
              "      <td>Paris</td>\n",
              "      <td>POINT (2.35515 48.88018)</td>\n",
              "      <td>France</td>\n",
              "    </tr>\n",
              "    <tr>\n",
              "      <th>1831</th>\n",
              "      <td>Lyon Perrache</td>\n",
              "      <td>Lyon</td>\n",
              "      <td>POINT (4.82573 45.74848)</td>\n",
              "      <td>France</td>\n",
              "    </tr>\n",
              "    <tr>\n",
              "      <th>1871</th>\n",
              "      <td>Paris Gare de Lyon</td>\n",
              "      <td>Paris</td>\n",
              "      <td>POINT (2.37352 48.84489)</td>\n",
              "      <td>France</td>\n",
              "    </tr>\n",
              "    <tr>\n",
              "      <th>2088</th>\n",
              "      <td>Massy TGV</td>\n",
              "      <td>Massy</td>\n",
              "      <td>POINT (2.26125 48.72576)</td>\n",
              "      <td>France</td>\n",
              "    </tr>\n",
              "    <tr>\n",
              "      <th>2303</th>\n",
              "      <td>Montpellier Saint-Roch</td>\n",
              "      <td>Montpellier</td>\n",
              "      <td>POINT (3.88067 43.60474)</td>\n",
              "      <td>France</td>\n",
              "    </tr>\n",
              "    <tr>\n",
              "      <th>2539</th>\n",
              "      <td>Paris Austerlitz</td>\n",
              "      <td>Paris</td>\n",
              "      <td>POINT (2.36489 48.84228)</td>\n",
              "      <td>France</td>\n",
              "    </tr>\n",
              "    <tr>\n",
              "      <th>2784</th>\n",
              "      <td>Strasbourg</td>\n",
              "      <td>Strasbourg</td>\n",
              "      <td>POINT (7.73458 48.58497)</td>\n",
              "      <td>France</td>\n",
              "    </tr>\n",
              "    <tr>\n",
              "      <th>2862</th>\n",
              "      <td>Paris Est</td>\n",
              "      <td>Paris</td>\n",
              "      <td>POINT (2.35842 48.87674)</td>\n",
              "      <td>France</td>\n",
              "    </tr>\n",
              "    <tr>\n",
              "      <th>2863</th>\n",
              "      <td>Marne-la-Vallée Chessy</td>\n",
              "      <td>Chessy</td>\n",
              "      <td>POINT (2.78272 48.86986)</td>\n",
              "      <td>France</td>\n",
              "    </tr>\n",
              "    <tr>\n",
              "      <th>2869</th>\n",
              "      <td>Paris Bercy Bourgogne - Pays d'Auvergne</td>\n",
              "      <td>Paris</td>\n",
              "      <td>POINT (2.38278 48.83917)</td>\n",
              "      <td>France</td>\n",
              "    </tr>\n",
              "    <tr>\n",
              "      <th>2871</th>\n",
              "      <td>Montpellier Sud de France</td>\n",
              "      <td>Montpellier</td>\n",
              "      <td>POINT (3.92462 43.59479)</td>\n",
              "      <td>France</td>\n",
              "    </tr>\n",
              "  </tbody>\n",
              "</table>\n",
              "</div>\n",
              "      <button class=\"colab-df-convert\" onclick=\"convertToInteractive('df-d57d5d84-4f4c-48a8-b9c7-e2335f0183f0')\"\n",
              "              title=\"Convert this dataframe to an interactive table.\"\n",
              "              style=\"display:none;\">\n",
              "        \n",
              "  <svg xmlns=\"http://www.w3.org/2000/svg\" height=\"24px\"viewBox=\"0 0 24 24\"\n",
              "       width=\"24px\">\n",
              "    <path d=\"M0 0h24v24H0V0z\" fill=\"none\"/>\n",
              "    <path d=\"M18.56 5.44l.94 2.06.94-2.06 2.06-.94-2.06-.94-.94-2.06-.94 2.06-2.06.94zm-11 1L8.5 8.5l.94-2.06 2.06-.94-2.06-.94L8.5 2.5l-.94 2.06-2.06.94zm10 10l.94 2.06.94-2.06 2.06-.94-2.06-.94-.94-2.06-.94 2.06-2.06.94z\"/><path d=\"M17.41 7.96l-1.37-1.37c-.4-.4-.92-.59-1.43-.59-.52 0-1.04.2-1.43.59L10.3 9.45l-7.72 7.72c-.78.78-.78 2.05 0 2.83L4 21.41c.39.39.9.59 1.41.59.51 0 1.02-.2 1.41-.59l7.78-7.78 2.81-2.81c.8-.78.8-2.07 0-2.86zM5.41 20L4 18.59l7.72-7.72 1.47 1.35L5.41 20z\"/>\n",
              "  </svg>\n",
              "      </button>\n",
              "      \n",
              "  <style>\n",
              "    .colab-df-container {\n",
              "      display:flex;\n",
              "      flex-wrap:wrap;\n",
              "      gap: 12px;\n",
              "    }\n",
              "\n",
              "    .colab-df-convert {\n",
              "      background-color: #E8F0FE;\n",
              "      border: none;\n",
              "      border-radius: 50%;\n",
              "      cursor: pointer;\n",
              "      display: none;\n",
              "      fill: #1967D2;\n",
              "      height: 32px;\n",
              "      padding: 0 0 0 0;\n",
              "      width: 32px;\n",
              "    }\n",
              "\n",
              "    .colab-df-convert:hover {\n",
              "      background-color: #E2EBFA;\n",
              "      box-shadow: 0px 1px 2px rgba(60, 64, 67, 0.3), 0px 1px 3px 1px rgba(60, 64, 67, 0.15);\n",
              "      fill: #174EA6;\n",
              "    }\n",
              "\n",
              "    [theme=dark] .colab-df-convert {\n",
              "      background-color: #3B4455;\n",
              "      fill: #D2E3FC;\n",
              "    }\n",
              "\n",
              "    [theme=dark] .colab-df-convert:hover {\n",
              "      background-color: #434B5C;\n",
              "      box-shadow: 0px 1px 3px 1px rgba(0, 0, 0, 0.15);\n",
              "      filter: drop-shadow(0px 1px 2px rgba(0, 0, 0, 0.3));\n",
              "      fill: #FFFFFF;\n",
              "    }\n",
              "  </style>\n",
              "\n",
              "      <script>\n",
              "        const buttonEl =\n",
              "          document.querySelector('#df-d57d5d84-4f4c-48a8-b9c7-e2335f0183f0 button.colab-df-convert');\n",
              "        buttonEl.style.display =\n",
              "          google.colab.kernel.accessAllowed ? 'block' : 'none';\n",
              "\n",
              "        async function convertToInteractive(key) {\n",
              "          const element = document.querySelector('#df-d57d5d84-4f4c-48a8-b9c7-e2335f0183f0');\n",
              "          const dataTable =\n",
              "            await google.colab.kernel.invokeFunction('convertToInteractive',\n",
              "                                                     [key], {});\n",
              "          if (!dataTable) return;\n",
              "\n",
              "          const docLinkHtml = 'Like what you see? Visit the ' +\n",
              "            '<a target=\"_blank\" href=https://colab.research.google.com/notebooks/data_table.ipynb>data table notebook</a>'\n",
              "            + ' to learn more about interactive tables.';\n",
              "          element.innerHTML = '';\n",
              "          dataTable['output_type'] = 'display_data';\n",
              "          await google.colab.output.renderOutput(dataTable, element);\n",
              "          const docLink = document.createElement('div');\n",
              "          docLink.innerHTML = docLinkHtml;\n",
              "          element.appendChild(docLink);\n",
              "        }\n",
              "      </script>\n",
              "    </div>\n",
              "  </div>\n",
              "  "
            ],
            "text/plain": [
              "              gare_alias_libelle_noncontraint  ... Country\n",
              "107                            Lyon Part Dieu  ...  France\n",
              "378                        Paris Montparnasse  ...  France\n",
              "386                        Paris Saint-Lazare  ...  France\n",
              "496                        Paris Gare du Nord  ...  France\n",
              "497                              Lille Europe  ...  France\n",
              "617                                      Nice  ...  France\n",
              "632                   Marseille Saint-Charles  ...  France\n",
              "776                         Toulouse Matabiau  ...  France\n",
              "917                                    Rennes  ...  France\n",
              "1200                                 Grenoble  ...  France\n",
              "1376                      Bordeaux Saint-Jean  ...  France\n",
              "1458                                    Brest  ...  France\n",
              "1522                       Paris Montparnasse  ...  France\n",
              "1595                           Lille Flandres  ...  France\n",
              "1633                       Paris Gare du Nord  ...  France\n",
              "1831                            Lyon Perrache  ...  France\n",
              "1871                       Paris Gare de Lyon  ...  France\n",
              "2088                                Massy TGV  ...  France\n",
              "2303                   Montpellier Saint-Roch  ...  France\n",
              "2539                         Paris Austerlitz  ...  France\n",
              "2784                               Strasbourg  ...  France\n",
              "2862                                Paris Est  ...  France\n",
              "2863                   Marne-la-Vallée Chessy  ...  France\n",
              "2869  Paris Bercy Bourgogne - Pays d'Auvergne  ...  France\n",
              "2871                Montpellier Sud de France  ...  France\n",
              "\n",
              "[25 rows x 4 columns]"
            ]
          },
          "execution_count": 71,
          "metadata": {},
          "output_type": "execute_result"
        }
      ],
      "source": [
        "f_station"
      ]
    },
    {
      "cell_type": "markdown",
      "id": "TRQvzF85th98",
      "metadata": {
        "id": "TRQvzF85th98"
      },
      "source": [
        "# 3.2 French railway lines\n",
        "\n",
        "Now, we select the relevant lines between those cities"
      ]
    },
    {
      "cell_type": "code",
      "execution_count": null,
      "id": "052ykZRjtmcO",
      "metadata": {
        "id": "052ykZRjtmcO"
      },
      "outputs": [],
      "source": [
        "lines_france = gpd.read_file('formes-des-lignes-du-rfn.geojson')"
      ]
    },
    {
      "cell_type": "markdown",
      "id": "bOdfygk-iO7b",
      "metadata": {
        "id": "bOdfygk-iO7b"
      },
      "source": [
        "We only focus on the exploited lines. We drop the lines that are unexploited or private."
      ]
    },
    {
      "cell_type": "code",
      "execution_count": null,
      "id": "k1y2E6mP2Ck2",
      "metadata": {
        "id": "k1y2E6mP2Ck2"
      },
      "outputs": [],
      "source": [
        "lines_france.drop(lines_france.loc[lines_france['libelle'] != 'Exploitée'].index, inplace = True)"
      ]
    },
    {
      "cell_type": "markdown",
      "id": "IYyDC4m7icVB",
      "metadata": {
        "id": "IYyDC4m7icVB"
      },
      "source": [
        "Selection the id of the lines of interest :"
      ]
    },
    {
      "cell_type": "code",
      "execution_count": null,
      "id": "dxd4j7R0KJd6",
      "metadata": {
        "id": "dxd4j7R0KJd6"
      },
      "outputs": [],
      "source": [
        "values = [ '930000', '752000', '810000', '640000', '566000','956000', '957000', '991300', '752330', '893000', '431000', '420000','834000', '226000', '005000', '905000', '752340', '226310', '005390', '752100' ]"
      ]
    },
    {
      "cell_type": "code",
      "execution_count": null,
      "id": "SMNW9Q-wUUOH",
      "metadata": {
        "id": "SMNW9Q-wUUOH"
      },
      "outputs": [],
      "source": [
        "lines_france = lines_france[lines_france.code_ligne.isin(values)] "
      ]
    },
    {
      "cell_type": "markdown",
      "id": "YXNlpGqsi5o5",
      "metadata": {
        "id": "YXNlpGqsi5o5"
      },
      "source": [
        "# 3.3 Visualisation\n",
        "And a plot of the beautiful map :"
      ]
    },
    {
      "cell_type": "code",
      "execution_count": null,
      "id": "sn8ortsLSqMI",
      "metadata": {
        "id": "sn8ortsLSqMI"
      },
      "outputs": [],
      "source": [
        "fig,ax = plt.subplots(figsize=(60, 30))\n",
        "f_station.plot(ax = ax, alpha=0.9, edgecolor='black')\n",
        "lines_france.plot(ax = ax, alpha=0.9, edgecolor='red')\n",
        "ctx.add_basemap(ax, crs = lines_france.crs.to_string())\n",
        "ax.set_axis_off()\n",
        "ax"
      ]
    },
    {
      "cell_type": "markdown",
      "id": "dDzbGh3VD95Q",
      "metadata": {
        "id": "dDzbGh3VD95Q"
      },
      "source": [
        "\n",
        "# 4 A look into the Belgian railway network\n",
        "\n",
        "We are using databases coming from Belgian government open-data portal : https://data.gov.be/fr \\\n",
        "We focus on one database providing information on the railway stations and rail connections. \\\n",
        "The base is : tc-trajet-train-statique-sncb.geojson"
      ]
    },
    {
      "cell_type": "markdown",
      "id": "gCByones5fds",
      "metadata": {
        "id": "gCByones5fds"
      },
      "source": [
        "# 4.1 Belgian railway stations\n",
        "\n",
        "Because of the small size of the country, there is a focus on the cities of Brussels, Antwerp, and Gent. We also add the connection with France : line between Brussels and Lille in France, and between Antwerp and Rotterdam in the Netherland. \\\n",
        "Because of the poor data , we chose to create our own dataset. The very small amount of datas studied is a key element of such a choice. \n",
        "So, there is the creation of a dataframe with relevant coordinates."
      ]
    },
    {
      "cell_type": "code",
      "execution_count": null,
      "id": "B9cNK2eW9IuX",
      "metadata": {
        "id": "B9cNK2eW9IuX"
      },
      "outputs": [],
      "source": [
        "df = pd.DataFrame(\n",
        "    {'City' : ['Brussel', 'Brussel','Gent', 'Atwerpen', 'Rotterdam'],\n",
        "     'Name': ['Brussel-Zuid','Brussel-Noord','Gent-Sint-Pieters','Antwerpen-Centraal','Rotterdam-Centraal'],\n",
        "     'Country': ['Belgium', 'Belgium', 'Belgium', 'Belgium', 'Netherland'],\n",
        "     'Longitude': [4.33545, 4.36015, 3.71083, 4.42115, 4.46883],\n",
        "     'Latitude': [50.83605, 50.86045, 51.03609, 51.21722, 51.92528]})"
      ]
    },
    {
      "cell_type": "markdown",
      "id": "-v-17FPQB3ZC",
      "metadata": {
        "id": "-v-17FPQB3ZC"
      },
      "source": [
        "Then, transformation of the dataframe to a geopandas one : the coordinates are transformed into a geometry recognized when plotted on a map."
      ]
    },
    {
      "cell_type": "code",
      "execution_count": null,
      "id": "Q7Cgp4MU8Ng8",
      "metadata": {
        "id": "Q7Cgp4MU8Ng8"
      },
      "outputs": [],
      "source": [
        "b_station = gpd.GeoDataFrame(\n",
        "    df, geometry=gpd.points_from_xy(df.Longitude, df.Latitude))"
      ]
    },
    {
      "cell_type": "code",
      "execution_count": null,
      "id": "wLrsIob_9kYY",
      "metadata": {
        "colab": {
          "base_uri": "https://localhost:8080/",
          "height": 206
        },
        "id": "wLrsIob_9kYY",
        "outputId": "479c9ff7-83c3-472a-8dfd-a7503d1f205d"
      },
      "outputs": [
        {
          "data": {
            "text/html": [
              "\n",
              "  <div id=\"df-6730d682-79d6-4582-b863-140ba853f240\">\n",
              "    <div class=\"colab-df-container\">\n",
              "      <div>\n",
              "<style scoped>\n",
              "    .dataframe tbody tr th:only-of-type {\n",
              "        vertical-align: middle;\n",
              "    }\n",
              "\n",
              "    .dataframe tbody tr th {\n",
              "        vertical-align: top;\n",
              "    }\n",
              "\n",
              "    .dataframe thead th {\n",
              "        text-align: right;\n",
              "    }\n",
              "</style>\n",
              "<table border=\"1\" class=\"dataframe\">\n",
              "  <thead>\n",
              "    <tr style=\"text-align: right;\">\n",
              "      <th></th>\n",
              "      <th>City</th>\n",
              "      <th>Name</th>\n",
              "      <th>Country</th>\n",
              "      <th>geometry</th>\n",
              "    </tr>\n",
              "  </thead>\n",
              "  <tbody>\n",
              "    <tr>\n",
              "      <th>0</th>\n",
              "      <td>Brussel</td>\n",
              "      <td>Brussel-Zuid</td>\n",
              "      <td>Belgium</td>\n",
              "      <td>POINT (4.33545 50.83605)</td>\n",
              "    </tr>\n",
              "    <tr>\n",
              "      <th>1</th>\n",
              "      <td>Brussel</td>\n",
              "      <td>Brussel-Noord</td>\n",
              "      <td>Belgium</td>\n",
              "      <td>POINT (4.36015 50.86045)</td>\n",
              "    </tr>\n",
              "    <tr>\n",
              "      <th>2</th>\n",
              "      <td>Gent</td>\n",
              "      <td>Gent-Sint-Pieters</td>\n",
              "      <td>Belgium</td>\n",
              "      <td>POINT (3.71083 51.03609)</td>\n",
              "    </tr>\n",
              "    <tr>\n",
              "      <th>3</th>\n",
              "      <td>Atwerpen</td>\n",
              "      <td>Antwerpen-Centraal</td>\n",
              "      <td>Belgium</td>\n",
              "      <td>POINT (4.42115 51.21722)</td>\n",
              "    </tr>\n",
              "    <tr>\n",
              "      <th>4</th>\n",
              "      <td>Rotterdam</td>\n",
              "      <td>Rotterdam-Centraal</td>\n",
              "      <td>Netherland</td>\n",
              "      <td>POINT (4.46883 51.92528)</td>\n",
              "    </tr>\n",
              "  </tbody>\n",
              "</table>\n",
              "</div>\n",
              "      <button class=\"colab-df-convert\" onclick=\"convertToInteractive('df-6730d682-79d6-4582-b863-140ba853f240')\"\n",
              "              title=\"Convert this dataframe to an interactive table.\"\n",
              "              style=\"display:none;\">\n",
              "        \n",
              "  <svg xmlns=\"http://www.w3.org/2000/svg\" height=\"24px\"viewBox=\"0 0 24 24\"\n",
              "       width=\"24px\">\n",
              "    <path d=\"M0 0h24v24H0V0z\" fill=\"none\"/>\n",
              "    <path d=\"M18.56 5.44l.94 2.06.94-2.06 2.06-.94-2.06-.94-.94-2.06-.94 2.06-2.06.94zm-11 1L8.5 8.5l.94-2.06 2.06-.94-2.06-.94L8.5 2.5l-.94 2.06-2.06.94zm10 10l.94 2.06.94-2.06 2.06-.94-2.06-.94-.94-2.06-.94 2.06-2.06.94z\"/><path d=\"M17.41 7.96l-1.37-1.37c-.4-.4-.92-.59-1.43-.59-.52 0-1.04.2-1.43.59L10.3 9.45l-7.72 7.72c-.78.78-.78 2.05 0 2.83L4 21.41c.39.39.9.59 1.41.59.51 0 1.02-.2 1.41-.59l7.78-7.78 2.81-2.81c.8-.78.8-2.07 0-2.86zM5.41 20L4 18.59l7.72-7.72 1.47 1.35L5.41 20z\"/>\n",
              "  </svg>\n",
              "      </button>\n",
              "      \n",
              "  <style>\n",
              "    .colab-df-container {\n",
              "      display:flex;\n",
              "      flex-wrap:wrap;\n",
              "      gap: 12px;\n",
              "    }\n",
              "\n",
              "    .colab-df-convert {\n",
              "      background-color: #E8F0FE;\n",
              "      border: none;\n",
              "      border-radius: 50%;\n",
              "      cursor: pointer;\n",
              "      display: none;\n",
              "      fill: #1967D2;\n",
              "      height: 32px;\n",
              "      padding: 0 0 0 0;\n",
              "      width: 32px;\n",
              "    }\n",
              "\n",
              "    .colab-df-convert:hover {\n",
              "      background-color: #E2EBFA;\n",
              "      box-shadow: 0px 1px 2px rgba(60, 64, 67, 0.3), 0px 1px 3px 1px rgba(60, 64, 67, 0.15);\n",
              "      fill: #174EA6;\n",
              "    }\n",
              "\n",
              "    [theme=dark] .colab-df-convert {\n",
              "      background-color: #3B4455;\n",
              "      fill: #D2E3FC;\n",
              "    }\n",
              "\n",
              "    [theme=dark] .colab-df-convert:hover {\n",
              "      background-color: #434B5C;\n",
              "      box-shadow: 0px 1px 3px 1px rgba(0, 0, 0, 0.15);\n",
              "      filter: drop-shadow(0px 1px 2px rgba(0, 0, 0, 0.3));\n",
              "      fill: #FFFFFF;\n",
              "    }\n",
              "  </style>\n",
              "\n",
              "      <script>\n",
              "        const buttonEl =\n",
              "          document.querySelector('#df-6730d682-79d6-4582-b863-140ba853f240 button.colab-df-convert');\n",
              "        buttonEl.style.display =\n",
              "          google.colab.kernel.accessAllowed ? 'block' : 'none';\n",
              "\n",
              "        async function convertToInteractive(key) {\n",
              "          const element = document.querySelector('#df-6730d682-79d6-4582-b863-140ba853f240');\n",
              "          const dataTable =\n",
              "            await google.colab.kernel.invokeFunction('convertToInteractive',\n",
              "                                                     [key], {});\n",
              "          if (!dataTable) return;\n",
              "\n",
              "          const docLinkHtml = 'Like what you see? Visit the ' +\n",
              "            '<a target=\"_blank\" href=https://colab.research.google.com/notebooks/data_table.ipynb>data table notebook</a>'\n",
              "            + ' to learn more about interactive tables.';\n",
              "          element.innerHTML = '';\n",
              "          dataTable['output_type'] = 'display_data';\n",
              "          await google.colab.output.renderOutput(dataTable, element);\n",
              "          const docLink = document.createElement('div');\n",
              "          docLink.innerHTML = docLinkHtml;\n",
              "          element.appendChild(docLink);\n",
              "        }\n",
              "      </script>\n",
              "    </div>\n",
              "  </div>\n",
              "  "
            ],
            "text/plain": [
              "        City                Name     Country                  geometry\n",
              "0    Brussel        Brussel-Zuid     Belgium  POINT (4.33545 50.83605)\n",
              "1    Brussel       Brussel-Noord     Belgium  POINT (4.36015 50.86045)\n",
              "2       Gent   Gent-Sint-Pieters     Belgium  POINT (3.71083 51.03609)\n",
              "3   Atwerpen  Antwerpen-Centraal     Belgium  POINT (4.42115 51.21722)\n",
              "4  Rotterdam  Rotterdam-Centraal  Netherland  POINT (4.46883 51.92528)"
            ]
          },
          "execution_count": 79,
          "metadata": {},
          "output_type": "execute_result"
        }
      ],
      "source": [
        "b_station.drop(['Longitude', 'Latitude'],1, inplace = True)\n",
        "b_station"
      ]
    },
    {
      "cell_type": "markdown",
      "id": "sZQQvxmPeI8r",
      "metadata": {
        "id": "sZQQvxmPeI8r"
      },
      "source": [
        "# 4.2 Belgian lines\n",
        "\n",
        "After selection of the stations, we matched them with their id. Then we have to clean the geodataframe and add the last missing information."
      ]
    },
    {
      "cell_type": "code",
      "execution_count": null,
      "id": "a_bqC7IceN36",
      "metadata": {
        "id": "a_bqC7IceN36"
      },
      "outputs": [],
      "source": [
        "lines_belgium = gpd.read_file('tc-trajet-train-statique-sncb.geojson')"
      ]
    },
    {
      "cell_type": "code",
      "execution_count": null,
      "id": "Qv3nPqlqe3Hx",
      "metadata": {
        "id": "Qv3nPqlqe3Hx"
      },
      "outputs": [],
      "source": [
        "values = [603,140,166,126,259,257,54,274,172]\n",
        "lines_belgium = lines_belgium[lines_belgium.id.isin(values)] \n",
        "lines_belgium.index = range(9)"
      ]
    },
    {
      "cell_type": "code",
      "execution_count": null,
      "id": "vcP3-vbOkyEP",
      "metadata": {
        "id": "vcP3-vbOkyEP"
      },
      "outputs": [],
      "source": [
        "departure = []\n",
        "arrival = []\n",
        "for k in range(9) :\n",
        "  index_ = lines_belgium.long_name[k].index('--')\n",
        "  departure.append(lines_belgium[\"long_name\"][k][:index_])\n",
        "  arrival.append(lines_belgium[\"long_name\"][k][index_+3:])\n",
        "\n",
        "lines_belgium.loc[:,\"Departure\"] = departure\n",
        "lines_belgium.loc[:,\"Arrival\"] = arrival\n",
        "lines_belgium.loc[:,\"Country_dep\"] = ['France', 'Belgium', 'Belgium', 'Belgium', 'Belgium', 'France', 'Netherland','Belgium', 'Belgium']\n",
        "lines_belgium.loc[:,\"Country_arr\"] = 'Belgium'\n",
        "lines_belgium.drop(['short_name', 'long_name', 'id', 'route_type', 'color'],1,inplace=True)"
      ]
    },
    {
      "cell_type": "markdown",
      "id": "oFojTb9Hr9Pp",
      "metadata": {
        "id": "oFojTb9Hr9Pp"
      },
      "source": [
        "#4.3 Visualisation\n",
        "And a visualisation of the achieved map :"
      ]
    },
    {
      "cell_type": "code",
      "execution_count": null,
      "id": "MJFZknlJr9gy",
      "metadata": {
        "id": "MJFZknlJr9gy"
      },
      "outputs": [],
      "source": [
        "fig,ax = plt.subplots(figsize=(50, 30))\n",
        "b_station.plot(ax = ax, alpha=0.9, edgecolor='black')\n",
        "lines_belgium.plot(ax = ax, alpha=0.9, edgecolor='red')\n",
        "ctx.add_basemap(ax, crs = lines_belgium.crs.to_string())\n",
        "ax.set_axis_off()\n",
        "ax"
      ]
    },
    {
      "cell_type": "markdown",
      "id": "d259b514",
      "metadata": {},
      "source": [
        "# 5 The railway network of Switzerland\n",
        "\n",
        "The base is : 'linie-mit-polygon.geojson'"
      ]
    },
    {
      "cell_type": "markdown",
      "id": "68be7e8a",
      "metadata": {},
      "source": [
        "# 5.1 The display of the lines"
      ]
    },
    {
      "cell_type": "code",
      "execution_count": null,
      "id": "9d7911dd",
      "metadata": {},
      "outputs": [],
      "source": [
        "import folium\n",
        "print(folium.__version__)\n",
        "\n",
        "lines_suisse=gpd.read_file('linie-mit-polygon.geojson')\n",
        "\n",
        "kanton_map = folium.Map(location=[46.8, 8.33],\n",
        "                   tiles='OpenStreetMap', zoom_start=7)\n",
        "kanton_map.choropleth(geo_data=lines_suisse)\n",
        "kanton_map"
      ]
    },
    {
      "cell_type": "markdown",
      "id": "a9cc2aca",
      "metadata": {},
      "source": [
        "# 5.2 We add the stations \n",
        "\n",
        "With the stations, with a good map of Switzerland railways. I only choose 95 stations (the longest ones )"
      ]
    },
    {
      "cell_type": "code",
      "execution_count": 5,
      "id": "83b8ac75",
      "metadata": {},
      "outputs": [],
      "source": [
        "#We have to convert the coordinates of the dataframe in order to plot a complete map (meaning of that function)\n",
        "from pyproj import Proj, transform\n",
        "\n",
        "def convert(x,y):\n",
        "    inProj = Proj(init='epsg:2056')\n",
        "    outProj = Proj(init='epsg:4326')\n",
        "    x1,y1 = x,y\n",
        "    x2,y2 = transform(inProj,outProj,x1,y1)\n",
        "    return [y2,x2]"
      ]
    },
    {
      "cell_type": "code",
      "execution_count": null,
      "id": "637e809c",
      "metadata": {},
      "outputs": [],
      "source": [
        "import folium \n",
        "import geopandas as gpd\n",
        "import pandas as pd \n",
        "\n",
        "final_df=pd.read_csv('stations.csv')\n",
        "\n",
        "map_suisse = folium.Map(location=[46.8, 8.33],\n",
        "                   tiles='OpenStreetMap', zoom_start=7)\n",
        "for i in range(0,len(final_df)):\n",
        "      map_suisse.add_child(folium.Marker(location=convert(final_df['Coord. E'].iloc[i],final_df['Coord. N'].iloc[i]), popup=final_df['Nom (ordre alphab.)'].iloc[i]))\n",
        "\n",
        "map_suisse.choropleth(geo_data=lines_suisse)\n",
        "map_suisse"
      ]
    },
    {
      "cell_type": "markdown",
      "id": "09908254",
      "metadata": {},
      "source": [
        "We can see that stations are not always put on lines. It's due to the lack of all our databases..."
      ]
    },
    {
      "cell_type": "markdown",
      "id": "4573337f",
      "metadata": {},
      "source": [
        "# 6. Europe Visualisation\n",
        "\n",
        "In this part, we show a vizualisation of the Europe railways with the wld_trs_railways_wfp.csv"
      ]
    },
    {
      "cell_type": "code",
      "execution_count": null,
      "id": "bf41660b",
      "metadata": {},
      "outputs": [],
      "source": [
        "data=pd.read_csv('wld_trs_railways_wfp.csv')"
      ]
    },
    {
      "cell_type": "code",
      "execution_count": null,
      "id": "b7a7251f",
      "metadata": {},
      "outputs": [],
      "source": [
        "France=data[data['country']=='France']\n",
        "Belgium=data[data['country']=='Belgium']\n",
        "Austria=data[data['country']=='Austria']\n",
        "Germany=data[data['country']=='Germany']\n",
        "Suisse=data[data['country']=='Switzerland']\n"
      ]
    },
    {
      "cell_type": "code",
      "execution_count": null,
      "id": "ba0a764e",
      "metadata": {},
      "outputs": [],
      "source": [
        "\n",
        "Europe=pd.concat([France,Belgium,Austria,Germany,Suisse])\n",
        "\n",
        "from shapely import wkt\n",
        "Europe['shape'] = Europe['shape'].apply(wkt.loads)\n",
        "\n",
        "\n",
        "geodata=gpd.GeoSeries(Europe['shape'])\n",
        "geodata.plot(figsize=(20,20))\n"
      ]
    },
    {
      "cell_type": "code",
      "execution_count": null,
      "id": "c48d5072",
      "metadata": {},
      "outputs": [],
      "source": [
        "#We create a list with the  main cities of our countries\n",
        "\n",
        "Europetown=pd.read_csv('european_cities_us_standard.csv',sep=\",\")\n",
        "\n",
        "Cities=['Paris','Marseille 01','Lyon 01','Berlin','Hamburg','Mnchen','Antwerpen','Gent Gent','Charleroi','Zrich','Bern','Wien','Gratz','Linz']\n",
        "\n",
        "Europetown.head()\n",
        "\n",
        "Europetown2=Europetown[Europetown['European City']=='Lille']\n",
        "for city in Cities:\n",
        "    Europetown2=Europetown2.append(Europetown[Europetown['European City']==city])\n",
        "Europetown2\n"
      ]
    },
    {
      "cell_type": "code",
      "execution_count": null,
      "id": "93e63dc3",
      "metadata": {},
      "outputs": [],
      "source": [
        "#We plot the map_suisse\n",
        "import folium\n",
        "print(folium.__version__)\n",
        "\n",
        "\n",
        "europe= folium.Map(location=[45, 5],\n",
        "                   tiles='OpenStreetMap', zoom_start=5)\n",
        "\n",
        "for i in range(0,len(Europetown2)):\n",
        "      europe.add_child(folium.Marker(location=(Europetown2['Latitude'].iloc[i],Europetown2['Longitude'].iloc[i]), popup=Europetown2['European City'].iloc[i]))\n",
        "\n",
        "europe.choropleth(geo_data=geodata)\n",
        "europe\n"
      ]
    }
  ],
  "metadata": {
    "colab": {
      "name": "Visualisation.ipynb",
      "provenance": []
    },
    "kernelspec": {
      "display_name": "Python 3 (ipykernel)",
      "language": "python",
      "name": "python3"
    },
    "language_info": {
      "codemirror_mode": {
        "name": "ipython",
        "version": 3
      },
      "file_extension": ".py",
      "mimetype": "text/x-python",
      "name": "python",
      "nbconvert_exporter": "python",
      "pygments_lexer": "ipython3",
      "version": "3.8.5"
    }
  },
  "nbformat": 4,
  "nbformat_minor": 5
}
