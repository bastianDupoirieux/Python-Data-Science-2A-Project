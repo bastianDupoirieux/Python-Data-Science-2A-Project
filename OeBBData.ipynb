{
 "cells": [
  {
   "cell_type": "markdown",
   "id": "df495e04",
   "metadata": {},
   "source": [
    "# A look into the Austrian railway network"
   ]
  },
  {
   "cell_type": "markdown",
   "id": "edc2240d",
   "metadata": {},
   "source": [
    "We are using the ÖBB (Austria's national railway operator) open-data portal, https://data.oebb.at/\n",
    "\n",
    "We are looking at the \"Geo Netz\", i.e. the geographical rail network in Austria.\n",
    "\n",
    "The different values are defined on the open data portal's website: https://data.oebb.at/#default/datasets, GeoNetz\n",
    "\n",
    "All coordinates in this system use the MGI Austria Lambert coordinate system"
   ]
  },
  {
   "cell_type": "code",
   "execution_count": null,
   "id": "a0621b90",
   "metadata": {},
   "outputs": [],
   "source": [
    "import geopandas as gpd"
   ]
  },
  {
   "cell_type": "code",
   "execution_count": null,
   "id": "9ff7a1ba",
   "metadata": {},
   "outputs": [],
   "source": [
    "tracksAustria = 'Austria/GIP_Strecken_MLA.json'\n",
    "stationsAustria = 'Austria/GIP_Betriebsstellen_DelEUV_JSON.json'"
   ]
  },
  {
   "cell_type": "code",
   "execution_count": null,
   "id": "fcbe1579",
   "metadata": {},
   "outputs": [],
   "source": [
    "OeBBTracks = gpd.read_file(tracksAustria)"
   ]
  },
  {
   "cell_type": "code",
   "execution_count": null,
   "id": "71606970",
   "metadata": {},
   "outputs": [],
   "source": [
    "print(OeBBTracks.head())\n",
    "print(OeBBTracks.columns)\n",
    "print(len(OeBBTracks))\n",
    "print(OeBBTracks.iloc[0])"
   ]
  },
  {
   "cell_type": "markdown",
   "id": "338ceda5",
   "metadata": {},
   "source": [
    "This dataset gives the different train lines, connecting two cities, along with the geometry of these lines"
   ]
  },
  {
   "cell_type": "code",
   "execution_count": null,
   "id": "466be303",
   "metadata": {},
   "outputs": [],
   "source": [
    "OeBBStations = gdp.read_file(stationsAustria)"
   ]
  },
  {
   "cell_type": "code",
   "execution_count": null,
   "id": "ee61ab1d",
   "metadata": {},
   "outputs": [],
   "source": [
    "print(OeBBStations.head())\n",
    "print(OeBBStations.columns)\n",
    "print(len(OeBBStations))\n",
    "print(OeBBStations.iloc[0])"
   ]
  },
  {
   "cell_type": "markdown",
   "id": "aec913ea",
   "metadata": {},
   "source": [
    "This dataset gives different stations in the Austrian railway system, along with their geographical coordinates"
   ]
  }
 ],
 "metadata": {
  "kernelspec": {
   "display_name": "Python 3 (ipykernel)",
   "language": "python",
   "name": "python3"
  },
  "language_info": {
   "codemirror_mode": {
    "name": "ipython",
    "version": 3
   },
   "file_extension": ".py",
   "mimetype": "text/x-python",
   "name": "python",
   "nbconvert_exporter": "python",
   "pygments_lexer": "ipython3",
   "version": "3.8.3"
  }
 },
 "nbformat": 4,
 "nbformat_minor": 5
}
