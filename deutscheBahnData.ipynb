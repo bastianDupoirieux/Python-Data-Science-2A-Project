{
 "cells": [
  {
   "cell_type": "markdown",
   "id": "03ce5142",
   "metadata": {},
   "source": [
    "# A first look into creating a unified database with different datasets from national train companies"
   ]
  },
  {
   "cell_type": "markdown",
   "id": "cb33d7d9",
   "metadata": {},
   "source": [
    "Let's start with the deutsche Bahn\n",
    "\n",
    "For this project, we are using the DB's open Data Portal, https://data.deutschebahn.com/\n",
    "\n",
    "We'll be using geopandas to work on geographical data\n",
    "\n",
    "However, for technichal reasons, we are using the DB's 2013 data, as it's in a geojson format.\n",
    "The most recent data, from 2019, is only available as an XML file, which I haven't, as yet, figured out.\n",
    "I'll try to look into it."
   ]
  },
  {
   "cell_type": "code",
   "execution_count": null,
   "id": "8955dba2",
   "metadata": {},
   "outputs": [],
   "source": [
    "import geopandas as gpd"
   ]
  },
  {
   "cell_type": "markdown",
   "id": "50c047da",
   "metadata": {},
   "source": [
    "The first file we'll use gives geocraphical data on different train lines.\n",
    "It gives an id of the specific train line, the name of both ends of the line, and a railway line code"
   ]
  },
  {
   "cell_type": "code",
   "execution_count": null,
   "id": "da20f276",
   "metadata": {},
   "outputs": [],
   "source": [
    "DBLines = 'Germany/railwayLines.geojson'\n",
    "\n",
    "deutscheBahnLines = gpd.read_file(DBLines)"
   ]
  },
  {
   "cell_type": "code",
   "execution_count": null,
   "id": "78035985",
   "metadata": {},
   "outputs": [],
   "source": [
    "print(deutscheBahnLines.head())\n",
    "print(deutscheBahnLines.columns)\n",
    "print(len(deutscheBahnLines))\n",
    "print(deutscheBahnLines.iloc[0])"
   ]
  },
  {
   "cell_type": "markdown",
   "id": "7bcf1c5c",
   "metadata": {},
   "source": [
    "This file shows all marker points along train lines in Germany, i.e. an indication of the distance from between a defined point and a specific post. \n",
    "This data might not be particularly relevant to our project"
   ]
  },
  {
   "cell_type": "code",
   "execution_count": null,
   "id": "4466027e",
   "metadata": {},
   "outputs": [],
   "source": [
    "DBMarkerPosts = 'Germany/markerPosts.geojson'\n",
    "deutscheBahnMarkerPosts = gpd.read_file(DBMarkerPosts)"
   ]
  }
 ],
 "metadata": {
  "kernelspec": {
   "display_name": "Python 3 (ipykernel)",
   "language": "python",
   "name": "python3"
  },
  "language_info": {
   "codemirror_mode": {
    "name": "ipython",
    "version": 3
   },
   "file_extension": ".py",
   "mimetype": "text/x-python",
   "name": "python",
   "nbconvert_exporter": "python",
   "pygments_lexer": "ipython3",
   "version": "3.8.3"
  }
 },
 "nbformat": 4,
 "nbformat_minor": 5
}
